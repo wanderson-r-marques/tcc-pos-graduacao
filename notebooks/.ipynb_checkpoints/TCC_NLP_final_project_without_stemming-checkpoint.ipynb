{
 "cells": [
  {
   "cell_type": "markdown",
   "id": "03a49967",
   "metadata": {
    "id": "03a49967"
   },
   "source": [
    "# Projeto Final da Disciplina Mineração de Textos e Web Ministrada pelo Prof. Luciano Barbosa"
   ]
  },
  {
   "cell_type": "markdown",
   "id": "523da8e1",
   "metadata": {
    "id": "523da8e1"
   },
   "source": [
    "**Equipe:**\n",
    "<br>David Soares do Monte\n",
    "<br>Wanderson Rodrigues Marques\n"
   ]
  },
  {
   "cell_type": "markdown",
   "id": "vSdSld2YvNiL",
   "metadata": {
    "id": "vSdSld2YvNiL"
   },
   "source": [
    "## Descrição do Projeto"
   ]
  },
  {
   "cell_type": "markdown",
   "id": "mcbKRzH_vZX7",
   "metadata": {
    "id": "mcbKRzH_vZX7"
   },
   "source": [
    "O projeto desenvolvido teve a seguinte temática: Construção de um Sistema de Monitoramento de Reviews, e consistiu das seguintes etapas:\n",
    "\n",
    "1. Seleção de um produto a ser monitorado;\n",
    "2. Coleta de reviews de sites de e-commerce do produto selecionado, incluindo as seguintes informações:\n",
    "  * Conteúdo do review;\n",
    "  * Estrelas de avaliação;\n",
    "  * Data do review.\n",
    "3. Criação de classificador de sentimentos utilizando os seguintes critérios:\n",
    "  * Random Forest com bag-of-words;\n",
    "  * Redes: CNN, LSTM e BERT;\n",
    "  * Pré-processamento: com e sem stemming;\n",
    "  * Métricas de avaliação: F1, precision e recall.\n",
    "4. Construção de frontend contendo itens como:\n",
    "  * Plot de reviews positivos e negativos no tempo;\n",
    "  * Word cloud dos reviews;\n",
    "  * Reviews mais representativos.\n",
    "\n",
    "O frontend desenvolvido encontra-se disponível no seguinte endereço:\n",
    "https://public.tableau.com/views/MonitoramentodeReviews/Dashboard1?:language=en-US&:display_count=n&:origin=viz_share_link"
   ]
  },
  {
   "cell_type": "markdown",
   "id": "A44Y9BnYhNhW",
   "metadata": {
    "id": "A44Y9BnYhNhW"
   },
   "source": [
    "GitHub do projeto:\n",
    "<br> ..."
   ]
  },
  {
   "cell_type": "markdown",
   "id": "dWsjwHKk0xIC",
   "metadata": {
    "id": "dWsjwHKk0xIC"
   },
   "source": [
    "### Sumário das Etapas de Desenvolvimento"
   ]
  },
  {
   "cell_type": "markdown",
   "id": "sKa1gpjO06MR",
   "metadata": {
    "id": "sKa1gpjO06MR"
   },
   "source": [
    "* **Etapa 0**: Coleta das Reviews\n",
    "  * Seleção do produto;\n",
    "  * Coleta das reviews.\n",
    "* **Etapa 1**: Dataset\n",
    "  * Informações sobre o dataset\n",
    "  * Importação das Bibliotecas Necessárias\n",
    "  * Importação e Pré-processamento do Dataset\n",
    "* **Etapa 2**: Processamento dos Dados Textuais\n",
    "  * Importação das Bibliotecas Necessárias\n",
    "  * Tokenização das Sentenças\n",
    "  * Importação das Bibliotecas Necessárias\n",
    "  * Tokenização e Construção do Dicionário de Palavras\n",
    "* **Etapa 3**: Implementação dos Classificadores\n",
    "  * Importação de Bibliotecas Necessárias\n",
    "  * Pré-processamento\n",
    "  * Agrupamento para Identificação das Reviews mais Representativas\n",
    "  * C1: Random Forest\n",
    "  * C2: CNN\n",
    "    * Importação das Bibliotecas Necessárias\n",
    "    * Divisão dos Conjuntos de Treinamento, Validação e Teste - CNN\n",
    "    * Definição do Modelo - CNN\n",
    "    * Predição e Métricas de Avaliação - CNN\n",
    "    * Ajuste dos Hiperparâmetros com keras tuner - CNN\n",
    "    * Predição e Métricas de Avaliação após busca de hiperparâmetros - CNN\n",
    "  * C3: LSTM\n",
    "    * Divisão dos Conjuntos de Treino, Validação e Teste - LSTM\n",
    "    * Definição do Modelo - LSTM\n",
    "    * Predição e Métricas de Avaliação - LSTM\n",
    "    * Ajuste dos Hiperparâmetros com keras tuner - LSTM\n",
    "    * Predição e Métricas de Avaliação após busca de hiperparâmetros - LSTM\n",
    "  * C4: BERT\n",
    "    * Divisão dos Conjuntos de Treino, Validação e Teste - BERT\n",
    "    * Definição do Modelo - BERT\n",
    "    * Predição e Métricas de Avaliação - BERT\n",
    "* **Etapa 4**: Resumo das Melhores Métricas para Todos os Modelos\n",
    "* **Etapa 5**: Frontend\n",
    "  * Desenvolvimento do frontend no Tableau."
   ]
  },
  {
   "cell_type": "markdown",
   "id": "c0b197fe",
   "metadata": {
    "id": "c0b197fe"
   },
   "source": [
    "# Etapa 1: Dataset"
   ]
  },
  {
   "cell_type": "markdown",
   "id": "e6c1df3d",
   "metadata": {
    "id": "e6c1df3d"
   },
   "source": [
    "## Informações sobre o dataset\n",
    "O dataset é composto originalmente por 5890 avaliações obtidas no site da Amazon Brasil referentes ao produto \"Suporte para Notebook, OCTOO, Uptable, UP-BL, Preto\" (https://www.amazon.com.br/OCTOO-UP-BL-Suporte-Uptable-Preto/dp/B07BTC67VS/ref=zg-bs_furniture_1/144-8354270-3806822)."
   ]
  },
  {
   "cell_type": "markdown",
   "id": "92965f2d",
   "metadata": {
    "id": "92965f2d"
   },
   "source": [
    "## Importação das Bibliotecas Necessárias"
   ]
  },
  {
   "cell_type": "code",
   "execution_count": 7,
   "id": "8557a4d6",
   "metadata": {
    "ExecuteTime": {
     "end_time": "2022-03-30T19:59:52.705676Z",
     "start_time": "2022-03-30T19:59:51.945669Z"
    },
    "executionInfo": {
     "elapsed": 467,
     "status": "ok",
     "timestamp": 1657053910257,
     "user": {
      "displayName": "Wanderson Rodrigues Marques",
      "userId": "04562351185863673991"
     },
     "user_tz": 180
    },
    "id": "8557a4d6"
   },
   "outputs": [],
   "source": [
    "import pandas as pd\n",
    "import numpy as np\n",
    "import datetime as dt"
   ]
  },
  {
   "cell_type": "markdown",
   "id": "ffc33a16",
   "metadata": {
    "id": "ffc33a16"
   },
   "source": [
    "## Importação e Pré-processamento do Dataset"
   ]
  },
  {
   "cell_type": "code",
   "execution_count": 8,
   "id": "5aUTBXnTLkUI",
   "metadata": {
    "ExecuteTime": {
     "end_time": "2022-03-25T15:10:05.815376Z",
     "start_time": "2022-03-25T15:10:05.800376Z"
    },
    "colab": {
     "base_uri": "https://localhost:8080/"
    },
    "executionInfo": {
     "elapsed": 2491,
     "status": "ok",
     "timestamp": 1657053914558,
     "user": {
      "displayName": "Wanderson Rodrigues Marques",
      "userId": "04562351185863673991"
     },
     "user_tz": 180
    },
    "id": "5aUTBXnTLkUI",
    "outputId": "b47ce1b3-913d-4577-f4d2-da2e76f475e0"
   },
   "outputs": [],
   "source": [
    "# from google.colab import drive\n",
    "# drive.mount('/content/drive')"
   ]
  },
  {
   "cell_type": "code",
   "execution_count": 9,
   "id": "e41398ae",
   "metadata": {
    "ExecuteTime": {
     "end_time": "2022-03-30T20:00:30.776463Z",
     "start_time": "2022-03-30T20:00:30.699293Z"
    },
    "colab": {
     "base_uri": "https://localhost:8080/",
     "height": 424
    },
    "executionInfo": {
     "elapsed": 33,
     "status": "ok",
     "timestamp": 1657053914558,
     "user": {
      "displayName": "Wanderson Rodrigues Marques",
      "userId": "04562351185863673991"
     },
     "user_tz": 180
    },
    "id": "e41398ae",
    "outputId": "da54def3-6d71-4e9f-eabf-7f35828210b7"
   },
   "outputs": [
    {
     "data": {
      "text/html": [
       "<div>\n",
       "<style scoped>\n",
       "    .dataframe tbody tr th:only-of-type {\n",
       "        vertical-align: middle;\n",
       "    }\n",
       "\n",
       "    .dataframe tbody tr th {\n",
       "        vertical-align: top;\n",
       "    }\n",
       "\n",
       "    .dataframe thead th {\n",
       "        text-align: right;\n",
       "    }\n",
       "</style>\n",
       "<table border=\"1\" class=\"dataframe\">\n",
       "  <thead>\n",
       "    <tr style=\"text-align: right;\">\n",
       "      <th></th>\n",
       "      <th>rating</th>\n",
       "      <th>label</th>\n",
       "      <th>text_</th>\n",
       "    </tr>\n",
       "  </thead>\n",
       "  <tbody>\n",
       "    <tr>\n",
       "      <th>0</th>\n",
       "      <td>5.0</td>\n",
       "      <td>CG</td>\n",
       "      <td>Love this!  Well made, sturdy, and very comfor...</td>\n",
       "    </tr>\n",
       "    <tr>\n",
       "      <th>1</th>\n",
       "      <td>5.0</td>\n",
       "      <td>CG</td>\n",
       "      <td>love it, a great upgrade from the original.  I...</td>\n",
       "    </tr>\n",
       "    <tr>\n",
       "      <th>2</th>\n",
       "      <td>5.0</td>\n",
       "      <td>CG</td>\n",
       "      <td>This pillow saved my back. I love the look and...</td>\n",
       "    </tr>\n",
       "    <tr>\n",
       "      <th>3</th>\n",
       "      <td>1.0</td>\n",
       "      <td>CG</td>\n",
       "      <td>Missing information on how to use it, but it i...</td>\n",
       "    </tr>\n",
       "    <tr>\n",
       "      <th>4</th>\n",
       "      <td>5.0</td>\n",
       "      <td>CG</td>\n",
       "      <td>Very nice set. Good quality. We have had the s...</td>\n",
       "    </tr>\n",
       "    <tr>\n",
       "      <th>...</th>\n",
       "      <td>...</td>\n",
       "      <td>...</td>\n",
       "      <td>...</td>\n",
       "    </tr>\n",
       "    <tr>\n",
       "      <th>40427</th>\n",
       "      <td>4.0</td>\n",
       "      <td>OR</td>\n",
       "      <td>I had read some reviews saying that this bra r...</td>\n",
       "    </tr>\n",
       "    <tr>\n",
       "      <th>40428</th>\n",
       "      <td>5.0</td>\n",
       "      <td>CG</td>\n",
       "      <td>I wasn't sure exactly what it would be. It is ...</td>\n",
       "    </tr>\n",
       "    <tr>\n",
       "      <th>40429</th>\n",
       "      <td>2.0</td>\n",
       "      <td>OR</td>\n",
       "      <td>You can wear the hood by itself, wear it with ...</td>\n",
       "    </tr>\n",
       "    <tr>\n",
       "      <th>40430</th>\n",
       "      <td>1.0</td>\n",
       "      <td>CG</td>\n",
       "      <td>I liked nothing about this dress. The only rea...</td>\n",
       "    </tr>\n",
       "    <tr>\n",
       "      <th>40431</th>\n",
       "      <td>5.0</td>\n",
       "      <td>OR</td>\n",
       "      <td>I work in the wedding industry and have to wor...</td>\n",
       "    </tr>\n",
       "  </tbody>\n",
       "</table>\n",
       "<p>40432 rows × 3 columns</p>\n",
       "</div>"
      ],
      "text/plain": [
       "       rating label                                              text_\n",
       "0         5.0    CG  Love this!  Well made, sturdy, and very comfor...\n",
       "1         5.0    CG  love it, a great upgrade from the original.  I...\n",
       "2         5.0    CG  This pillow saved my back. I love the look and...\n",
       "3         1.0    CG  Missing information on how to use it, but it i...\n",
       "4         5.0    CG  Very nice set. Good quality. We have had the s...\n",
       "...       ...   ...                                                ...\n",
       "40427     4.0    OR  I had read some reviews saying that this bra r...\n",
       "40428     5.0    CG  I wasn't sure exactly what it would be. It is ...\n",
       "40429     2.0    OR  You can wear the hood by itself, wear it with ...\n",
       "40430     1.0    CG  I liked nothing about this dress. The only rea...\n",
       "40431     5.0    OR  I work in the wedding industry and have to wor...\n",
       "\n",
       "[40432 rows x 3 columns]"
      ]
     },
     "execution_count": 9,
     "metadata": {},
     "output_type": "execute_result"
    }
   ],
   "source": [
    "df = pd.read_csv('../Datasets/fake_reviews_dataset.csv', usecols=['text_', 'rating', 'label'])\n",
    "\n",
    "df.reset_index(drop=True, inplace=True)\n",
    "df"
   ]
  },
  {
   "cell_type": "code",
   "execution_count": 10,
   "id": "69402LmU6xmt",
   "metadata": {
    "executionInfo": {
     "elapsed": 32,
     "status": "ok",
     "timestamp": 1657053914559,
     "user": {
      "displayName": "Wanderson Rodrigues Marques",
      "userId": "04562351185863673991"
     },
     "user_tz": 180
    },
    "id": "69402LmU6xmt"
   },
   "outputs": [],
   "source": [
    "df.columns = ['star', 'label', 'reviews']"
   ]
  },
  {
   "cell_type": "code",
   "execution_count": 11,
   "id": "363b29c6",
   "metadata": {
    "ExecuteTime": {
     "end_time": "2022-03-30T20:00:35.421303Z",
     "start_time": "2022-03-30T20:00:35.401339Z"
    },
    "colab": {
     "base_uri": "https://localhost:8080/"
    },
    "executionInfo": {
     "elapsed": 32,
     "status": "ok",
     "timestamp": 1657053914559,
     "user": {
      "displayName": "Wanderson Rodrigues Marques",
      "userId": "04562351185863673991"
     },
     "user_tz": 180
    },
    "id": "363b29c6",
    "outputId": "e2504502-d78b-4959-9bf0-9be7365c8efb"
   },
   "outputs": [
    {
     "name": "stdout",
     "output_type": "stream",
     "text": [
      "Shape do dataset: (40432, 3)\n"
     ]
    }
   ],
   "source": [
    "# Imprime formato do dataset\n",
    "print('Shape do dataset:', df.shape)"
   ]
  },
  {
   "cell_type": "code",
   "execution_count": 12,
   "id": "eCP8hTB7AKNL",
   "metadata": {
    "executionInfo": {
     "elapsed": 26,
     "status": "ok",
     "timestamp": 1657053914560,
     "user": {
      "displayName": "Wanderson Rodrigues Marques",
      "userId": "04562351185863673991"
     },
     "user_tz": 180
    },
    "id": "eCP8hTB7AKNL"
   },
   "outputs": [],
   "source": [
    "# Row null\n",
    "df.drop(37914, axis=0,inplace=True)"
   ]
  },
  {
   "cell_type": "code",
   "execution_count": 13,
   "id": "X3YnDYlnEZay",
   "metadata": {
    "colab": {
     "base_uri": "https://localhost:8080/",
     "height": 424
    },
    "executionInfo": {
     "elapsed": 25,
     "status": "ok",
     "timestamp": 1657053914560,
     "user": {
      "displayName": "Wanderson Rodrigues Marques",
      "userId": "04562351185863673991"
     },
     "user_tz": 180
    },
    "id": "X3YnDYlnEZay",
    "outputId": "21ee2c05-9f71-4673-d5d3-366114c63774"
   },
   "outputs": [
    {
     "data": {
      "text/html": [
       "<div>\n",
       "<style scoped>\n",
       "    .dataframe tbody tr th:only-of-type {\n",
       "        vertical-align: middle;\n",
       "    }\n",
       "\n",
       "    .dataframe tbody tr th {\n",
       "        vertical-align: top;\n",
       "    }\n",
       "\n",
       "    .dataframe thead th {\n",
       "        text-align: right;\n",
       "    }\n",
       "</style>\n",
       "<table border=\"1\" class=\"dataframe\">\n",
       "  <thead>\n",
       "    <tr style=\"text-align: right;\">\n",
       "      <th></th>\n",
       "      <th>star</th>\n",
       "      <th>label</th>\n",
       "      <th>reviews</th>\n",
       "    </tr>\n",
       "  </thead>\n",
       "  <tbody>\n",
       "    <tr>\n",
       "      <th>0</th>\n",
       "      <td>5.0</td>\n",
       "      <td>CG</td>\n",
       "      <td>Love this!  Well made, sturdy, and very comfor...</td>\n",
       "    </tr>\n",
       "    <tr>\n",
       "      <th>1</th>\n",
       "      <td>5.0</td>\n",
       "      <td>CG</td>\n",
       "      <td>love it, a great upgrade from the original.  I...</td>\n",
       "    </tr>\n",
       "    <tr>\n",
       "      <th>2</th>\n",
       "      <td>5.0</td>\n",
       "      <td>CG</td>\n",
       "      <td>This pillow saved my back. I love the look and...</td>\n",
       "    </tr>\n",
       "    <tr>\n",
       "      <th>3</th>\n",
       "      <td>1.0</td>\n",
       "      <td>CG</td>\n",
       "      <td>Missing information on how to use it, but it i...</td>\n",
       "    </tr>\n",
       "    <tr>\n",
       "      <th>4</th>\n",
       "      <td>5.0</td>\n",
       "      <td>CG</td>\n",
       "      <td>Very nice set. Good quality. We have had the s...</td>\n",
       "    </tr>\n",
       "    <tr>\n",
       "      <th>...</th>\n",
       "      <td>...</td>\n",
       "      <td>...</td>\n",
       "      <td>...</td>\n",
       "    </tr>\n",
       "    <tr>\n",
       "      <th>4995</th>\n",
       "      <td>5.0</td>\n",
       "      <td>OR</td>\n",
       "      <td>Quality rack, and installed in minutes.  Deliv...</td>\n",
       "    </tr>\n",
       "    <tr>\n",
       "      <th>4996</th>\n",
       "      <td>4.0</td>\n",
       "      <td>OR</td>\n",
       "      <td>Neat idea and easy to insert your award text. ...</td>\n",
       "    </tr>\n",
       "    <tr>\n",
       "      <th>4997</th>\n",
       "      <td>5.0</td>\n",
       "      <td>OR</td>\n",
       "      <td>Don't pay for wheels with pretty pictures on t...</td>\n",
       "    </tr>\n",
       "    <tr>\n",
       "      <th>4998</th>\n",
       "      <td>3.0</td>\n",
       "      <td>OR</td>\n",
       "      <td>this seems very flimsy. I'll store it in my mo...</td>\n",
       "    </tr>\n",
       "    <tr>\n",
       "      <th>4999</th>\n",
       "      <td>5.0</td>\n",
       "      <td>OR</td>\n",
       "      <td>This is a great quality light duty rain suit. ...</td>\n",
       "    </tr>\n",
       "  </tbody>\n",
       "</table>\n",
       "<p>5000 rows × 3 columns</p>\n",
       "</div>"
      ],
      "text/plain": [
       "      star label                                            reviews\n",
       "0      5.0    CG  Love this!  Well made, sturdy, and very comfor...\n",
       "1      5.0    CG  love it, a great upgrade from the original.  I...\n",
       "2      5.0    CG  This pillow saved my back. I love the look and...\n",
       "3      1.0    CG  Missing information on how to use it, but it i...\n",
       "4      5.0    CG  Very nice set. Good quality. We have had the s...\n",
       "...    ...   ...                                                ...\n",
       "4995   5.0    OR  Quality rack, and installed in minutes.  Deliv...\n",
       "4996   4.0    OR  Neat idea and easy to insert your award text. ...\n",
       "4997   5.0    OR  Don't pay for wheels with pretty pictures on t...\n",
       "4998   3.0    OR  this seems very flimsy. I'll store it in my mo...\n",
       "4999   5.0    OR  This is a great quality light duty rain suit. ...\n",
       "\n",
       "[5000 rows x 3 columns]"
      ]
     },
     "execution_count": 13,
     "metadata": {},
     "output_type": "execute_result"
    }
   ],
   "source": [
    "df = df.iloc[0:5000,:]\n",
    "df"
   ]
  },
  {
   "cell_type": "code",
   "execution_count": 14,
   "id": "xHgFXwj-cFMX",
   "metadata": {
    "ExecuteTime": {
     "end_time": "2022-03-30T20:00:43.524064Z",
     "start_time": "2022-03-30T20:00:43.515064Z"
    },
    "colab": {
     "base_uri": "https://localhost:8080/"
    },
    "executionInfo": {
     "elapsed": 24,
     "status": "ok",
     "timestamp": 1657053914561,
     "user": {
      "displayName": "Wanderson Rodrigues Marques",
      "userId": "04562351185863673991"
     },
     "user_tz": 180
    },
    "id": "xHgFXwj-cFMX",
    "outputId": "291eff78-6bf8-484a-bfa1-40f82b785e67"
   },
   "outputs": [
    {
     "data": {
      "text/plain": [
       "star       0\n",
       "label      0\n",
       "reviews    0\n",
       "dtype: int64"
      ]
     },
     "execution_count": 14,
     "metadata": {},
     "output_type": "execute_result"
    }
   ],
   "source": [
    "# Verificação de dados ausentes\n",
    "(df.isna().sum())"
   ]
  },
  {
   "cell_type": "code",
   "execution_count": 15,
   "id": "fd1f0368",
   "metadata": {
    "ExecuteTime": {
     "end_time": "2022-03-30T20:00:47.760997Z",
     "start_time": "2022-03-30T20:00:47.737999Z"
    },
    "colab": {
     "base_uri": "https://localhost:8080/"
    },
    "executionInfo": {
     "elapsed": 20,
     "status": "ok",
     "timestamp": 1657053914561,
     "user": {
      "displayName": "Wanderson Rodrigues Marques",
      "userId": "04562351185863673991"
     },
     "user_tz": 180
    },
    "id": "fd1f0368",
    "outputId": "2f66d285-edfb-4ab2-baa8-ce2eca3e00b5"
   },
   "outputs": [
    {
     "name": "stdout",
     "output_type": "stream",
     "text": [
      "<class 'pandas.core.frame.DataFrame'>\n",
      "Int64Index: 5000 entries, 0 to 4999\n",
      "Data columns (total 3 columns):\n",
      " #   Column   Non-Null Count  Dtype  \n",
      "---  ------   --------------  -----  \n",
      " 0   star     5000 non-null   float64\n",
      " 1   label    5000 non-null   object \n",
      " 2   reviews  5000 non-null   object \n",
      "dtypes: float64(1), object(2)\n",
      "memory usage: 156.2+ KB\n"
     ]
    }
   ],
   "source": [
    "df.info()"
   ]
  },
  {
   "cell_type": "code",
   "execution_count": 16,
   "id": "5f56a31d",
   "metadata": {
    "ExecuteTime": {
     "end_time": "2022-03-30T20:00:51.542466Z",
     "start_time": "2022-03-30T20:00:51.522467Z"
    },
    "colab": {
     "base_uri": "https://localhost:8080/",
     "height": 112
    },
    "executionInfo": {
     "elapsed": 18,
     "status": "ok",
     "timestamp": 1657053914562,
     "user": {
      "displayName": "Wanderson Rodrigues Marques",
      "userId": "04562351185863673991"
     },
     "user_tz": 180
    },
    "id": "5f56a31d",
    "outputId": "501274ad-3939-499b-8f6f-9c84bd973fac"
   },
   "outputs": [
    {
     "data": {
      "text/html": [
       "<div>\n",
       "<style scoped>\n",
       "    .dataframe tbody tr th:only-of-type {\n",
       "        vertical-align: middle;\n",
       "    }\n",
       "\n",
       "    .dataframe tbody tr th {\n",
       "        vertical-align: top;\n",
       "    }\n",
       "\n",
       "    .dataframe thead th {\n",
       "        text-align: right;\n",
       "    }\n",
       "</style>\n",
       "<table border=\"1\" class=\"dataframe\">\n",
       "  <thead>\n",
       "    <tr style=\"text-align: right;\">\n",
       "      <th></th>\n",
       "      <th>count</th>\n",
       "      <th>%</th>\n",
       "    </tr>\n",
       "  </thead>\n",
       "  <tbody>\n",
       "    <tr>\n",
       "      <th>CG</th>\n",
       "      <td>2508</td>\n",
       "      <td>50.16</td>\n",
       "    </tr>\n",
       "    <tr>\n",
       "      <th>OR</th>\n",
       "      <td>2492</td>\n",
       "      <td>49.84</td>\n",
       "    </tr>\n",
       "  </tbody>\n",
       "</table>\n",
       "</div>"
      ],
      "text/plain": [
       "    count      %\n",
       "CG   2508  50.16\n",
       "OR   2492  49.84"
      ]
     },
     "execution_count": 16,
     "metadata": {},
     "output_type": "execute_result"
    }
   ],
   "source": [
    "# Verificação do balaceamento das classes - coluna 'sentiment'\n",
    "per_var = pd.DataFrame()\n",
    "per_var['count'] = df['label'].value_counts()\n",
    "per_var['%'] = per_var['count']/len(df['label'])*100\n",
    "per_var"
   ]
  },
  {
   "cell_type": "markdown",
   "id": "e78d00ba",
   "metadata": {
    "id": "e78d00ba"
   },
   "source": [
    "# Etapa 2: Processamento dos Dados Textuais"
   ]
  },
  {
   "cell_type": "markdown",
   "id": "e56b4da6",
   "metadata": {
    "id": "e56b4da6"
   },
   "source": [
    "## Importação das Bibliotecas Necessárias"
   ]
  },
  {
   "cell_type": "code",
   "execution_count": 17,
   "id": "a22fe0af",
   "metadata": {
    "ExecuteTime": {
     "end_time": "2022-03-30T20:01:00.970488Z",
     "start_time": "2022-03-30T20:00:57.609097Z"
    },
    "colab": {
     "base_uri": "https://localhost:8080/"
    },
    "executionInfo": {
     "elapsed": 17,
     "status": "ok",
     "timestamp": 1657053914562,
     "user": {
      "displayName": "Wanderson Rodrigues Marques",
      "userId": "04562351185863673991"
     },
     "user_tz": 180
    },
    "id": "a22fe0af",
    "outputId": "c624066b-6916-4f5b-e125-10f0deada518"
   },
   "outputs": [
    {
     "ename": "ModuleNotFoundError",
     "evalue": "No module named 'nltk'",
     "output_type": "error",
     "traceback": [
      "\u001b[0;31m---------------------------------------------------------------------------\u001b[0m",
      "\u001b[0;31mModuleNotFoundError\u001b[0m                       Traceback (most recent call last)",
      "Input \u001b[0;32mIn [17]\u001b[0m, in \u001b[0;36m<cell line: 4>\u001b[0;34m()\u001b[0m\n\u001b[1;32m      2\u001b[0m \u001b[38;5;28;01mfrom\u001b[39;00m \u001b[38;5;21;01mcollections\u001b[39;00m \u001b[38;5;28;01mimport\u001b[39;00m Counter\n\u001b[1;32m      3\u001b[0m \u001b[38;5;28;01mimport\u001b[39;00m \u001b[38;5;21;01mstring\u001b[39;00m\n\u001b[0;32m----> 4\u001b[0m \u001b[38;5;28;01mimport\u001b[39;00m \u001b[38;5;21;01mnltk\u001b[39;00m\n\u001b[1;32m      5\u001b[0m \u001b[38;5;66;03m#import spacy as sp\u001b[39;00m\n\u001b[1;32m      6\u001b[0m \u001b[38;5;28;01mfrom\u001b[39;00m \u001b[38;5;21;01mnltk\u001b[39;00m\u001b[38;5;21;01m.\u001b[39;00m\u001b[38;5;21;01mtokenize\u001b[39;00m \u001b[38;5;28;01mimport\u001b[39;00m word_tokenize\n",
      "\u001b[0;31mModuleNotFoundError\u001b[0m: No module named 'nltk'"
     ]
    }
   ],
   "source": [
    "#from collections import Counter\n",
    "from collections import Counter\n",
    "import string\n",
    "import nltk\n",
    "#import spacy as sp\n",
    "from nltk.tokenize import word_tokenize\n",
    "from nltk.stem import PorterStemmer\n",
    "from nltk.corpus import stopwords\n",
    "stemmer = PorterStemmer()\n",
    "\n",
    "nltk.download('stopwords')\n",
    "nltk.download('punkt') # A data model created by Jan Strunk that NLTK uses to split full texts into word lists"
   ]
  },
  {
   "cell_type": "markdown",
   "id": "d16dbc2e",
   "metadata": {
    "id": "d16dbc2e"
   },
   "source": [
    "## Tokenização das Sentenças"
   ]
  },
  {
   "cell_type": "markdown",
   "id": "5LdjzsgBFVFl",
   "metadata": {
    "id": "5LdjzsgBFVFl"
   },
   "source": [
    "### Importação das Bibliotecas Necessárias"
   ]
  },
  {
   "cell_type": "code",
   "execution_count": null,
   "id": "uKoyftaMNRcp",
   "metadata": {
    "ExecuteTime": {
     "end_time": "2022-03-30T20:01:15.858155Z",
     "start_time": "2022-03-30T20:01:15.843157Z"
    },
    "colab": {
     "base_uri": "https://localhost:8080/"
    },
    "executionInfo": {
     "elapsed": 2867,
     "status": "ok",
     "timestamp": 1657053917416,
     "user": {
      "displayName": "Wanderson Rodrigues Marques",
      "userId": "04562351185863673991"
     },
     "user_tz": 180
    },
    "id": "uKoyftaMNRcp",
    "outputId": "36d01a62-0194-427e-ca0f-1dca0cdb3b64"
   },
   "outputs": [],
   "source": [
    "!pip install gensim==4.1.2"
   ]
  },
  {
   "cell_type": "code",
   "execution_count": null,
   "id": "GEaCduvtMxHT",
   "metadata": {
    "ExecuteTime": {
     "end_time": "2022-03-30T20:01:17.616272Z",
     "start_time": "2022-03-30T20:01:17.066608Z"
    },
    "colab": {
     "base_uri": "https://localhost:8080/",
     "height": 36
    },
    "executionInfo": {
     "elapsed": 11,
     "status": "ok",
     "timestamp": 1657053917417,
     "user": {
      "displayName": "Wanderson Rodrigues Marques",
      "userId": "04562351185863673991"
     },
     "user_tz": 180
    },
    "id": "GEaCduvtMxHT",
    "outputId": "87b5d494-159a-46d3-ee31-5592792af74b"
   },
   "outputs": [],
   "source": [
    "import gensim\n",
    "gensim.__version__"
   ]
  },
  {
   "cell_type": "code",
   "execution_count": null,
   "id": "20fc0dfb",
   "metadata": {
    "ExecuteTime": {
     "end_time": "2022-03-30T20:01:20.163371Z",
     "start_time": "2022-03-30T20:01:20.153371Z"
    },
    "executionInfo": {
     "elapsed": 9,
     "status": "ok",
     "timestamp": 1657053917417,
     "user": {
      "displayName": "Wanderson Rodrigues Marques",
      "userId": "04562351185863673991"
     },
     "user_tz": 180
    },
    "id": "20fc0dfb"
   },
   "outputs": [],
   "source": [
    "from gensim.models import Word2Vec"
   ]
  },
  {
   "cell_type": "markdown",
   "id": "028701d1",
   "metadata": {
    "id": "028701d1"
   },
   "source": [
    "### Tokenização e Construção do Dicionário de Palavras"
   ]
  },
  {
   "cell_type": "code",
   "execution_count": null,
   "id": "d5dd4764",
   "metadata": {
    "ExecuteTime": {
     "end_time": "2022-03-30T20:04:04.136195Z",
     "start_time": "2022-03-30T20:04:02.763196Z"
    },
    "executionInfo": {
     "elapsed": 2576,
     "status": "ok",
     "timestamp": 1657053919984,
     "user": {
      "displayName": "Wanderson Rodrigues Marques",
      "userId": "04562351185863673991"
     },
     "user_tz": 180
    },
    "id": "d5dd4764"
   },
   "outputs": [],
   "source": [
    "# Tokenização excluindo-se a pontuação\n",
    "sentences_set_amz = []\n",
    "sentence = []\n",
    "punct_set = set(string.punctuation)\n",
    "\n",
    "for item in df['reviews']:\n",
    "  words = word_tokenize(item, language='english')\n",
    "  for token in words:\n",
    "    if token not in punct_set:  # Verifica se não é pontuação\n",
    "      sentence.append(token)\n",
    "  #if len(sentence) > 0:\n",
    "  sentences_set_amz.append(sentence)\n",
    "  sentence = []"
   ]
  },
  {
   "cell_type": "code",
   "execution_count": null,
   "id": "Wkj6ZdIy_eRt",
   "metadata": {
    "executionInfo": {
     "elapsed": 599,
     "status": "ok",
     "timestamp": 1657053920568,
     "user": {
      "displayName": "Wanderson Rodrigues Marques",
      "userId": "04562351185863673991"
     },
     "user_tz": 180
    },
    "id": "Wkj6ZdIy_eRt"
   },
   "outputs": [],
   "source": [
    "# Verifica se há alguma sentença vazia\n",
    "for i,sentence in enumerate(sentences_set_amz):\n",
    "  if len(sentence) < 1:\n",
    "    print(i)"
   ]
  },
  {
   "cell_type": "code",
   "execution_count": null,
   "id": "7A3LbFz3BXHM",
   "metadata": {
    "colab": {
     "base_uri": "https://localhost:8080/"
    },
    "executionInfo": {
     "elapsed": 9,
     "status": "ok",
     "timestamp": 1657053920569,
     "user": {
      "displayName": "Wanderson Rodrigues Marques",
      "userId": "04562351185863673991"
     },
     "user_tz": 180
    },
    "id": "7A3LbFz3BXHM",
    "outputId": "3d7f26e1-f666-4375-e392-855032376171"
   },
   "outputs": [],
   "source": [
    "# Imprime um exemplo de sentença tokenizada\n",
    "print(sentences_set_amz[4591])"
   ]
  },
  {
   "cell_type": "code",
   "execution_count": null,
   "id": "Oy-h1dP7BcDL",
   "metadata": {
    "executionInfo": {
     "elapsed": 1425,
     "status": "ok",
     "timestamp": 1657053921990,
     "user": {
      "displayName": "Wanderson Rodrigues Marques",
      "userId": "04562351185863673991"
     },
     "user_tz": 180
    },
    "id": "Oy-h1dP7BcDL"
   },
   "outputs": [],
   "source": [
    "# Treinamento do Word2Vec na base da Amazon\n",
    "VECTOR_SIZE = 100\n",
    "\n",
    "model_amazon = Word2Vec(sentences_set_amz,\n",
    "                        vector_size=VECTOR_SIZE, \n",
    "                        window=5, \n",
    "                        min_count=1, \n",
    "                        workers=3, \n",
    "                       )"
   ]
  },
  {
   "cell_type": "code",
   "execution_count": null,
   "id": "ZZip8_UQDFXI",
   "metadata": {
    "colab": {
     "base_uri": "https://localhost:8080/"
    },
    "executionInfo": {
     "elapsed": 15,
     "status": "ok",
     "timestamp": 1657053921991,
     "user": {
      "displayName": "Wanderson Rodrigues Marques",
      "userId": "04562351185863673991"
     },
     "user_tz": 180
    },
    "id": "ZZip8_UQDFXI",
    "outputId": "e3c117e1-7573-4a28-c202-1c5522a06672"
   },
   "outputs": [],
   "source": [
    "# Tamanho do vocabulário\n",
    "print('Tamanho do vocabulário do modelo treinado (model_amazon): ', len(model_amazon.wv))"
   ]
  },
  {
   "cell_type": "code",
   "execution_count": null,
   "id": "KbfHf01lDILY",
   "metadata": {
    "colab": {
     "base_uri": "https://localhost:8080/"
    },
    "executionInfo": {
     "elapsed": 12,
     "status": "ok",
     "timestamp": 1657053921991,
     "user": {
      "displayName": "Wanderson Rodrigues Marques",
      "userId": "04562351185863673991"
     },
     "user_tz": 180
    },
    "id": "KbfHf01lDILY",
    "outputId": "035c9565-5902-48d8-e8ff-0c93b2710b59"
   },
   "outputs": [],
   "source": [
    "# Exemplo de similaridade\n",
    "model_amazon.wv.most_similar('Great', topn=5)"
   ]
  },
  {
   "cell_type": "markdown",
   "id": "73a2b3c5",
   "metadata": {
    "id": "73a2b3c5"
   },
   "source": [
    "# Etapa 3: Implementação dos Classificadores"
   ]
  },
  {
   "cell_type": "markdown",
   "id": "8c23f986",
   "metadata": {
    "id": "8c23f986"
   },
   "source": [
    "## Importação de Bibliotecas Necessárias"
   ]
  },
  {
   "cell_type": "code",
   "execution_count": null,
   "id": "271278a7",
   "metadata": {
    "ExecuteTime": {
     "end_time": "2022-03-30T20:27:34.854253Z",
     "start_time": "2022-03-30T20:27:34.841290Z"
    },
    "executionInfo": {
     "elapsed": 10,
     "status": "ok",
     "timestamp": 1657053921992,
     "user": {
      "displayName": "Wanderson Rodrigues Marques",
      "userId": "04562351185863673991"
     },
     "user_tz": 180
    },
    "id": "271278a7"
   },
   "outputs": [],
   "source": [
    "import numpy as np\n",
    "import seaborn as sn\n",
    "import matplotlib.pyplot as plt\n",
    "from sklearn.preprocessing import LabelEncoder, StandardScaler, MinMaxScaler\n",
    "from sklearn.model_selection import train_test_split\n",
    "from sklearn.model_selection import RandomizedSearchCV\n",
    "from sklearn.model_selection import StratifiedKFold\n",
    "from sklearn.model_selection import cross_val_score\n",
    "from sklearn.metrics import classification_report\n",
    "from sklearn.metrics import confusion_matrix\n",
    "from sklearn.ensemble import RandomForestClassifier\n",
    "from sklearn.cluster import KMeans\n",
    "from sklearn.metrics import silhouette_samples, silhouette_score\n",
    "from sklearn.decomposition import PCA\n",
    "# from sklearn.pipeline import Pipeline"
   ]
  },
  {
   "cell_type": "markdown",
   "id": "7b01437a",
   "metadata": {
    "id": "7b01437a"
   },
   "source": [
    "## Pré-processamento"
   ]
  },
  {
   "cell_type": "markdown",
   "id": "NEx7Oi6YHA6U",
   "metadata": {
    "id": "NEx7Oi6YHA6U"
   },
   "source": [
    "* Pré-processamento da variável alvo: y = df_reviews['sentiment']"
   ]
  },
  {
   "cell_type": "code",
   "execution_count": null,
   "id": "38a6fc89",
   "metadata": {
    "ExecuteTime": {
     "end_time": "2022-03-30T20:05:46.773230Z",
     "start_time": "2022-03-30T20:05:46.746226Z"
    },
    "colab": {
     "base_uri": "https://localhost:8080/"
    },
    "executionInfo": {
     "elapsed": 9,
     "status": "ok",
     "timestamp": 1657053921992,
     "user": {
      "displayName": "Wanderson Rodrigues Marques",
      "userId": "04562351185863673991"
     },
     "user_tz": 180
    },
    "id": "38a6fc89",
    "outputId": "a5371d35-4fd7-4e9c-b24c-8c9bc4a0fae3"
   },
   "outputs": [],
   "source": [
    "label_encoder = LabelEncoder()\n",
    "y = label_encoder.fit_transform(df['label'])\n",
    "\n",
    "print('Classes numéricas:', np.unique(y))\n",
    "print('Classes:', list(label_encoder.inverse_transform(np.unique(y))))\n",
    "print('Nº de elementos de y:', len(y))"
   ]
  },
  {
   "cell_type": "markdown",
   "id": "j0kQ1t_lHVT7",
   "metadata": {
    "id": "j0kQ1t_lHVT7"
   },
   "source": [
    "* Passando as sentenças tokenizadas para o modelo treinado para obter o conjunto de embeddings 'X'."
   ]
  },
  {
   "cell_type": "code",
   "execution_count": null,
   "id": "2486f643",
   "metadata": {
    "ExecuteTime": {
     "end_time": "2022-03-30T20:05:53.130902Z",
     "start_time": "2022-03-30T20:05:52.970896Z"
    },
    "colab": {
     "base_uri": "https://localhost:8080/"
    },
    "executionInfo": {
     "elapsed": 16388,
     "status": "ok",
     "timestamp": 1657053938374,
     "user": {
      "displayName": "Wanderson Rodrigues Marques",
      "userId": "04562351185863673991"
     },
     "user_tz": 180
    },
    "id": "2486f643",
    "outputId": "1fa734e6-c649-4930-e4da-e4cc83cf56cf"
   },
   "outputs": [],
   "source": [
    "# Passando as sentenças tokenizadas para o modelo treinado para obter o conjunto de embeddings 'X'\n",
    "\n",
    "X = []\n",
    "max_len = 0\n",
    "contador = 0\n",
    "for sentence in sentences_set_amz:\n",
    "    try:\n",
    "      vector = model_amazon.wv[sentence]\n",
    "      X.append(vector)\n",
    "      max_len = max(max_len, len(vector))\n",
    "    except:\n",
    "      print(contador)\n",
    "    contador = contador+1\n",
    "\n",
    "print('max_len:', max_len)\n",
    "print('N° de elementos de X:', len(X))"
   ]
  },
  {
   "cell_type": "code",
   "execution_count": null,
   "id": "oNolEFG_GW-Q",
   "metadata": {
    "executionInfo": {
     "elapsed": 30,
     "status": "ok",
     "timestamp": 1657053938375,
     "user": {
      "displayName": "Wanderson Rodrigues Marques",
      "userId": "04562351185863673991"
     },
     "user_tz": 180
    },
    "id": "oNolEFG_GW-Q"
   },
   "outputs": [],
   "source": [
    "# Redimensionamento dos vetores \n",
    "\n",
    "def transform(exemplos, dimension):\n",
    "  results = np.zeros((len(exemplos), dimension, VECTOR_SIZE))\n",
    "  for i, sequence in enumerate(exemplos):\n",
    "    results[i, :len(sequence), :] = sequence\n",
    "  return results"
   ]
  },
  {
   "cell_type": "code",
   "execution_count": null,
   "id": "hnAN27Q3GbzN",
   "metadata": {
    "executionInfo": {
     "elapsed": 26,
     "status": "ok",
     "timestamp": 1657053938375,
     "user": {
      "displayName": "Wanderson Rodrigues Marques",
      "userId": "04562351185863673991"
     },
     "user_tz": 180
    },
    "id": "hnAN27Q3GbzN"
   },
   "outputs": [],
   "source": [
    "# Redimensionamento dos vetores \n",
    "\n",
    "def transform_zero(exemplos, dimension):\n",
    "  X_new = []\n",
    "  for i, sequence in enumerate(exemplos):\n",
    "    t = dimension - len(sequence) \n",
    "    result = np.pad(sequence, pad_width=(t, 0), mode='constant')\n",
    "    X_new.append(result)\n",
    "  return X_new"
   ]
  },
  {
   "cell_type": "code",
   "execution_count": null,
   "id": "f18ykUUnGg6x",
   "metadata": {
    "colab": {
     "base_uri": "https://localhost:8080/"
    },
    "executionInfo": {
     "elapsed": 6431,
     "status": "ok",
     "timestamp": 1657053944782,
     "user": {
      "displayName": "Wanderson Rodrigues Marques",
      "userId": "04562351185863673991"
     },
     "user_tz": 180
    },
    "id": "f18ykUUnGg6x",
    "outputId": "1d86434d-e499-4766-a017-7cec944ca150"
   },
   "outputs": [],
   "source": [
    "X = transform_zero(X, max_len)\n",
    "print(X)"
   ]
  },
  {
   "cell_type": "code",
   "execution_count": null,
   "id": "e8E3HlqPGv0l",
   "metadata": {
    "executionInfo": {
     "elapsed": 27,
     "status": "ok",
     "timestamp": 1657053944783,
     "user": {
      "displayName": "Wanderson Rodrigues Marques",
      "userId": "04562351185863673991"
     },
     "user_tz": 180
    },
    "id": "e8E3HlqPGv0l"
   },
   "outputs": [],
   "source": [
    "cv_models_results = {} # Armazena os scores da validação cruzada de cada modelo avaliado"
   ]
  },
  {
   "cell_type": "markdown",
   "id": "581c4739",
   "metadata": {
    "id": "581c4739"
   },
   "source": [
    "## C1: Random Forest"
   ]
  },
  {
   "cell_type": "markdown",
   "id": "sX7P4mvwK0Tq",
   "metadata": {
    "id": "sX7P4mvwK0Tq"
   },
   "source": [
    "* Executa a busca de parâmetros para o Random Forest utilizando o k-fold estratificado com k = 10."
   ]
  },
  {
   "cell_type": "code",
   "execution_count": null,
   "id": "868c6d5b",
   "metadata": {
    "ExecuteTime": {
     "end_time": "2022-03-30T21:14:02.567658Z",
     "start_time": "2022-03-30T21:11:44.110011Z"
    },
    "colab": {
     "base_uri": "https://localhost:8080/",
     "height": 235
    },
    "executionInfo": {
     "elapsed": 1030,
     "status": "error",
     "timestamp": 1657053945787,
     "user": {
      "displayName": "Wanderson Rodrigues Marques",
      "userId": "04562351185863673991"
     },
     "user_tz": 180
    },
    "id": "868c6d5b",
    "outputId": "58550743-0b89-4e2a-f115-542c12e34ab5"
   },
   "outputs": [],
   "source": [
    "seed = 1275\n",
    "X_rfc = np.reshape(X,(X.shape[0], max_len*VECTOR_SIZE))\n",
    "y_rfc = y\n",
    "\n",
    "# Divisao da base de dados em treinamento, validacao e teste\n",
    "X_train, X_test, y_train, y_test = train_test_split(X_rfc, y_rfc, test_size=0.2, stratify=y_rfc, random_state=seed)\n",
    "#X_train, X_valid, y_train, y_valid = train_test_split(X_train, y_train, test_size = 0.2, stratify=y_train, random_state=seed)\n",
    "\n",
    "# Instanciando o modelo\n",
    "rfc = RandomForestClassifier(random_state=seed)\n",
    "\n",
    "# K-fold estratificado com k = 10\n",
    "cv = StratifiedKFold(n_splits=10)\n",
    "\n",
    "# definição dos parâmetros para a árvore de decisão\n",
    "param_distributions = { \n",
    "                        'n_estimators': [10,11,12,15,16,17,18,19,20],\n",
    "                        'criterion': ['gini', 'entropy'],\n",
    "                        'max_depth': [12,14,15,16,17,18,20],\n",
    "                        'min_samples_split': [15,16,17,18,19,20,21,25],\n",
    "                        'min_samples_leaf': [4,5,6,7,8,9,10],\n",
    "                        'max_features':['auto', 'sqrt'] #, 'log2']\n",
    "                      }\n",
    "\n",
    "# define random search for decision tree\n",
    "rnd_search_rfc = RandomizedSearchCV(  estimator=rfc, \n",
    "                                      param_distributions = param_distributions, \n",
    "                                      n_iter=25, scoring='f1', \n",
    "                                      n_jobs=3, cv=cv, random_state=seed\n",
    "                                    )\n",
    "# execute search\n",
    "result_rfc = rnd_search_rfc.fit(X_train, y_train)"
   ]
  },
  {
   "cell_type": "markdown",
   "id": "oIvCqGASLS_F",
   "metadata": {
    "id": "oIvCqGASLS_F"
   },
   "source": [
    "* Sumariza as métricas de avaliação para o Random Forest."
   ]
  },
  {
   "cell_type": "code",
   "execution_count": null,
   "id": "04368520",
   "metadata": {
    "ExecuteTime": {
     "end_time": "2022-03-30T21:14:19.512831Z",
     "start_time": "2022-03-30T21:14:02.569659Z"
    },
    "executionInfo": {
     "elapsed": 17,
     "status": "aborted",
     "timestamp": 1657053944784,
     "user": {
      "displayName": "Wanderson Rodrigues Marques",
      "userId": "04562351185863673991"
     },
     "user_tz": 180
    },
    "id": "04368520"
   },
   "outputs": [],
   "source": [
    "# summarize result for random forest\n",
    "print('=========Random Search Results for RandomForest==========')\n",
    "print('Best Score: %s' % result_rfc.best_score_)\n",
    "print('Best Hyperparameters: %s' % result_rfc.best_params_)\n",
    "\n",
    "# Instanciando e avaliando o modelo\n",
    "RFC = RandomForestClassifier(**result_rfc.best_params_, random_state=seed)\n",
    "\n",
    "model = RFC.fit(X_train, y_train)\n",
    "y_predicted = RFC.predict(X_test)\n",
    "\n",
    "print('\\nDesempenho médio do RandomForest:')\n",
    "\n",
    "cv_results = cross_val_score(RFC, X_train, y_train, cv=cv, scoring='f1')\n",
    "#cv_models_results['randomForest'] = cv_results\n",
    "\n",
    "name = 'RandomForest'\n",
    "msg = \"%s: %f (%f)\" % (name, cv_results.mean(), cv_results.std())\n",
    "print(msg)\n",
    "\n",
    "print(\"\\nAcuracia do Random Forest: Treinamento\",  RFC.score(X_train, y_train),\" Teste\", RFC.score(X_test, y_test))\n",
    "print(\"\\nClassification report:\\n\", classification_report(y_test, y_predicted))\n",
    "print(\"Confusion matrix:\\n\", confusion_matrix(y_test, y_predicted))"
   ]
  },
  {
   "cell_type": "code",
   "execution_count": null,
   "id": "ef028f3c",
   "metadata": {
    "ExecuteTime": {
     "end_time": "2022-03-30T21:17:14.425353Z",
     "start_time": "2022-03-30T21:17:14.305346Z"
    },
    "executionInfo": {
     "elapsed": 16,
     "status": "aborted",
     "timestamp": 1657053944784,
     "user": {
      "displayName": "Wanderson Rodrigues Marques",
      "userId": "04562351185863673991"
     },
     "user_tz": 180
    },
    "id": "ef028f3c"
   },
   "outputs": [],
   "source": [
    "# Matriz de confusão com heatmap\n",
    "rf_confusion_matrix = pd.crosstab(y_test, y_predicted, rownames=['Valor Atual'], colnames=['Valor Predito'])\n",
    "\n",
    "sn.heatmap(rf_confusion_matrix, annot=True, fmt=\"d\", cmap='inferno', linewidths=.5)\n",
    "plt.show()"
   ]
  },
  {
   "cell_type": "markdown",
   "id": "0D6DSmjGUQjX",
   "metadata": {
    "id": "0D6DSmjGUQjX"
   },
   "source": [
    "## C2: CNN"
   ]
  },
  {
   "cell_type": "markdown",
   "id": "RoQe48DTLytj",
   "metadata": {
    "id": "RoQe48DTLytj"
   },
   "source": [
    "### Importação das Bibliotecas Necessárias"
   ]
  },
  {
   "cell_type": "markdown",
   "id": "KJBU5FhtTkeg",
   "metadata": {
    "id": "KJBU5FhtTkeg"
   },
   "source": [
    "Tensorflow Addons: https://github.com/tensorflow/addons"
   ]
  },
  {
   "cell_type": "code",
   "execution_count": null,
   "id": "2XIYeL9u1m4k",
   "metadata": {
    "ExecuteTime": {
     "end_time": "2022-03-30T21:23:51.899955Z",
     "start_time": "2022-03-30T21:23:48.592912Z"
    },
    "colab": {
     "base_uri": "https://localhost:8080/"
    },
    "executionInfo": {
     "elapsed": 7649,
     "status": "ok",
     "timestamp": 1657054019661,
     "user": {
      "displayName": "Wanderson Rodrigues Marques",
      "userId": "04562351185863673991"
     },
     "user_tz": 180
    },
    "id": "2XIYeL9u1m4k",
    "outputId": "2629e0ff-9054-44fb-95bd-87aebe0dc91a"
   },
   "outputs": [],
   "source": [
    "!pip install tensorflow-addons"
   ]
  },
  {
   "cell_type": "code",
   "execution_count": null,
   "id": "b34cd8d0",
   "metadata": {
    "ExecuteTime": {
     "end_time": "2022-03-30T21:35:19.212213Z",
     "start_time": "2022-03-30T21:35:19.002212Z"
    },
    "executionInfo": {
     "elapsed": 575,
     "status": "ok",
     "timestamp": 1657054025063,
     "user": {
      "displayName": "Wanderson Rodrigues Marques",
      "userId": "04562351185863673991"
     },
     "user_tz": 180
    },
    "id": "b34cd8d0"
   },
   "outputs": [],
   "source": [
    "import tensorflow as tf\n",
    "from tensorflow import keras\n",
    "import tensorflow_addons as tfa\n",
    "from tensorflow.keras import Sequential\n",
    "from tensorflow.keras.layers import Dense, Dropout, LSTM, Conv1D #Embedding, Input"
   ]
  },
  {
   "cell_type": "code",
   "execution_count": null,
   "id": "9RXebTQw4czW",
   "metadata": {
    "ExecuteTime": {
     "end_time": "2022-03-30T21:35:26.615889Z",
     "start_time": "2022-03-30T21:35:26.610888Z"
    },
    "colab": {
     "base_uri": "https://localhost:8080/"
    },
    "executionInfo": {
     "elapsed": 4,
     "status": "ok",
     "timestamp": 1657054029778,
     "user": {
      "displayName": "Wanderson Rodrigues Marques",
      "userId": "04562351185863673991"
     },
     "user_tz": 180
    },
    "id": "9RXebTQw4czW",
    "outputId": "9535b39c-637b-42cb-b34c-c89e77980308"
   },
   "outputs": [],
   "source": [
    "print(\"Tensorflow Version: \", tf.__version__)\n",
    "print(\"GPUs Available: \", len(tf.config.list_physical_devices('GPU')))\n",
    "print(\"Tensorflow Adons Version: \", tfa.__version__)"
   ]
  },
  {
   "cell_type": "markdown",
   "id": "Ldz53W3JMAib",
   "metadata": {
    "id": "Ldz53W3JMAib"
   },
   "source": [
    "### Divisão dos Conjuntos de Treinamento, Validação e Teste - CNN"
   ]
  },
  {
   "cell_type": "code",
   "execution_count": null,
   "id": "6Xid5AaiPA_8",
   "metadata": {
    "ExecuteTime": {
     "end_time": "2022-03-30T21:35:34.620905Z",
     "start_time": "2022-03-30T21:35:34.321907Z"
    },
    "colab": {
     "base_uri": "https://localhost:8080/",
     "height": 252
    },
    "executionInfo": {
     "elapsed": 453,
     "status": "error",
     "timestamp": 1657054035639,
     "user": {
      "displayName": "Wanderson Rodrigues Marques",
      "userId": "04562351185863673991"
     },
     "user_tz": 180
    },
    "id": "6Xid5AaiPA_8",
    "outputId": "83fdf236-6363-45a4-d75d-d71a404d486a"
   },
   "outputs": [],
   "source": [
    "seed = 1275\n",
    "# Divisao da base de dados em treinamento, validacao e teste\n",
    "X_train_cnn, X_test_cnn, y_train_cnn, y_test_cnn = train_test_split(X, y, test_size=0.1, stratify=y, random_state=seed)\n",
    "X_train_cnn, X_valid_cnn, y_train_cnn, y_valid_cnn = train_test_split(X_train_cnn, y_train_cnn, test_size = 0.2, stratify=y_train_cnn, random_state=seed)\n",
    "\n",
    "print('Shape do Conjunto de Treino: ', X_train_cnn.shape)\n",
    "print('Shape das labels de Treino: ', y_train_cnn.shape)\n",
    "print('Shape do Conjunto de Validação: ', X_valid_cnn.shape)\n",
    "print('Shape das labels de Validação: ', y_valid_cnn.shape)\n",
    "print('Shape do Conjunto de Teste: ', X_test_cnn.shape)\n",
    "print('Shape das labels de Teste: ', y_test_cnn.shape)"
   ]
  },
  {
   "cell_type": "markdown",
   "id": "Te_ukvHCMXMq",
   "metadata": {
    "id": "Te_ukvHCMXMq"
   },
   "source": [
    "### Definição do Modelo - CNN"
   ]
  },
  {
   "cell_type": "code",
   "execution_count": null,
   "id": "kxCXYJiJUP8T",
   "metadata": {
    "ExecuteTime": {
     "end_time": "2022-03-30T21:35:44.794760Z",
     "start_time": "2022-03-30T21:35:42.401706Z"
    },
    "executionInfo": {
     "elapsed": 12,
     "status": "aborted",
     "timestamp": 1657053994010,
     "user": {
      "displayName": "Wanderson Rodrigues Marques",
      "userId": "04562351185863673991"
     },
     "user_tz": 180
    },
    "id": "kxCXYJiJUP8T"
   },
   "outputs": [],
   "source": [
    "INPUT_SHAPE = (max_len, VECTOR_SIZE,)\n",
    "\n",
    "# Hiperparameters\n",
    "FILTERS_LAYER_1=32\n",
    "KERNEL_SIZE=3\n",
    "HIDDEN_LAYER_1_NODES=20 #100\n",
    "HIDDEN_LAYER_2_NODES=10 #50\n",
    "DROPOUT_PROB=0.30\n",
    "\n",
    "model_cnn = keras.models.Sequential([\n",
    "    keras.layers.Conv1D(FILTERS_LAYER_1, KERNEL_SIZE, strides= 1, padding=\"same\", activation='relu', input_shape=INPUT_SHAPE),\n",
    "    keras.layers.GlobalMaxPooling1D(),\n",
    "    keras.layers.Dense(HIDDEN_LAYER_1_NODES, activation='relu'),\n",
    "    keras.layers.Dropout(DROPOUT_PROB),\n",
    "    keras.layers.Dense(HIDDEN_LAYER_2_NODES, activation='relu'),\n",
    "    keras.layers.Dropout(DROPOUT_PROB),\n",
    "    keras.layers.Dense(1, activation='sigmoid')\n",
    "])\n",
    "\n",
    "# Obs.: A última camada utiliza função de ativação sigmoid por se tratar de uma \n",
    "# classificação binária: a avaliação é positiva ou negativa\n",
    "\n",
    "model_cnn.summary()"
   ]
  },
  {
   "cell_type": "code",
   "execution_count": null,
   "id": "6Qc1_SEfVfv2",
   "metadata": {
    "ExecuteTime": {
     "end_time": "2022-03-30T21:35:50.280670Z",
     "start_time": "2022-03-30T21:35:50.249670Z"
    },
    "executionInfo": {
     "elapsed": 12,
     "status": "aborted",
     "timestamp": 1657053994010,
     "user": {
      "displayName": "Wanderson Rodrigues Marques",
      "userId": "04562351185863673991"
     },
     "user_tz": 180
    },
    "id": "6Qc1_SEfVfv2"
   },
   "outputs": [],
   "source": [
    "from tensorflow_addons.metrics.f_scores import F1Score\n",
    "# F1Score = tfa.metrics.F1Score(num_classes=2, average=\"micro\", threshold=0.5)\n",
    "model_cnn.compile(loss=\"binary_crossentropy\", optimizer=\"adam\", metrics= F1Score(num_classes=2, average=\"micro\", threshold=0.6))"
   ]
  },
  {
   "cell_type": "code",
   "execution_count": null,
   "id": "__6i-sM_VkMe",
   "metadata": {
    "ExecuteTime": {
     "end_time": "2022-03-30T21:35:52.573476Z",
     "start_time": "2022-03-30T21:35:52.562511Z"
    },
    "executionInfo": {
     "elapsed": 13,
     "status": "aborted",
     "timestamp": 1657053994011,
     "user": {
      "displayName": "Wanderson Rodrigues Marques",
      "userId": "04562351185863673991"
     },
     "user_tz": 180
    },
    "id": "__6i-sM_VkMe"
   },
   "outputs": [],
   "source": [
    "BATCH_SIZE = 25    # Tamanho do batch de treinamento\n",
    "N_EPOCHS = 100"
   ]
  },
  {
   "cell_type": "code",
   "execution_count": null,
   "id": "l5ZhMnhyVlRU",
   "metadata": {
    "ExecuteTime": {
     "end_time": "2022-03-30T21:36:20.473107Z",
     "start_time": "2022-03-30T21:35:57.594712Z"
    },
    "executionInfo": {
     "elapsed": 13,
     "status": "aborted",
     "timestamp": 1657053994011,
     "user": {
      "displayName": "Wanderson Rodrigues Marques",
      "userId": "04562351185863673991"
     },
     "user_tz": 180
    },
    "id": "l5ZhMnhyVlRU"
   },
   "outputs": [],
   "source": [
    "callback = tf.keras.callbacks.EarlyStopping(monitor='val_loss', patience=10) \n",
    "# This callback will stop the training when there is no improvement in the loss for five consecutive epochs.\n",
    "\n",
    "history_cnn = model_cnn.fit(\n",
    "                            x=X_train_cnn, \n",
    "                            y=y_train_cnn, \n",
    "                            epochs=N_EPOCHS, \n",
    "                            batch_size=BATCH_SIZE, \n",
    "                            verbose='auto', \n",
    "                            validation_data=(X_valid_cnn,y_valid_cnn),\n",
    "                            callbacks=[callback],\n",
    "                          )\n",
    "print('\\nQuantidade de épocas executadas: ', len(history_cnn.history['val_loss']))"
   ]
  },
  {
   "cell_type": "markdown",
   "id": "C_gyHJTwMrQL",
   "metadata": {
    "id": "C_gyHJTwMrQL"
   },
   "source": [
    "* Loss e F1-score para os conjuntos de validação e teste."
   ]
  },
  {
   "cell_type": "code",
   "execution_count": null,
   "id": "MVCpzcEmArUL",
   "metadata": {
    "ExecuteTime": {
     "end_time": "2022-03-30T21:36:41.456840Z",
     "start_time": "2022-03-30T21:36:40.626873Z"
    },
    "executionInfo": {
     "elapsed": 14,
     "status": "aborted",
     "timestamp": 1657053994012,
     "user": {
      "displayName": "Wanderson Rodrigues Marques",
      "userId": "04562351185863673991"
     },
     "user_tz": 180
    },
    "id": "MVCpzcEmArUL"
   },
   "outputs": [],
   "source": [
    "valid_loss_cnn, valid_f1_score_cnn = model_cnn.evaluate(X_valid_cnn, y_valid_cnn, verbose = 'auto')\n",
    "\n",
    "print('Valid Loss:', valid_loss_cnn)\n",
    "print('Valid F1 Score:', valid_f1_score_cnn)"
   ]
  },
  {
   "cell_type": "code",
   "execution_count": null,
   "id": "YqCOZXBraZXg",
   "metadata": {
    "ExecuteTime": {
     "end_time": "2022-03-30T21:36:47.395736Z",
     "start_time": "2022-03-30T21:36:46.970327Z"
    },
    "executionInfo": {
     "elapsed": 14,
     "status": "aborted",
     "timestamp": 1657053994012,
     "user": {
      "displayName": "Wanderson Rodrigues Marques",
      "userId": "04562351185863673991"
     },
     "user_tz": 180
    },
    "id": "YqCOZXBraZXg"
   },
   "outputs": [],
   "source": [
    "test_loss_cnn, test_f1_score_cnn = model_cnn.evaluate(X_test_cnn, y_test_cnn, verbose = 'auto')\n",
    "\n",
    "print('Test Loss:', test_loss_cnn)\n",
    "print('Test F1 Score:', test_f1_score_cnn)"
   ]
  },
  {
   "cell_type": "markdown",
   "id": "T-qWtH6SM7l0",
   "metadata": {
    "id": "T-qWtH6SM7l0"
   },
   "source": [
    "* Plotagem do histórico de treinamento  do modelo - CNN"
   ]
  },
  {
   "cell_type": "code",
   "execution_count": null,
   "id": "awjTqAvDaKjC",
   "metadata": {
    "ExecuteTime": {
     "end_time": "2022-03-30T21:36:51.221853Z",
     "start_time": "2022-03-30T21:36:51.009816Z"
    },
    "executionInfo": {
     "elapsed": 14,
     "status": "aborted",
     "timestamp": 1657053994012,
     "user": {
      "displayName": "Wanderson Rodrigues Marques",
      "userId": "04562351185863673991"
     },
     "user_tz": 180
    },
    "id": "awjTqAvDaKjC"
   },
   "outputs": [],
   "source": [
    "plt.figure(figsize=(15, 5))\n",
    "plt.subplot(1, 2, 1)\n",
    "plt.plot(history_cnn.history['val_f1_score'], color='blue', label='val_f1_score')\n",
    "plt.plot(history_cnn.history['f1_score'], color='red', label='train_f1_score')\n",
    "plt.title('f1_score')\n",
    "plt.xlabel('Epochs')\n",
    "plt.ylabel('f1_score')\n",
    "#plt.ylim(None, 1)\n",
    "plt.legend()\n",
    "plt.subplot(1, 2, 2)\n",
    "plt.plot(history_cnn.history['val_loss'], color='blue', label='val_loss')\n",
    "plt.plot(history_cnn.history['loss'], color='red', label='train_loss')\n",
    "plt.title('Loss')\n",
    "plt.xlabel('Epochs')\n",
    "plt.ylabel('Loss')\n",
    "#plt.ylim(0, None);\n",
    "plt.legend();"
   ]
  },
  {
   "cell_type": "markdown",
   "id": "6sezdwziNFtC",
   "metadata": {
    "id": "6sezdwziNFtC"
   },
   "source": [
    "### Predição e Métricas de Avaliação - CNN"
   ]
  },
  {
   "cell_type": "code",
   "execution_count": null,
   "id": "MNq2URaNa07X",
   "metadata": {
    "ExecuteTime": {
     "end_time": "2022-03-30T21:37:02.150291Z",
     "start_time": "2022-03-30T21:37:01.898444Z"
    },
    "executionInfo": {
     "elapsed": 14,
     "status": "aborted",
     "timestamp": 1657053994013,
     "user": {
      "displayName": "Wanderson Rodrigues Marques",
      "userId": "04562351185863673991"
     },
     "user_tz": 180
    },
    "id": "MNq2URaNa07X"
   },
   "outputs": [],
   "source": [
    "y_predicted_cnn = (model_cnn.predict(X_test_cnn) > 0.5).astype('int8')\n",
    "print(np.reshape(y_predicted_cnn, len(y_predicted_cnn)))"
   ]
  },
  {
   "cell_type": "code",
   "execution_count": null,
   "id": "ZMGh7kMHbM5e",
   "metadata": {
    "ExecuteTime": {
     "end_time": "2022-03-30T21:37:06.421913Z",
     "start_time": "2022-03-30T21:37:06.401899Z"
    },
    "executionInfo": {
     "elapsed": 14,
     "status": "aborted",
     "timestamp": 1657053994013,
     "user": {
      "displayName": "Wanderson Rodrigues Marques",
      "userId": "04562351185863673991"
     },
     "user_tz": 180
    },
    "id": "ZMGh7kMHbM5e"
   },
   "outputs": [],
   "source": [
    "print(\"\\nClassification report:\\n\", classification_report(y_test_cnn, y_predicted_cnn))\n",
    "print(\"Confusion matrix:\\n\", confusion_matrix(y_test_cnn, y_predicted_cnn))"
   ]
  },
  {
   "cell_type": "code",
   "execution_count": null,
   "id": "cW-kHvmtd329",
   "metadata": {
    "ExecuteTime": {
     "end_time": "2022-03-30T21:38:12.681864Z",
     "start_time": "2022-03-30T21:38:12.546865Z"
    },
    "executionInfo": {
     "elapsed": 14,
     "status": "aborted",
     "timestamp": 1657053994013,
     "user": {
      "displayName": "Wanderson Rodrigues Marques",
      "userId": "04562351185863673991"
     },
     "user_tz": 180
    },
    "id": "cW-kHvmtd329"
   },
   "outputs": [],
   "source": [
    "# Matriz de confusão com heatmap\n",
    "cnn_confusion_matrix = pd.crosstab(np.reshape(y_test_cnn, len(y_test_cnn)), np.reshape(y_predicted_cnn, len(y_predicted_cnn)), rownames=['Valor Atual'], colnames=['Valor Predito'])\n",
    "\n",
    "sn.heatmap(cnn_confusion_matrix, annot=True, fmt=\"d\", cmap='inferno', linewidths=.5)\n",
    "plt.show()"
   ]
  },
  {
   "cell_type": "markdown",
   "id": "pR1wHN7hA0DL",
   "metadata": {
    "id": "pR1wHN7hA0DL"
   },
   "source": [
    "### Ajuste dos Hiperparâmetros com keras tuner - CNN"
   ]
  },
  {
   "cell_type": "markdown",
   "id": "_AROBCuugmQQ",
   "metadata": {
    "id": "_AROBCuugmQQ"
   },
   "source": [
    "* Material de Referência: https://www.tensorflow.org/tutorials/keras/keras_tuner"
   ]
  },
  {
   "cell_type": "code",
   "execution_count": null,
   "id": "X5cAo58ABL2k",
   "metadata": {
    "ExecuteTime": {
     "end_time": "2022-03-25T15:15:47.927692Z",
     "start_time": "2022-03-25T15:15:45.841649Z"
    },
    "executionInfo": {
     "elapsed": 15,
     "status": "aborted",
     "timestamp": 1657053994014,
     "user": {
      "displayName": "Wanderson Rodrigues Marques",
      "userId": "04562351185863673991"
     },
     "user_tz": 180
    },
    "id": "X5cAo58ABL2k"
   },
   "outputs": [],
   "source": [
    "#!pip install -q -U keras-tuner"
   ]
  },
  {
   "cell_type": "code",
   "execution_count": null,
   "id": "U1bmzz7KAzTz",
   "metadata": {
    "ExecuteTime": {
     "end_time": "2022-03-30T21:43:06.468874Z",
     "start_time": "2022-03-30T21:43:06.323738Z"
    },
    "executionInfo": {
     "elapsed": 15,
     "status": "aborted",
     "timestamp": 1657053994014,
     "user": {
      "displayName": "Wanderson Rodrigues Marques",
      "userId": "04562351185863673991"
     },
     "user_tz": 180
    },
    "id": "U1bmzz7KAzTz"
   },
   "outputs": [],
   "source": [
    "import keras_tuner as kt"
   ]
  },
  {
   "cell_type": "markdown",
   "id": "N2qAzvjvhJIS",
   "metadata": {
    "id": "N2qAzvjvhJIS"
   },
   "source": [
    "* Definindo o modelo e determinando quais hiperparâmetros serão testados."
   ]
  },
  {
   "cell_type": "code",
   "execution_count": null,
   "id": "z42BC7s1BbdV",
   "metadata": {
    "ExecuteTime": {
     "end_time": "2022-03-31T02:24:16.357961Z",
     "start_time": "2022-03-31T02:24:16.332931Z"
    },
    "executionInfo": {
     "elapsed": 15,
     "status": "aborted",
     "timestamp": 1657053994014,
     "user": {
      "displayName": "Wanderson Rodrigues Marques",
      "userId": "04562351185863673991"
     },
     "user_tz": 180
    },
    "id": "z42BC7s1BbdV"
   },
   "outputs": [],
   "source": [
    "from tensorflow_addons.metrics.f_scores import F1Score\n",
    "METRICS_F1 = F1Score(num_classes=2, average=\"micro\", threshold=0.6)\n",
    "\n",
    "def model_cnn_builder(hp):\n",
    "  # Hiperparameters\n",
    "  KERNEL_SIZE=3\n",
    "  DROPOUT_PROB=0.30\n",
    "  INPUT_SHAPE = (max_len, VECTOR_SIZE,)\n",
    "\n",
    "  HP_FILTERS_LAYER_1 = hp.Int('filters_1', min_value=16, max_value=256, step=16)\n",
    "  HP_HIDDEN_LAYER_1_UNITS = hp.Int('units_1', min_value=10, max_value=100, step=10)\n",
    "  HP_HIDDEN_LAYER_2_UNITS = hp.Int('units_2', min_value=10, max_value=50, step=10)\n",
    "\n",
    "  model_cnn_tn = keras.models.Sequential([\n",
    "      keras.layers.Conv1D(filters=HP_FILTERS_LAYER_1, kernel_size=KERNEL_SIZE, strides= 1, padding=\"same\", activation='relu', input_shape=INPUT_SHAPE),\n",
    "      keras.layers.GlobalMaxPooling1D(),\n",
    "      keras.layers.Dense(units=HP_HIDDEN_LAYER_1_UNITS, activation='relu'),\n",
    "      keras.layers.Dropout(DROPOUT_PROB),\n",
    "      keras.layers.Dense(units=HP_HIDDEN_LAYER_2_UNITS, activation='relu'),\n",
    "      keras.layers.Dropout(DROPOUT_PROB),\n",
    "      keras.layers.Dense(1, activation='sigmoid')\n",
    "  ])\n",
    "    \n",
    "  #from tensorflow_addons.metrics.f_scores import F1Score\n",
    "\n",
    "  HP_LEARNING_RATE = hp.Choice('learning_rate', values=[1e-2, 1e-3, 1e-4, 1e-5, 1e-6])\n",
    "\n",
    "  model_cnn_tn.compile(\n",
    "      loss=\"binary_crossentropy\", \n",
    "      optimizer=keras.optimizers.Adam(learning_rate=HP_LEARNING_RATE), \n",
    "      metrics=METRICS_F1\n",
    "  )\n",
    "\n",
    "  return model_cnn_tn"
   ]
  },
  {
   "cell_type": "markdown",
   "id": "DV_xzbkhhYDL",
   "metadata": {
    "id": "DV_xzbkhhYDL"
   },
   "source": [
    "* Definindo o objetivo da busca de hiperparâmetros e determinando o número máximo de épocas."
   ]
  },
  {
   "cell_type": "code",
   "execution_count": null,
   "id": "uJG7pu8_Fs0W",
   "metadata": {
    "ExecuteTime": {
     "end_time": "2022-03-31T09:28:48.276684Z",
     "start_time": "2022-03-31T09:28:48.222461Z"
    },
    "executionInfo": {
     "elapsed": 15,
     "status": "aborted",
     "timestamp": 1657053994014,
     "user": {
      "displayName": "Wanderson Rodrigues Marques",
      "userId": "04562351185863673991"
     },
     "user_tz": 180
    },
    "id": "uJG7pu8_Fs0W"
   },
   "outputs": [],
   "source": [
    "MAX_EPOCHS = 150\n",
    "\n",
    "tuner_cnn = kt.Hyperband(\n",
    "                          model_cnn_builder,\n",
    "                          objective= kt.Objective('val_loss', direction='min'), #(\"val_f1_score\", direction=\"max\"),\n",
    "                          max_epochs=MAX_EPOCHS,\n",
    "                          factor=3,\n",
    "                          directory='cnn_tuner_dir_2',\n",
    "                          project_name='cnn_tuner_val_loss_1'\n",
    "                        )\n",
    "#tuner_cnn.search_space_summary()"
   ]
  },
  {
   "cell_type": "markdown",
   "id": "2b_sd80GhqdJ",
   "metadata": {
    "id": "2b_sd80GhqdJ"
   },
   "source": [
    "* Executa a busca de hiperparâmetros."
   ]
  },
  {
   "cell_type": "code",
   "execution_count": null,
   "id": "EE2kaEBOGvnH",
   "metadata": {
    "ExecuteTime": {
     "end_time": "2022-03-31T10:22:34.396938Z",
     "start_time": "2022-03-31T09:56:54.579363Z"
    },
    "executionInfo": {
     "elapsed": 16,
     "status": "aborted",
     "timestamp": 1657053994015,
     "user": {
      "displayName": "Wanderson Rodrigues Marques",
      "userId": "04562351185863673991"
     },
     "user_tz": 180
    },
    "id": "EE2kaEBOGvnH"
   },
   "outputs": [],
   "source": [
    "stop_early = tf.keras.callbacks.EarlyStopping(monitor='val_loss', patience=10)\n",
    "\n",
    "BATCH_SIZE = 25    # Tamanho do batch de treinamento\n",
    "N_EPOCHS = 100\n",
    "\n",
    "tuner_cnn.search(\n",
    "                  x=X_train_cnn, \n",
    "                  y=y_train_cnn, \n",
    "                  epochs=N_EPOCHS, \n",
    "                  batch_size=BATCH_SIZE, \n",
    "                  #verbose='auto', \n",
    "                  validation_data=(X_valid_cnn,y_valid_cnn),\n",
    "                  callbacks=[stop_early],\n",
    "                )"
   ]
  },
  {
   "cell_type": "markdown",
   "id": "7EYN-onhiJ5g",
   "metadata": {
    "id": "7EYN-onhiJ5g"
   },
   "source": [
    "* Exibe os melhores hiperparâmetros encontrados durante a busca."
   ]
  },
  {
   "cell_type": "code",
   "execution_count": null,
   "id": "hcC6otY2O9Jb",
   "metadata": {
    "ExecuteTime": {
     "end_time": "2022-03-31T10:28:28.873652Z",
     "start_time": "2022-03-31T10:28:28.856649Z"
    },
    "executionInfo": {
     "elapsed": 16,
     "status": "aborted",
     "timestamp": 1657053994015,
     "user": {
      "displayName": "Wanderson Rodrigues Marques",
      "userId": "04562351185863673991"
     },
     "user_tz": 180
    },
    "id": "hcC6otY2O9Jb"
   },
   "outputs": [],
   "source": [
    "# Get the optimal hyperparameters\n",
    "best_hps=tuner_cnn.get_best_hyperparameters(num_trials=1)[0]\n",
    "\n",
    "for h_param in ['units_1', 'units_2'] + ['learning_rate'] + ['filters_1']:\n",
    "  print(h_param, best_hps.get(h_param))"
   ]
  },
  {
   "cell_type": "markdown",
   "id": "0uLRz6yQiXW-",
   "metadata": {
    "id": "0uLRz6yQiXW-"
   },
   "source": [
    "* Encontra o número ótimo de épocas para treinar o modelo com os hiperparâmetros obtidos na busca."
   ]
  },
  {
   "cell_type": "code",
   "execution_count": null,
   "id": "SHbpaeT7H4cm",
   "metadata": {
    "ExecuteTime": {
     "end_time": "2022-04-01T19:28:25.651668Z",
     "start_time": "2022-04-01T19:26:28.535775Z"
    },
    "executionInfo": {
     "elapsed": 15,
     "status": "aborted",
     "timestamp": 1657053994015,
     "user": {
      "displayName": "Wanderson Rodrigues Marques",
      "userId": "04562351185863673991"
     },
     "user_tz": 180
    },
    "id": "SHbpaeT7H4cm"
   },
   "outputs": [],
   "source": [
    "# Build the model with the optimal hyperparameters and train it on the data for 50 epochs\n",
    "model_cnn_tn = tuner_cnn.hypermodel.build(best_hps)\n",
    "\n",
    "history_cnn_tn = model_cnn_tn.fit(\n",
    "                                    x=X_train_cnn, \n",
    "                                    y=y_train_cnn, \n",
    "                                    epochs=N_EPOCHS, \n",
    "                                    batch_size=BATCH_SIZE, \n",
    "                                    verbose='auto',\n",
    "                                    validation_data=(X_valid_cnn,y_valid_cnn)\n",
    "                                  )\n",
    "\n",
    "val_loss_per_epoch = history_cnn_tn.history['val_loss']\n",
    "best_epoch = val_loss_per_epoch.index(min(val_loss_per_epoch)) + 1\n",
    "print('Best epoch: %d' % (best_epoch,))"
   ]
  },
  {
   "cell_type": "code",
   "execution_count": null,
   "id": "3c45e5e5",
   "metadata": {
    "ExecuteTime": {
     "end_time": "2022-04-01T19:28:30.651920Z",
     "start_time": "2022-04-01T19:28:30.422919Z"
    },
    "executionInfo": {
     "elapsed": 15,
     "status": "aborted",
     "timestamp": 1657053994015,
     "user": {
      "displayName": "Wanderson Rodrigues Marques",
      "userId": "04562351185863673991"
     },
     "user_tz": 180
    },
    "id": "3c45e5e5"
   },
   "outputs": [],
   "source": [
    "plt.figure(figsize=(15, 5))\n",
    "plt.subplot(1, 2, 1)\n",
    "plt.plot(history_cnn_tn.history['val_f1_score'], color='blue', label='val_f1_score')\n",
    "plt.plot(history_cnn_tn.history['f1_score'], color='red', label='train_f1_score')\n",
    "plt.title('f1_score')\n",
    "plt.xlabel('Epochs')\n",
    "plt.ylabel('f1_score')\n",
    "#plt.ylim(None, 1)\n",
    "plt.legend()\n",
    "plt.subplot(1, 2, 2)\n",
    "plt.plot(history_cnn_tn.history['val_loss'], color='blue', label='val_loss')\n",
    "plt.plot(history_cnn_tn.history['loss'], color='red', label='train_loss')\n",
    "plt.title('Loss')\n",
    "plt.xlabel('Epochs')\n",
    "plt.ylabel('Loss')\n",
    "#plt.ylim(0, None);\n",
    "plt.legend();"
   ]
  },
  {
   "cell_type": "markdown",
   "id": "vuRfr7rEij1C",
   "metadata": {
    "id": "vuRfr7rEij1C"
   },
   "source": [
    "* Treina o modelo com os melhores hiperparâmetros e com o melhor número de épocas."
   ]
  },
  {
   "cell_type": "code",
   "execution_count": null,
   "id": "vriA0x_UleTJ",
   "metadata": {
    "ExecuteTime": {
     "end_time": "2022-04-01T19:28:44.716014Z",
     "start_time": "2022-04-01T19:28:37.655014Z"
    },
    "executionInfo": {
     "elapsed": 16,
     "status": "aborted",
     "timestamp": 1657053994016,
     "user": {
      "displayName": "Wanderson Rodrigues Marques",
      "userId": "04562351185863673991"
     },
     "user_tz": 180
    },
    "id": "vriA0x_UleTJ"
   },
   "outputs": [],
   "source": [
    "hypermodel_cnn = tuner_cnn.hypermodel.build(best_hps)\n",
    "\n",
    "# Retrain the model\n",
    "hypermodel_cnn.fit(\n",
    "                    x=X_train_cnn, \n",
    "                    y=y_train_cnn,  \n",
    "                    epochs=best_epoch,\n",
    "                    batch_size=BATCH_SIZE, \n",
    "                    verbose='auto',\n",
    "                    validation_data=(X_valid_cnn,y_valid_cnn)\n",
    "                  )"
   ]
  },
  {
   "cell_type": "markdown",
   "id": "ikEKiV9kiz7r",
   "metadata": {
    "id": "ikEKiV9kiz7r"
   },
   "source": [
    "* Calcula a loss e o F1-score para o conjunto de teste."
   ]
  },
  {
   "cell_type": "code",
   "execution_count": null,
   "id": "97U1qky-mJOn",
   "metadata": {
    "ExecuteTime": {
     "end_time": "2022-04-01T19:28:49.048070Z",
     "start_time": "2022-04-01T19:28:48.727359Z"
    },
    "executionInfo": {
     "elapsed": 16,
     "status": "aborted",
     "timestamp": 1657053994016,
     "user": {
      "displayName": "Wanderson Rodrigues Marques",
      "userId": "04562351185863673991"
     },
     "user_tz": 180
    },
    "id": "97U1qky-mJOn"
   },
   "outputs": [],
   "source": [
    "test_loss_cnn_tn, test_f1_score_cnn_tn = hypermodel_cnn.evaluate(X_test_cnn, y_test_cnn, verbose = 'auto')\n",
    "\n",
    "print('Test Loss:', test_loss_cnn_tn)\n",
    "print('Test F1 Score:', test_f1_score_cnn_tn)"
   ]
  },
  {
   "cell_type": "markdown",
   "id": "Tx1wadeBjBZE",
   "metadata": {
    "id": "Tx1wadeBjBZE"
   },
   "source": [
    "### Predição e Métricas de Avaliação após busca de hiperparâmetros - CNN"
   ]
  },
  {
   "cell_type": "code",
   "execution_count": null,
   "id": "legj8lmsSTZQ",
   "metadata": {
    "ExecuteTime": {
     "end_time": "2022-04-01T19:28:55.007889Z",
     "start_time": "2022-04-01T19:28:54.722888Z"
    },
    "executionInfo": {
     "elapsed": 16,
     "status": "aborted",
     "timestamp": 1657053994016,
     "user": {
      "displayName": "Wanderson Rodrigues Marques",
      "userId": "04562351185863673991"
     },
     "user_tz": 180
    },
    "id": "legj8lmsSTZQ"
   },
   "outputs": [],
   "source": [
    "y_predicted_hp_cnn = (hypermodel_cnn.predict(X_test_cnn) > 0.5).astype('int8')\n",
    "\n",
    "print(\"\\nClassification report:\\n\", classification_report(y_test_cnn, y_predicted_hp_cnn))\n",
    "print(\"Confusion matrix:\\n\", confusion_matrix(y_test_cnn, y_predicted_hp_cnn))"
   ]
  },
  {
   "cell_type": "code",
   "execution_count": null,
   "id": "035719c5",
   "metadata": {
    "ExecuteTime": {
     "end_time": "2022-04-01T20:50:27.976774Z",
     "start_time": "2022-04-01T20:50:27.847731Z"
    },
    "executionInfo": {
     "elapsed": 16,
     "status": "aborted",
     "timestamp": 1657053994017,
     "user": {
      "displayName": "Wanderson Rodrigues Marques",
      "userId": "04562351185863673991"
     },
     "user_tz": 180
    },
    "id": "035719c5"
   },
   "outputs": [],
   "source": [
    "cnn_confusion_matrix = pd.crosstab(np.reshape(y_test_cnn, len(y_test_cnn)), np.reshape(y_predicted_hp_cnn, len(y_predicted_hp_cnn)), rownames=['Valor Atual'], colnames=['Valor Predito'])\n",
    "\n",
    "sn.heatmap(cnn_confusion_matrix, annot=True, fmt=\"d\", cmap='viridis', linewidths=.5)\n",
    "plt.show()"
   ]
  },
  {
   "cell_type": "markdown",
   "id": "ee0b4840",
   "metadata": {
    "id": "ee0b4840"
   },
   "source": [
    "## C3: LSTM"
   ]
  },
  {
   "cell_type": "markdown",
   "id": "FuRxmtvXjvd7",
   "metadata": {
    "id": "FuRxmtvXjvd7"
   },
   "source": [
    "### Divisão dos Conjuntos de Treino, Validação e Teste - LSTM"
   ]
  },
  {
   "cell_type": "code",
   "execution_count": null,
   "id": "-Gu59qTwm4gj",
   "metadata": {
    "ExecuteTime": {
     "end_time": "2022-03-30T21:38:40.289786Z",
     "start_time": "2022-03-30T21:38:39.978797Z"
    },
    "executionInfo": {
     "elapsed": 1008,
     "status": "aborted",
     "timestamp": 1657053945778,
     "user": {
      "displayName": "Wanderson Rodrigues Marques",
      "userId": "04562351185863673991"
     },
     "user_tz": 180
    },
    "id": "-Gu59qTwm4gj"
   },
   "outputs": [],
   "source": [
    "seed = 1275\n",
    "# Divisao da base de dados em treinamento, validacao e teste\n",
    "X_train_lstm, X_test_lstm, y_train_lstm, y_test_lstm = train_test_split(X, y, test_size=0.1, stratify=y, random_state=seed)\n",
    "X_train_lstm, X_valid_lstm, y_train_lstm, y_valid_lstm = train_test_split(X_train_lstm, y_train_lstm, test_size = 0.2, stratify=y_train_lstm, random_state=seed)\n",
    "\n",
    "print('Shape do Conjunto de Treino: ', X_train_lstm.shape)\n",
    "print('Shape das labels de Treino: ', y_train_lstm.shape)\n",
    "print('Shape do Conjunto de Validação: ', X_valid_lstm.shape)\n",
    "print('Shape das labels de Validação: ', y_valid_lstm.shape)\n",
    "print('Shape do Conjunto de Teste: ', X_test_lstm.shape)\n",
    "print('Shape das labels de Teste: ', y_test_lstm.shape)"
   ]
  },
  {
   "cell_type": "markdown",
   "id": "uT8xBq9ckE8e",
   "metadata": {
    "id": "uT8xBq9ckE8e"
   },
   "source": [
    "### Definição do Modelo - LSTM"
   ]
  },
  {
   "cell_type": "code",
   "execution_count": null,
   "id": "0b2567fe",
   "metadata": {
    "ExecuteTime": {
     "end_time": "2022-03-30T21:38:43.291915Z",
     "start_time": "2022-03-30T21:38:43.010960Z"
    },
    "executionInfo": {
     "elapsed": 1009,
     "status": "aborted",
     "timestamp": 1657053945779,
     "user": {
      "displayName": "Wanderson Rodrigues Marques",
      "userId": "04562351185863673991"
     },
     "user_tz": 180
    },
    "id": "0b2567fe"
   },
   "outputs": [],
   "source": [
    "#vocab_size = len(model_amazon.wv.vocab)\n",
    "#embedding_dim = 10\n",
    "\n",
    "INPUT_SHAPE = (max_len,VECTOR_SIZE,)\n",
    "\n",
    "model_lstm = Sequential([ \n",
    "                         keras.layers.LSTM(32, input_shape=INPUT_SHAPE, activation='tanh'),\n",
    "                         keras.layers.Dropout(0.3),   # Regularizador\n",
    "                         keras.layers.Dense(20, activation='relu'),\n",
    "                         keras.layers.Dropout(0.3),   # Regularizador\n",
    "                         keras.layers.Dense(10, activation='relu'),\n",
    "                         keras.layers.Dropout(0.3),   # Regularizador\n",
    "                         keras.layers.Dense(1, activation='sigmoid')\n",
    "                        ])\n",
    "model_lstm.summary()"
   ]
  },
  {
   "cell_type": "markdown",
   "id": "X4dhMXijkQ2f",
   "metadata": {
    "id": "X4dhMXijkQ2f"
   },
   "source": [
    "* Treinamento do modelo - LSTM."
   ]
  },
  {
   "cell_type": "code",
   "execution_count": null,
   "id": "nM63lJ_YON1E",
   "metadata": {
    "ExecuteTime": {
     "end_time": "2022-03-30T21:38:48.067731Z",
     "start_time": "2022-03-30T21:38:48.050732Z"
    },
    "executionInfo": {
     "elapsed": 1009,
     "status": "aborted",
     "timestamp": 1657053945779,
     "user": {
      "displayName": "Wanderson Rodrigues Marques",
      "userId": "04562351185863673991"
     },
     "user_tz": 180
    },
    "id": "nM63lJ_YON1E"
   },
   "outputs": [],
   "source": [
    "from tensorflow_addons.metrics.f_scores import F1Score\n",
    "\n",
    "model_lstm.compile(loss=\"binary_crossentropy\", optimizer=\"adam\", metrics= F1Score(num_classes=2, average=\"micro\", threshold=0.6))"
   ]
  },
  {
   "cell_type": "code",
   "execution_count": null,
   "id": "r7ouDeExOT0w",
   "metadata": {
    "ExecuteTime": {
     "end_time": "2022-03-30T21:38:51.281962Z",
     "start_time": "2022-03-30T21:38:51.266963Z"
    },
    "executionInfo": {
     "elapsed": 1009,
     "status": "aborted",
     "timestamp": 1657053945779,
     "user": {
      "displayName": "Wanderson Rodrigues Marques",
      "userId": "04562351185863673991"
     },
     "user_tz": 180
    },
    "id": "r7ouDeExOT0w"
   },
   "outputs": [],
   "source": [
    "batch_size = 25    # Tamanho do batch de treinamento\n",
    "n_epochs = 100"
   ]
  },
  {
   "cell_type": "code",
   "execution_count": null,
   "id": "Evz70p7DOZVb",
   "metadata": {
    "ExecuteTime": {
     "end_time": "2022-03-30T21:40:11.878492Z",
     "start_time": "2022-03-30T21:38:56.267515Z"
    },
    "executionInfo": {
     "elapsed": 1010,
     "status": "aborted",
     "timestamp": 1657053945780,
     "user": {
      "displayName": "Wanderson Rodrigues Marques",
      "userId": "04562351185863673991"
     },
     "user_tz": 180
    },
    "id": "Evz70p7DOZVb"
   },
   "outputs": [],
   "source": [
    "callback_lstm = tf.keras.callbacks.EarlyStopping(monitor='val_loss', patience=10) \n",
    "# This callback will stop the training when there is no improvement inthe loss for five consecutive epochs.\n",
    "\n",
    "history_lstm = model_lstm.fit(\n",
    "                          x=X_train_lstm, \n",
    "                          y=y_train_lstm, \n",
    "                          epochs=n_epochs, \n",
    "                          batch_size=batch_size, \n",
    "                          verbose='auto', \n",
    "                          validation_data=(X_valid_lstm,y_valid_lstm),\n",
    "                          callbacks=[callback_lstm],\n",
    "                        )\n",
    "print('\\nQuantidade de épocas executadas: ', len(history_lstm.history['val_f1_score']))"
   ]
  },
  {
   "cell_type": "code",
   "execution_count": null,
   "id": "WWVaMVxBIDOq",
   "metadata": {
    "ExecuteTime": {
     "end_time": "2022-03-30T21:40:18.730464Z",
     "start_time": "2022-03-30T21:40:18.283428Z"
    },
    "executionInfo": {
     "elapsed": 1010,
     "status": "aborted",
     "timestamp": 1657053945780,
     "user": {
      "displayName": "Wanderson Rodrigues Marques",
      "userId": "04562351185863673991"
     },
     "user_tz": 180
    },
    "id": "WWVaMVxBIDOq"
   },
   "outputs": [],
   "source": [
    "plt.figure(figsize=(15, 5))\n",
    "plt.subplot(1, 2, 1)\n",
    "plt.plot(history_lstm.history['val_f1_score'], color='blue', label='val_f1_score')\n",
    "plt.plot(history_lstm.history['f1_score'], color='red', label='train_f1_score')\n",
    "plt.title('f1_score')\n",
    "plt.xlabel('Epochs')\n",
    "plt.ylabel('f1_score')\n",
    "#plt.ylim(None, 1)\n",
    "plt.legend()\n",
    "plt.subplot(1, 2, 2)\n",
    "plt.plot(history_lstm.history['val_loss'], color='blue', label='val_loss')\n",
    "plt.plot(history_lstm.history['loss'], color='red', label='train_loss')\n",
    "plt.title('Loss')\n",
    "plt.xlabel('Epochs')\n",
    "plt.ylabel('Loss')\n",
    "#plt.ylim(0, None);\n",
    "plt.legend();"
   ]
  },
  {
   "cell_type": "markdown",
   "id": "MRTXHy1Skbxd",
   "metadata": {
    "id": "MRTXHy1Skbxd"
   },
   "source": [
    "### Predição e Métricas de Avaliação - LSTM"
   ]
  },
  {
   "cell_type": "code",
   "execution_count": null,
   "id": "LFxiLbC6p4WM",
   "metadata": {
    "ExecuteTime": {
     "end_time": "2022-03-30T21:40:28.440911Z",
     "start_time": "2022-03-30T21:40:28.028934Z"
    },
    "executionInfo": {
     "elapsed": 1010,
     "status": "aborted",
     "timestamp": 1657053945781,
     "user": {
      "displayName": "Wanderson Rodrigues Marques",
      "userId": "04562351185863673991"
     },
     "user_tz": 180
    },
    "id": "LFxiLbC6p4WM"
   },
   "outputs": [],
   "source": [
    "test_loss_lstm, test_f1_score_lstm = model_lstm.evaluate(X_test_lstm, y_test_lstm, verbose = 'auto')\n",
    "\n",
    "print('Test Loss:', test_loss_lstm)\n",
    "print('Test F1 Score:', test_f1_score_lstm)"
   ]
  },
  {
   "cell_type": "code",
   "execution_count": null,
   "id": "WZGB58X2noXy",
   "metadata": {
    "ExecuteTime": {
     "end_time": "2022-03-30T21:40:32.319151Z",
     "start_time": "2022-03-30T21:40:31.699338Z"
    },
    "executionInfo": {
     "elapsed": 1010,
     "status": "aborted",
     "timestamp": 1657053945781,
     "user": {
      "displayName": "Wanderson Rodrigues Marques",
      "userId": "04562351185863673991"
     },
     "user_tz": 180
    },
    "id": "WZGB58X2noXy"
   },
   "outputs": [],
   "source": [
    "y_predicted_lstm = (model_lstm.predict(X_test_lstm) > 0.5).astype('int8')\n",
    "print(np.reshape(y_predicted_lstm, len(y_predicted_lstm)))"
   ]
  },
  {
   "cell_type": "code",
   "execution_count": null,
   "id": "FQFjVt9slTyM",
   "metadata": {
    "ExecuteTime": {
     "end_time": "2022-03-30T21:40:36.424668Z",
     "start_time": "2022-03-30T21:40:36.402668Z"
    },
    "executionInfo": {
     "elapsed": 1011,
     "status": "aborted",
     "timestamp": 1657053945782,
     "user": {
      "displayName": "Wanderson Rodrigues Marques",
      "userId": "04562351185863673991"
     },
     "user_tz": 180
    },
    "id": "FQFjVt9slTyM"
   },
   "outputs": [],
   "source": [
    "print(\"\\nClassification report:\\n\", classification_report(y_test_lstm, y_predicted_lstm))\n",
    "print(\"Confusion matrix:\\n\", confusion_matrix(y_test_lstm, y_predicted_lstm))"
   ]
  },
  {
   "cell_type": "code",
   "execution_count": null,
   "id": "a0PzCZfWn2kU",
   "metadata": {
    "ExecuteTime": {
     "end_time": "2022-03-30T21:40:48.866800Z",
     "start_time": "2022-03-30T21:40:48.747807Z"
    },
    "executionInfo": {
     "elapsed": 1011,
     "status": "aborted",
     "timestamp": 1657053945782,
     "user": {
      "displayName": "Wanderson Rodrigues Marques",
      "userId": "04562351185863673991"
     },
     "user_tz": 180
    },
    "id": "a0PzCZfWn2kU"
   },
   "outputs": [],
   "source": [
    "lstm_confusion_matrix = pd.crosstab(np.reshape(y_test_lstm, len(y_test_lstm)), np.reshape(y_predicted_lstm, len(y_predicted_lstm)), rownames=['Valor Atual'], colnames=['Valor Predito'])\n",
    "\n",
    "sn.heatmap(lstm_confusion_matrix, annot=True, fmt=\"d\", cmap='inferno', linewidths=.5)\n",
    "plt.show()"
   ]
  },
  {
   "cell_type": "markdown",
   "id": "31a724d0",
   "metadata": {
    "id": "31a724d0"
   },
   "source": [
    "### Ajuste dos Hiperparâmetros com keras tuner - LSTM"
   ]
  },
  {
   "cell_type": "markdown",
   "id": "JFm_7alJk3Pg",
   "metadata": {
    "id": "JFm_7alJk3Pg"
   },
   "source": [
    "* Definindo o modelo e determinando quais hiperparâmetros serão testados."
   ]
  },
  {
   "cell_type": "code",
   "execution_count": null,
   "id": "b3f6aaa0",
   "metadata": {
    "ExecuteTime": {
     "end_time": "2022-03-31T01:07:29.207675Z",
     "start_time": "2022-03-31T01:07:29.184677Z"
    },
    "executionInfo": {
     "elapsed": 1011,
     "status": "aborted",
     "timestamp": 1657053945782,
     "user": {
      "displayName": "Wanderson Rodrigues Marques",
      "userId": "04562351185863673991"
     },
     "user_tz": 180
    },
    "id": "b3f6aaa0"
   },
   "outputs": [],
   "source": [
    "from tensorflow_addons.metrics.f_scores import F1Score\n",
    "METRICS_F1 = F1Score(num_classes=2, average=\"micro\", threshold=0.6)\n",
    "\n",
    "def model_lstm_builder(hp):\n",
    "  # Hiperparameters\n",
    "  #KERNEL_SIZE=3\n",
    "  DROPOUT_PROB=0.30\n",
    "  INPUT_SHAPE = (max_len, VECTOR_SIZE,)\n",
    "\n",
    "  HP_LSTM_UNITS = hp.Int('units_1', min_value=16, max_value=256, step=16)\n",
    "  HP_HIDDEN_LAYER_1_UNITS = hp.Int('units_2', min_value=10, max_value=100, step=10)\n",
    "  HP_HIDDEN_LAYER_2_UNITS = hp.Int('units_3', min_value=10, max_value=50, step=10)\n",
    "\n",
    "  INPUT_SHAPE = (max_len,VECTOR_SIZE,)\n",
    "\n",
    "  model_lstm_tn = Sequential([ \n",
    "                         keras.layers.LSTM(32, input_shape=INPUT_SHAPE, activation='tanh'),\n",
    "                         keras.layers.Dropout(DROPOUT_PROB),   # Regularizador\n",
    "                         keras.layers.Dense(20, activation='relu'),\n",
    "                         keras.layers.Dropout(DROPOUT_PROB),   # Regularizador\n",
    "                         keras.layers.Dense(10, activation='relu'),\n",
    "                         keras.layers.Dropout(DROPOUT_PROB),   # Regularizador\n",
    "                         keras.layers.Dense(1, activation='sigmoid')\n",
    "                        ])\n",
    "\n",
    "  HP_LEARNING_RATE = hp.Choice('learning_rate', values=[1e-2, 1e-3, 1e-4, 1e-5, 1e-6])\n",
    "\n",
    "  model_lstm_tn.compile(\n",
    "      loss=\"binary_crossentropy\", \n",
    "      optimizer=keras.optimizers.Adam(learning_rate=HP_LEARNING_RATE), \n",
    "      metrics=METRICS_F1\n",
    "  )\n",
    "\n",
    "  return model_lstm_tn"
   ]
  },
  {
   "cell_type": "markdown",
   "id": "DDgtDRPGk-fo",
   "metadata": {
    "id": "DDgtDRPGk-fo"
   },
   "source": [
    "* Definindo o objetivo da busca de hiperparâmetros e determinando o número máximo de épocas."
   ]
  },
  {
   "cell_type": "code",
   "execution_count": null,
   "id": "dfb38e5e",
   "metadata": {
    "ExecuteTime": {
     "end_time": "2022-03-31T14:35:05.228193Z",
     "start_time": "2022-03-31T14:34:39.762009Z"
    },
    "executionInfo": {
     "elapsed": 1012,
     "status": "aborted",
     "timestamp": 1657053945783,
     "user": {
      "displayName": "Wanderson Rodrigues Marques",
      "userId": "04562351185863673991"
     },
     "user_tz": 180
    },
    "id": "dfb38e5e"
   },
   "outputs": [],
   "source": [
    "MAX_EPOCHS = 150\n",
    "\n",
    "tuner_lstm = kt.Hyperband(\n",
    "                          model_lstm_builder,\n",
    "                          objective= kt.Objective(\"val_loss\", direction=\"min\"),\n",
    "                          max_epochs=MAX_EPOCHS,\n",
    "                          factor=3,\n",
    "                          directory='lstm_tuner_dir_1',\n",
    "                          project_name='lstm_tuner_4'\n",
    "                        )\n",
    "#tuner_cnn.search_space_summary()"
   ]
  },
  {
   "cell_type": "markdown",
   "id": "cYhk_lNDlFm0",
   "metadata": {
    "id": "cYhk_lNDlFm0"
   },
   "source": [
    "* Executa a busca de hiperparâmetros."
   ]
  },
  {
   "cell_type": "code",
   "execution_count": null,
   "id": "fdc1c15c",
   "metadata": {
    "ExecuteTime": {
     "end_time": "2022-03-31T16:27:49.784896Z",
     "start_time": "2022-03-31T15:44:41.983686Z"
    },
    "executionInfo": {
     "elapsed": 1013,
     "status": "aborted",
     "timestamp": 1657053945784,
     "user": {
      "displayName": "Wanderson Rodrigues Marques",
      "userId": "04562351185863673991"
     },
     "user_tz": 180
    },
    "id": "fdc1c15c"
   },
   "outputs": [],
   "source": [
    "stop_early = tf.keras.callbacks.EarlyStopping(monitor='val_loss', patience=10)\n",
    "\n",
    "BATCH_SIZE = 25    # Tamanho do batch de treinamento\n",
    "N_EPOCHS = 100\n",
    "\n",
    "tuner_lstm.search(\n",
    "                  x=X_train_lstm, \n",
    "                  y=y_train_lstm, \n",
    "                  epochs=N_EPOCHS, \n",
    "                  batch_size=BATCH_SIZE, \n",
    "                  #verbose='auto', \n",
    "                  validation_data=(X_valid_lstm,y_valid_lstm),\n",
    "                  callbacks=[stop_early],\n",
    "                )"
   ]
  },
  {
   "cell_type": "markdown",
   "id": "D1PV8Q7KlLV7",
   "metadata": {
    "id": "D1PV8Q7KlLV7"
   },
   "source": [
    "* Exibe os melhores hiperparâmetros encontrados durante a busca."
   ]
  },
  {
   "cell_type": "code",
   "execution_count": null,
   "id": "f4a4cb24",
   "metadata": {
    "ExecuteTime": {
     "end_time": "2022-03-31T16:49:13.420211Z",
     "start_time": "2022-03-31T16:49:13.403212Z"
    },
    "executionInfo": {
     "elapsed": 1013,
     "status": "aborted",
     "timestamp": 1657053945784,
     "user": {
      "displayName": "Wanderson Rodrigues Marques",
      "userId": "04562351185863673991"
     },
     "user_tz": 180
    },
    "id": "f4a4cb24"
   },
   "outputs": [],
   "source": [
    "# Get the optimal hyperparameters\n",
    "best_hps_lstm=tuner_lstm.get_best_hyperparameters(num_trials=1)[0]\n",
    "\n",
    "for h_param in ['units_1', 'units_2', 'units_3'] + ['learning_rate']:\n",
    "  print(h_param, best_hps_lstm.get(h_param))"
   ]
  },
  {
   "cell_type": "markdown",
   "id": "_TX_yNmYlUxB",
   "metadata": {
    "id": "_TX_yNmYlUxB"
   },
   "source": [
    "* Encontra o número ótimo de épocas para treinar o modelo com os hiperparâmetros obtidos na busca."
   ]
  },
  {
   "cell_type": "code",
   "execution_count": null,
   "id": "3ff57951",
   "metadata": {
    "ExecuteTime": {
     "end_time": "2022-04-01T19:22:37.532059Z",
     "start_time": "2022-04-01T19:20:00.686820Z"
    },
    "executionInfo": {
     "elapsed": 1013,
     "status": "aborted",
     "timestamp": 1657053945784,
     "user": {
      "displayName": "Wanderson Rodrigues Marques",
      "userId": "04562351185863673991"
     },
     "user_tz": 180
    },
    "id": "3ff57951"
   },
   "outputs": [],
   "source": [
    "# Encontre o número ótimo de épocas para treinar o modelo com os hiperparâmetros obtidos na busca\n",
    "\n",
    "# Build the model with the optimal hyperparameters and train it on the data for 50 epochs\n",
    "model_lstm_tn = tuner_lstm.hypermodel.build(best_hps_lstm)\n",
    "\n",
    "history_lstm_tn = model_lstm_tn.fit(\n",
    "                                    x=X_train_lstm, \n",
    "                                    y=y_train_lstm, \n",
    "                                    epochs=N_EPOCHS, \n",
    "                                    batch_size=BATCH_SIZE, \n",
    "                                    verbose='auto',\n",
    "                                    validation_data=(X_valid_lstm,y_valid_lstm)\n",
    "                                  )\n",
    "\n",
    "val_loss_per_epoch = history_lstm_tn.history['val_loss']\n",
    "best_epoch = val_loss_per_epoch.index(min(val_loss_per_epoch)) + 1\n",
    "print('Best epoch: %d' % (best_epoch,))"
   ]
  },
  {
   "cell_type": "code",
   "execution_count": null,
   "id": "5601e2e9",
   "metadata": {
    "ExecuteTime": {
     "end_time": "2022-04-01T19:22:45.334259Z",
     "start_time": "2022-04-01T19:22:44.958491Z"
    },
    "executionInfo": {
     "elapsed": 1013,
     "status": "aborted",
     "timestamp": 1657053945785,
     "user": {
      "displayName": "Wanderson Rodrigues Marques",
      "userId": "04562351185863673991"
     },
     "user_tz": 180
    },
    "id": "5601e2e9"
   },
   "outputs": [],
   "source": [
    "plt.figure(figsize=(15, 5))\n",
    "plt.subplot(1, 2, 1)\n",
    "plt.plot(history_lstm_tn.history['val_f1_score'], color='blue', label='val_f1_score')\n",
    "plt.plot(history_lstm_tn.history['f1_score'], color='red', label='train_f1_score')\n",
    "plt.title('f1_score')\n",
    "plt.xlabel('Epochs')\n",
    "plt.ylabel('f1_score')\n",
    "#plt.ylim(None, 1)\n",
    "plt.legend()\n",
    "plt.subplot(1, 2, 2)\n",
    "plt.plot(history_lstm_tn.history['val_loss'], color='blue', label='val_loss')\n",
    "plt.plot(history_lstm_tn.history['loss'], color='red', label='train_loss')\n",
    "plt.title('Loss')\n",
    "plt.xlabel('Epochs')\n",
    "plt.ylabel('Loss')\n",
    "#plt.ylim(0, None);\n",
    "plt.legend();"
   ]
  },
  {
   "cell_type": "markdown",
   "id": "V770ad0rlcnR",
   "metadata": {
    "id": "V770ad0rlcnR"
   },
   "source": [
    "* Treina o modelo com os melhores hiperparâmetros e com o melhor número de épocas."
   ]
  },
  {
   "cell_type": "code",
   "execution_count": null,
   "id": "f0b2e4b7",
   "metadata": {
    "ExecuteTime": {
     "end_time": "2022-04-01T19:23:52.351527Z",
     "start_time": "2022-04-01T19:23:00.689605Z"
    },
    "executionInfo": {
     "elapsed": 1013,
     "status": "aborted",
     "timestamp": 1657053945785,
     "user": {
      "displayName": "Wanderson Rodrigues Marques",
      "userId": "04562351185863673991"
     },
     "user_tz": 180
    },
    "id": "f0b2e4b7"
   },
   "outputs": [],
   "source": [
    "hypermodel_lstm = tuner_lstm.hypermodel.build(best_hps_lstm)\n",
    "\n",
    "# Retrain the model\n",
    "hypermodel_lstm.fit(\n",
    "                    x=X_train_lstm, \n",
    "                    y=y_train_lstm,  \n",
    "                    epochs=best_epoch,\n",
    "                    batch_size=BATCH_SIZE, \n",
    "                    verbose='auto',\n",
    "                    validation_data=(X_valid_lstm,y_valid_lstm)\n",
    "                  )"
   ]
  },
  {
   "cell_type": "markdown",
   "id": "jVkI_LgDlnON",
   "metadata": {
    "id": "jVkI_LgDlnON"
   },
   "source": [
    "* Calcula a loss e o F1-score para o conjunto de teste."
   ]
  },
  {
   "cell_type": "code",
   "execution_count": null,
   "id": "a107b784",
   "metadata": {
    "ExecuteTime": {
     "end_time": "2022-04-01T19:23:59.481632Z",
     "start_time": "2022-04-01T19:23:59.096250Z"
    },
    "executionInfo": {
     "elapsed": 1013,
     "status": "aborted",
     "timestamp": 1657053945785,
     "user": {
      "displayName": "Wanderson Rodrigues Marques",
      "userId": "04562351185863673991"
     },
     "user_tz": 180
    },
    "id": "a107b784"
   },
   "outputs": [],
   "source": [
    "test_loss_lstm_tn, test_f1_score_lstm_tn = hypermodel_lstm.evaluate(X_test_lstm, y_test_lstm, verbose = 'auto')\n",
    "\n",
    "print('Test Loss:', test_loss_lstm_tn)\n",
    "print('Test F1 Score:', test_f1_score_lstm_tn)"
   ]
  },
  {
   "cell_type": "markdown",
   "id": "YVp-IjGFltlJ",
   "metadata": {
    "id": "YVp-IjGFltlJ"
   },
   "source": [
    "### Predição e Métricas de Avaliação após busca de hiperparâmetros - LSTM"
   ]
  },
  {
   "cell_type": "code",
   "execution_count": null,
   "id": "66ae07a8",
   "metadata": {
    "ExecuteTime": {
     "end_time": "2022-04-01T19:24:08.262840Z",
     "start_time": "2022-04-01T19:24:07.534449Z"
    },
    "executionInfo": {
     "elapsed": 1014,
     "status": "aborted",
     "timestamp": 1657053945786,
     "user": {
      "displayName": "Wanderson Rodrigues Marques",
      "userId": "04562351185863673991"
     },
     "user_tz": 180
    },
    "id": "66ae07a8"
   },
   "outputs": [],
   "source": [
    "y_predicted_hp_lstm = (hypermodel_lstm.predict(X_test_lstm) > 0.5).astype('int8')\n",
    "\n",
    "print(\"\\nClassification report:\\n\", classification_report(y_test_lstm, y_predicted_hp_lstm))\n",
    "print(\"Confusion matrix:\\n\", confusion_matrix(y_test_lstm, y_predicted_hp_lstm))"
   ]
  },
  {
   "cell_type": "code",
   "execution_count": null,
   "id": "0b6dcec7",
   "metadata": {
    "ExecuteTime": {
     "end_time": "2022-04-01T20:49:42.013794Z",
     "start_time": "2022-04-01T20:49:41.805127Z"
    },
    "executionInfo": {
     "elapsed": 1014,
     "status": "aborted",
     "timestamp": 1657053945786,
     "user": {
      "displayName": "Wanderson Rodrigues Marques",
      "userId": "04562351185863673991"
     },
     "user_tz": 180
    },
    "id": "0b6dcec7"
   },
   "outputs": [],
   "source": [
    "lstm_confusion_matrix = pd.crosstab(np.reshape(y_test_lstm, len(y_test_lstm)), np.reshape(y_predicted_hp_lstm, len(y_predicted_hp_lstm)), rownames=['Valor Atual'], colnames=['Valor Predito'])\n",
    "\n",
    "sn.heatmap(lstm_confusion_matrix, annot=True, fmt=\"d\", cmap='viridis', linewidths=.5)\n",
    "plt.show()"
   ]
  },
  {
   "cell_type": "markdown",
   "id": "2Hw4UsLCgosZ",
   "metadata": {
    "id": "2Hw4UsLCgosZ"
   },
   "source": [
    "## C4: BERT"
   ]
  },
  {
   "cell_type": "markdown",
   "id": "phelkG4Ugsg-",
   "metadata": {
    "id": "phelkG4Ugsg-"
   },
   "source": [
    "* O BERT foi implementado em um notebook a parte e está disponível no repositório do GitHub do projeto na pasta \"notebooks\"."
   ]
  },
  {
   "cell_type": "markdown",
   "id": "sGE8W9Cp_emu",
   "metadata": {
    "id": "sGE8W9Cp_emu"
   },
   "source": [
    "# Etapa 4: Resumo das Melhores Métricas para Todos os Modelos\n",
    "* Random Forest, CNN e LSTM em duas condições:\n",
    "  1. Sem o uso de `stemming`;\n",
    "  2. Com o uso de `stemming`.\n",
    "* BERT."
   ]
  },
  {
   "cell_type": "markdown",
   "id": "ygKFE-bXBKqU",
   "metadata": {
    "id": "ygKFE-bXBKqU"
   },
   "source": [
    "### Sem Stemming\n",
    "\n",
    "| Modelo            | Classe   | Precision | Recall | F1 Score |\n",
    "|------------------:|--------: |:---------:|:------:|:--------:|\n",
    "| **Random Forest** | Negativa | 0.93      | 0.05   | 0.10     |\n",
    "|                   | Positiva | 0.79      | 1.00   | 0.88     |\n",
    "| **CNN**           | Negativa | 0.79      | 0.66   | 0.72     |\n",
    "|                   | Positiva | 0.91      | 0.95   | 0.93     |\n",
    "| **LSTM**          | Negativa | 0.73      | 0.77   | 0.75     |\n",
    "|                   | Positiva | 0.93      | 0.92   | 0.92     |"
   ]
  },
  {
   "cell_type": "markdown",
   "id": "iX7vq73Q_yj3",
   "metadata": {
    "id": "iX7vq73Q_yj3"
   },
   "source": [
    "### Com Stemming\n",
    "\n",
    "| Modelo            | Classe   | Precision | Recall | F1 Score |\n",
    "|------------------:|--------: |:---------:|:------:|:--------:|\n",
    "| **Random Forest** | Negativa | 0.53      | 0.07   | 0.12     |\n",
    "|                   | Positiva | 0.78      | 0.98   | 0.87     |\n",
    "| **CNN**           | Negativa | 0.81      | 0.62   | 0.70     |\n",
    "|                   | Positiva | 0.90      | 0.96   | 0.93     |\n",
    "| **LSTM**          | Negativa | 0.55      | 0.76   | 0.63     |\n",
    "|                   | Positiva | 0.92      | 0.82   | 0.86     |"
   ]
  },
  {
   "cell_type": "markdown",
   "id": "c1dvtuhFtkcn",
   "metadata": {
    "id": "c1dvtuhFtkcn"
   },
   "source": [
    "### BERT\n",
    "\n",
    "| Modelo    | Classe   | Precision | Recall | F1 Score |\n",
    "|----------:|--------: |:---------:|:------:|:--------:|\n",
    "| **BERT**  | Negativa | 0.83      | 0.84   | 0.83     |\n",
    "|           | Positiva | 0.95      | 0.95   | 0.95     |"
   ]
  }
 ],
 "metadata": {
  "accelerator": "GPU",
  "colab": {
   "collapsed_sections": [
    "581c4739",
    "pR1wHN7hA0DL"
   ],
   "name": "TCC_NLP_final_project_without_stemming.ipynb",
   "provenance": [
    {
     "file_id": "1G9D1ETyz1ridl0xlJ_qne2kbsysLwD5V",
     "timestamp": 1656718020342
    }
   ]
  },
  "kernelspec": {
   "display_name": "Python 3 (ipykernel)",
   "language": "python",
   "name": "python3"
  },
  "language_info": {
   "codemirror_mode": {
    "name": "ipython",
    "version": 3
   },
   "file_extension": ".py",
   "mimetype": "text/x-python",
   "name": "python",
   "nbconvert_exporter": "python",
   "pygments_lexer": "ipython3",
   "version": "3.10.4"
  },
  "varInspector": {
   "cols": {
    "lenName": 16,
    "lenType": 16,
    "lenVar": 40
   },
   "kernels_config": {
    "python": {
     "delete_cmd_postfix": "",
     "delete_cmd_prefix": "del ",
     "library": "var_list.py",
     "varRefreshCmd": "print(var_dic_list())"
    },
    "r": {
     "delete_cmd_postfix": ") ",
     "delete_cmd_prefix": "rm(",
     "library": "var_list.r",
     "varRefreshCmd": "cat(var_dic_list()) "
    }
   },
   "types_to_exclude": [
    "module",
    "function",
    "builtin_function_or_method",
    "instance",
    "_Feature"
   ],
   "window_display": false
  }
 },
 "nbformat": 4,
 "nbformat_minor": 5
}
