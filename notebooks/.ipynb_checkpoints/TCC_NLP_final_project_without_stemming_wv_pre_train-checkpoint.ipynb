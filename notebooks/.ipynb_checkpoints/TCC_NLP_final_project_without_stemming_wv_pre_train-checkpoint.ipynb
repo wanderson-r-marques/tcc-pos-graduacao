{
 "cells": [
  {
   "cell_type": "markdown",
   "id": "03a49967",
   "metadata": {
    "id": "03a49967"
   },
   "source": [
    "# Projeto Final da Disciplina Mineração de Textos e Web Ministrada pelo Prof. Luciano Barbosa"
   ]
  },
  {
   "cell_type": "markdown",
   "id": "523da8e1",
   "metadata": {
    "id": "523da8e1"
   },
   "source": [
    "**Equipe:**\n",
    "<br>David Soares do Monte\n",
    "<br>Wanderson Rodrigues Marques\n"
   ]
  },
  {
   "cell_type": "markdown",
   "id": "vSdSld2YvNiL",
   "metadata": {
    "id": "vSdSld2YvNiL"
   },
   "source": [
    "## Descrição do Projeto"
   ]
  },
  {
   "cell_type": "markdown",
   "id": "mcbKRzH_vZX7",
   "metadata": {
    "id": "mcbKRzH_vZX7"
   },
   "source": [
    "O projeto desenvolvido teve a seguinte temática: Construção de um Sistema de Monitoramento de Reviews, e consistiu das seguintes etapas:\n",
    "\n",
    "1. Seleção de um produto a ser monitorado;\n",
    "2. Coleta de reviews de sites de e-commerce do produto selecionado, incluindo as seguintes informações:\n",
    "  * Conteúdo do review;\n",
    "  * Estrelas de avaliação;\n",
    "  * Data do review.\n",
    "3. Criação de classificador de sentimentos utilizando os seguintes critérios:\n",
    "  * Random Forest com bag-of-words;\n",
    "  * Redes: CNN, LSTM e BERT;\n",
    "  * Pré-processamento: com e sem stemming;\n",
    "  * Métricas de avaliação: F1, precision e recall.\n",
    "4. Construção de frontend contendo itens como:\n",
    "  * Plot de reviews positivos e negativos no tempo;\n",
    "  * Word cloud dos reviews;\n",
    "  * Reviews mais representativos.\n",
    "\n",
    "O frontend desenvolvido encontra-se disponível no seguinte endereço:\n",
    "https://public.tableau.com/views/MonitoramentodeReviews/Dashboard1?:language=en-US&:display_count=n&:origin=viz_share_link"
   ]
  },
  {
   "cell_type": "markdown",
   "id": "A44Y9BnYhNhW",
   "metadata": {
    "id": "A44Y9BnYhNhW"
   },
   "source": [
    "GitHub do projeto:\n",
    "<br> ..."
   ]
  },
  {
   "cell_type": "markdown",
   "id": "dWsjwHKk0xIC",
   "metadata": {
    "id": "dWsjwHKk0xIC"
   },
   "source": [
    "### Sumário das Etapas de Desenvolvimento"
   ]
  },
  {
   "cell_type": "markdown",
   "id": "sKa1gpjO06MR",
   "metadata": {
    "id": "sKa1gpjO06MR"
   },
   "source": [
    "* **Etapa 0**: Coleta das Reviews\n",
    "  * Seleção do produto;\n",
    "  * Coleta das reviews.\n",
    "* **Etapa 1**: Dataset\n",
    "  * Informações sobre o dataset\n",
    "  * Importação das Bibliotecas Necessárias\n",
    "  * Importação e Pré-processamento do Dataset\n",
    "* **Etapa 2**: Processamento dos Dados Textuais\n",
    "  * Importação das Bibliotecas Necessárias\n",
    "  * Tokenização das Sentenças\n",
    "  * Importação das Bibliotecas Necessárias\n",
    "  * Tokenização e Construção do Dicionário de Palavras\n",
    "* **Etapa 3**: Implementação dos Classificadores\n",
    "  * Importação de Bibliotecas Necessárias\n",
    "  * Pré-processamento\n",
    "  * Agrupamento para Identificação das Reviews mais Representativas\n",
    "  * C1: Random Forest\n",
    "  * C2: CNN\n",
    "    * Importação das Bibliotecas Necessárias\n",
    "    * Divisão dos Conjuntos de Treinamento, Validação e Teste - CNN\n",
    "    * Definição do Modelo - CNN\n",
    "    * Predição e Métricas de Avaliação - CNN\n",
    "    * Ajuste dos Hiperparâmetros com keras tuner - CNN\n",
    "    * Predição e Métricas de Avaliação após busca de hiperparâmetros - CNN\n",
    "  * C3: LSTM\n",
    "    * Divisão dos Conjuntos de Treino, Validação e Teste - LSTM\n",
    "    * Definição do Modelo - LSTM\n",
    "    * Predição e Métricas de Avaliação - LSTM\n",
    "    * Ajuste dos Hiperparâmetros com keras tuner - LSTM\n",
    "    * Predição e Métricas de Avaliação após busca de hiperparâmetros - LSTM\n",
    "  * C4: BERT\n",
    "    * Divisão dos Conjuntos de Treino, Validação e Teste - BERT\n",
    "    * Definição do Modelo - BERT\n",
    "    * Predição e Métricas de Avaliação - BERT\n",
    "* **Etapa 4**: Resumo das Melhores Métricas para Todos os Modelos\n",
    "* **Etapa 5**: Frontend\n",
    "  * Desenvolvimento do frontend no Tableau."
   ]
  },
  {
   "cell_type": "markdown",
   "id": "c0b197fe",
   "metadata": {
    "id": "c0b197fe"
   },
   "source": [
    "# Etapa 1: Dataset"
   ]
  },
  {
   "cell_type": "markdown",
   "id": "e6c1df3d",
   "metadata": {
    "id": "e6c1df3d"
   },
   "source": [
    "## Informações sobre o dataset\n",
    "O dataset é composto originalmente por 5890 avaliações obtidas no site da Amazon Brasil referentes ao produto \"Suporte para Notebook, OCTOO, Uptable, UP-BL, Preto\" (https://www.amazon.com.br/OCTOO-UP-BL-Suporte-Uptable-Preto/dp/B07BTC67VS/ref=zg-bs_furniture_1/144-8354270-3806822)."
   ]
  },
  {
   "cell_type": "markdown",
   "id": "92965f2d",
   "metadata": {
    "id": "92965f2d"
   },
   "source": [
    "## Importação das Bibliotecas Necessárias"
   ]
  },
  {
   "cell_type": "code",
   "execution_count": 1,
   "id": "8557a4d6",
   "metadata": {
    "ExecuteTime": {
     "end_time": "2022-03-30T19:59:52.705676Z",
     "start_time": "2022-03-30T19:59:51.945669Z"
    },
    "executionInfo": {
     "elapsed": 962,
     "status": "ok",
     "timestamp": 1657294263965,
     "user": {
      "displayName": "Wanderson Rodrigues Marques",
      "userId": "04562351185863673991"
     },
     "user_tz": 180
    },
    "id": "8557a4d6"
   },
   "outputs": [],
   "source": [
    "import pandas as pd\n",
    "import numpy as np\n",
    "import datetime as dt"
   ]
  },
  {
   "cell_type": "markdown",
   "id": "ffc33a16",
   "metadata": {
    "id": "ffc33a16"
   },
   "source": [
    "## Importação e Pré-processamento do Dataset"
   ]
  },
  {
   "cell_type": "code",
   "execution_count": 2,
   "id": "5aUTBXnTLkUI",
   "metadata": {
    "ExecuteTime": {
     "end_time": "2022-03-25T15:10:05.815376Z",
     "start_time": "2022-03-25T15:10:05.800376Z"
    },
    "colab": {
     "base_uri": "https://localhost:8080/"
    },
    "executionInfo": {
     "elapsed": 4490,
     "status": "ok",
     "timestamp": 1657294269404,
     "user": {
      "displayName": "Wanderson Rodrigues Marques",
      "userId": "04562351185863673991"
     },
     "user_tz": 180
    },
    "id": "5aUTBXnTLkUI",
    "outputId": "a072a5ee-514b-41de-f208-8099c21103f2"
   },
   "outputs": [],
   "source": [
    "# from google.colab import drive\n",
    "# drive.mount('/content/drive')"
   ]
  },
  {
   "cell_type": "code",
   "execution_count": 3,
   "id": "e41398ae",
   "metadata": {
    "ExecuteTime": {
     "end_time": "2022-03-30T20:00:30.776463Z",
     "start_time": "2022-03-30T20:00:30.699293Z"
    },
    "colab": {
     "base_uri": "https://localhost:8080/",
     "height": 424
    },
    "executionInfo": {
     "elapsed": 82,
     "status": "ok",
     "timestamp": 1657294269406,
     "user": {
      "displayName": "Wanderson Rodrigues Marques",
      "userId": "04562351185863673991"
     },
     "user_tz": 180
    },
    "id": "e41398ae",
    "outputId": "5accc4aa-1b65-4d8e-e1e9-f553a47ff2e9"
   },
   "outputs": [
    {
     "data": {
      "text/html": [
       "<div>\n",
       "<style scoped>\n",
       "    .dataframe tbody tr th:only-of-type {\n",
       "        vertical-align: middle;\n",
       "    }\n",
       "\n",
       "    .dataframe tbody tr th {\n",
       "        vertical-align: top;\n",
       "    }\n",
       "\n",
       "    .dataframe thead th {\n",
       "        text-align: right;\n",
       "    }\n",
       "</style>\n",
       "<table border=\"1\" class=\"dataframe\">\n",
       "  <thead>\n",
       "    <tr style=\"text-align: right;\">\n",
       "      <th></th>\n",
       "      <th>rating</th>\n",
       "      <th>label</th>\n",
       "      <th>text_</th>\n",
       "    </tr>\n",
       "  </thead>\n",
       "  <tbody>\n",
       "    <tr>\n",
       "      <th>0</th>\n",
       "      <td>5.0</td>\n",
       "      <td>CG</td>\n",
       "      <td>Love this!  Well made, sturdy, and very comfor...</td>\n",
       "    </tr>\n",
       "    <tr>\n",
       "      <th>1</th>\n",
       "      <td>5.0</td>\n",
       "      <td>CG</td>\n",
       "      <td>love it, a great upgrade from the original.  I...</td>\n",
       "    </tr>\n",
       "    <tr>\n",
       "      <th>2</th>\n",
       "      <td>5.0</td>\n",
       "      <td>CG</td>\n",
       "      <td>This pillow saved my back. I love the look and...</td>\n",
       "    </tr>\n",
       "    <tr>\n",
       "      <th>3</th>\n",
       "      <td>1.0</td>\n",
       "      <td>CG</td>\n",
       "      <td>Missing information on how to use it, but it i...</td>\n",
       "    </tr>\n",
       "    <tr>\n",
       "      <th>4</th>\n",
       "      <td>5.0</td>\n",
       "      <td>CG</td>\n",
       "      <td>Very nice set. Good quality. We have had the s...</td>\n",
       "    </tr>\n",
       "    <tr>\n",
       "      <th>...</th>\n",
       "      <td>...</td>\n",
       "      <td>...</td>\n",
       "      <td>...</td>\n",
       "    </tr>\n",
       "    <tr>\n",
       "      <th>40427</th>\n",
       "      <td>4.0</td>\n",
       "      <td>OR</td>\n",
       "      <td>I had read some reviews saying that this bra r...</td>\n",
       "    </tr>\n",
       "    <tr>\n",
       "      <th>40428</th>\n",
       "      <td>5.0</td>\n",
       "      <td>CG</td>\n",
       "      <td>I wasn't sure exactly what it would be. It is ...</td>\n",
       "    </tr>\n",
       "    <tr>\n",
       "      <th>40429</th>\n",
       "      <td>2.0</td>\n",
       "      <td>OR</td>\n",
       "      <td>You can wear the hood by itself, wear it with ...</td>\n",
       "    </tr>\n",
       "    <tr>\n",
       "      <th>40430</th>\n",
       "      <td>1.0</td>\n",
       "      <td>CG</td>\n",
       "      <td>I liked nothing about this dress. The only rea...</td>\n",
       "    </tr>\n",
       "    <tr>\n",
       "      <th>40431</th>\n",
       "      <td>5.0</td>\n",
       "      <td>OR</td>\n",
       "      <td>I work in the wedding industry and have to wor...</td>\n",
       "    </tr>\n",
       "  </tbody>\n",
       "</table>\n",
       "<p>40432 rows × 3 columns</p>\n",
       "</div>"
      ],
      "text/plain": [
       "       rating label                                              text_\n",
       "0         5.0    CG  Love this!  Well made, sturdy, and very comfor...\n",
       "1         5.0    CG  love it, a great upgrade from the original.  I...\n",
       "2         5.0    CG  This pillow saved my back. I love the look and...\n",
       "3         1.0    CG  Missing information on how to use it, but it i...\n",
       "4         5.0    CG  Very nice set. Good quality. We have had the s...\n",
       "...       ...   ...                                                ...\n",
       "40427     4.0    OR  I had read some reviews saying that this bra r...\n",
       "40428     5.0    CG  I wasn't sure exactly what it would be. It is ...\n",
       "40429     2.0    OR  You can wear the hood by itself, wear it with ...\n",
       "40430     1.0    CG  I liked nothing about this dress. The only rea...\n",
       "40431     5.0    OR  I work in the wedding industry and have to wor...\n",
       "\n",
       "[40432 rows x 3 columns]"
      ]
     },
     "execution_count": 3,
     "metadata": {},
     "output_type": "execute_result"
    }
   ],
   "source": [
    "df = pd.read_csv('../Datasets/fake_reviews_dataset.csv', usecols=['text_', 'rating', 'label'])\n",
    "\n",
    "df.reset_index(drop=True, inplace=True)\n",
    "df"
   ]
  },
  {
   "cell_type": "code",
   "execution_count": 4,
   "id": "69402LmU6xmt",
   "metadata": {
    "executionInfo": {
     "elapsed": 76,
     "status": "ok",
     "timestamp": 1657294269406,
     "user": {
      "displayName": "Wanderson Rodrigues Marques",
      "userId": "04562351185863673991"
     },
     "user_tz": 180
    },
    "id": "69402LmU6xmt"
   },
   "outputs": [],
   "source": [
    "df.columns = ['star', 'label', 'reviews']"
   ]
  },
  {
   "cell_type": "code",
   "execution_count": 5,
   "id": "363b29c6",
   "metadata": {
    "ExecuteTime": {
     "end_time": "2022-03-30T20:00:35.421303Z",
     "start_time": "2022-03-30T20:00:35.401339Z"
    },
    "colab": {
     "base_uri": "https://localhost:8080/"
    },
    "executionInfo": {
     "elapsed": 76,
     "status": "ok",
     "timestamp": 1657294269408,
     "user": {
      "displayName": "Wanderson Rodrigues Marques",
      "userId": "04562351185863673991"
     },
     "user_tz": 180
    },
    "id": "363b29c6",
    "outputId": "f889c7e3-8b2b-4b2c-cb86-7a49a4cd301b"
   },
   "outputs": [
    {
     "name": "stdout",
     "output_type": "stream",
     "text": [
      "Shape do dataset: (40432, 3)\n"
     ]
    }
   ],
   "source": [
    "# Imprime formato do dataset\n",
    "print('Shape do dataset:', df.shape)"
   ]
  },
  {
   "cell_type": "code",
   "execution_count": 6,
   "id": "WaswjG7abdNo",
   "metadata": {
    "executionInfo": {
     "elapsed": 60,
     "status": "ok",
     "timestamp": 1657294269409,
     "user": {
      "displayName": "Wanderson Rodrigues Marques",
      "userId": "04562351185863673991"
     },
     "user_tz": 180
    },
    "id": "WaswjG7abdNo"
   },
   "outputs": [],
   "source": [
    "df = df.iloc[0:5000,:]"
   ]
  },
  {
   "cell_type": "code",
   "execution_count": 7,
   "id": "qOauLp_1bs77",
   "metadata": {
    "colab": {
     "base_uri": "https://localhost:8080/"
    },
    "executionInfo": {
     "elapsed": 58,
     "status": "ok",
     "timestamp": 1657294269409,
     "user": {
      "displayName": "Wanderson Rodrigues Marques",
      "userId": "04562351185863673991"
     },
     "user_tz": 180
    },
    "id": "qOauLp_1bs77",
    "outputId": "ccf60825-83f7-401e-bbf7-819f56c14eec"
   },
   "outputs": [
    {
     "name": "stdout",
     "output_type": "stream",
     "text": [
      "Shape do dataset: (5000, 3)\n"
     ]
    }
   ],
   "source": [
    "# Imprime formato do dataset\n",
    "print('Shape do dataset:', df.shape)"
   ]
  },
  {
   "cell_type": "code",
   "execution_count": 8,
   "id": "xHgFXwj-cFMX",
   "metadata": {
    "ExecuteTime": {
     "end_time": "2022-03-30T20:00:43.524064Z",
     "start_time": "2022-03-30T20:00:43.515064Z"
    },
    "colab": {
     "base_uri": "https://localhost:8080/"
    },
    "executionInfo": {
     "elapsed": 49,
     "status": "ok",
     "timestamp": 1657294269410,
     "user": {
      "displayName": "Wanderson Rodrigues Marques",
      "userId": "04562351185863673991"
     },
     "user_tz": 180
    },
    "id": "xHgFXwj-cFMX",
    "outputId": "d3cc074f-8083-4cfb-9bfd-39b1ea9c05c9"
   },
   "outputs": [
    {
     "data": {
      "text/plain": [
       "star       0\n",
       "label      0\n",
       "reviews    0\n",
       "dtype: int64"
      ]
     },
     "execution_count": 8,
     "metadata": {},
     "output_type": "execute_result"
    }
   ],
   "source": [
    "# Verificação de dados ausentes\n",
    "(df.isna().sum())"
   ]
  },
  {
   "cell_type": "code",
   "execution_count": 9,
   "id": "fd1f0368",
   "metadata": {
    "ExecuteTime": {
     "end_time": "2022-03-30T20:00:47.760997Z",
     "start_time": "2022-03-30T20:00:47.737999Z"
    },
    "colab": {
     "base_uri": "https://localhost:8080/"
    },
    "executionInfo": {
     "elapsed": 41,
     "status": "ok",
     "timestamp": 1657294269411,
     "user": {
      "displayName": "Wanderson Rodrigues Marques",
      "userId": "04562351185863673991"
     },
     "user_tz": 180
    },
    "id": "fd1f0368",
    "outputId": "c0e3cb7e-4ed6-441a-eb07-297e85fd233f"
   },
   "outputs": [
    {
     "name": "stdout",
     "output_type": "stream",
     "text": [
      "<class 'pandas.core.frame.DataFrame'>\n",
      "RangeIndex: 5000 entries, 0 to 4999\n",
      "Data columns (total 3 columns):\n",
      " #   Column   Non-Null Count  Dtype  \n",
      "---  ------   --------------  -----  \n",
      " 0   star     5000 non-null   float64\n",
      " 1   label    5000 non-null   object \n",
      " 2   reviews  5000 non-null   object \n",
      "dtypes: float64(1), object(2)\n",
      "memory usage: 117.3+ KB\n"
     ]
    }
   ],
   "source": [
    "df.info()"
   ]
  },
  {
   "cell_type": "code",
   "execution_count": 10,
   "id": "5f56a31d",
   "metadata": {
    "ExecuteTime": {
     "end_time": "2022-03-30T20:00:51.542466Z",
     "start_time": "2022-03-30T20:00:51.522467Z"
    },
    "colab": {
     "base_uri": "https://localhost:8080/",
     "height": 112
    },
    "executionInfo": {
     "elapsed": 32,
     "status": "ok",
     "timestamp": 1657294269412,
     "user": {
      "displayName": "Wanderson Rodrigues Marques",
      "userId": "04562351185863673991"
     },
     "user_tz": 180
    },
    "id": "5f56a31d",
    "outputId": "21ad957f-007b-4da9-c91f-fab49c8352a4"
   },
   "outputs": [
    {
     "data": {
      "text/html": [
       "<div>\n",
       "<style scoped>\n",
       "    .dataframe tbody tr th:only-of-type {\n",
       "        vertical-align: middle;\n",
       "    }\n",
       "\n",
       "    .dataframe tbody tr th {\n",
       "        vertical-align: top;\n",
       "    }\n",
       "\n",
       "    .dataframe thead th {\n",
       "        text-align: right;\n",
       "    }\n",
       "</style>\n",
       "<table border=\"1\" class=\"dataframe\">\n",
       "  <thead>\n",
       "    <tr style=\"text-align: right;\">\n",
       "      <th></th>\n",
       "      <th>count</th>\n",
       "      <th>%</th>\n",
       "    </tr>\n",
       "  </thead>\n",
       "  <tbody>\n",
       "    <tr>\n",
       "      <th>CG</th>\n",
       "      <td>2508</td>\n",
       "      <td>50.16</td>\n",
       "    </tr>\n",
       "    <tr>\n",
       "      <th>OR</th>\n",
       "      <td>2492</td>\n",
       "      <td>49.84</td>\n",
       "    </tr>\n",
       "  </tbody>\n",
       "</table>\n",
       "</div>"
      ],
      "text/plain": [
       "    count      %\n",
       "CG   2508  50.16\n",
       "OR   2492  49.84"
      ]
     },
     "execution_count": 10,
     "metadata": {},
     "output_type": "execute_result"
    }
   ],
   "source": [
    "# Verificação do balaceamento das classes - coluna 'sentiment'\n",
    "per_var = pd.DataFrame()\n",
    "per_var['count'] = df['label'].value_counts()\n",
    "per_var['%'] = per_var['count']/len(df['label'])*100\n",
    "per_var"
   ]
  },
  {
   "cell_type": "markdown",
   "id": "e78d00ba",
   "metadata": {
    "id": "e78d00ba"
   },
   "source": [
    "# Etapa 2: Processamento dos Dados Textuais"
   ]
  },
  {
   "cell_type": "markdown",
   "id": "e56b4da6",
   "metadata": {
    "id": "e56b4da6"
   },
   "source": [
    "## Importação das Bibliotecas Necessárias"
   ]
  },
  {
   "cell_type": "code",
   "execution_count": 11,
   "id": "a22fe0af",
   "metadata": {
    "ExecuteTime": {
     "end_time": "2022-03-30T20:01:00.970488Z",
     "start_time": "2022-03-30T20:00:57.609097Z"
    },
    "colab": {
     "base_uri": "https://localhost:8080/"
    },
    "executionInfo": {
     "elapsed": 1942,
     "status": "ok",
     "timestamp": 1657294271327,
     "user": {
      "displayName": "Wanderson Rodrigues Marques",
      "userId": "04562351185863673991"
     },
     "user_tz": 180
    },
    "id": "a22fe0af",
    "outputId": "f03a0fd5-33a1-4a3a-d3c6-71ae9e6f4c38"
   },
   "outputs": [
    {
     "name": "stderr",
     "output_type": "stream",
     "text": [
      "/home/wanderson/anaconda3/envs/tcc/lib/python3.10/site-packages/scipy/__init__.py:146: UserWarning: A NumPy version >=1.16.5 and <1.23.0 is required for this version of SciPy (detected version 1.23.1\n",
      "  warnings.warn(f\"A NumPy version >={np_minversion} and <{np_maxversion}\"\n",
      "[nltk_data] Downloading package stopwords to\n",
      "[nltk_data]     /home/wanderson/nltk_data...\n",
      "[nltk_data]   Package stopwords is already up-to-date!\n",
      "[nltk_data] Downloading package punkt to /home/wanderson/nltk_data...\n",
      "[nltk_data]   Package punkt is already up-to-date!\n"
     ]
    },
    {
     "data": {
      "text/plain": [
       "True"
      ]
     },
     "execution_count": 11,
     "metadata": {},
     "output_type": "execute_result"
    }
   ],
   "source": [
    "#from collections import Counter\n",
    "from collections import Counter\n",
    "import string\n",
    "import nltk\n",
    "#import spacy as sp\n",
    "from nltk.tokenize import word_tokenize\n",
    "from nltk.stem import PorterStemmer\n",
    "from nltk.corpus import stopwords\n",
    "stemmer = PorterStemmer()\n",
    "\n",
    "nltk.download('stopwords')\n",
    "nltk.download('punkt') # A data model created by Jan Strunk that NLTK uses to split full texts into word lists"
   ]
  },
  {
   "cell_type": "markdown",
   "id": "d16dbc2e",
   "metadata": {
    "id": "d16dbc2e"
   },
   "source": [
    "## Tokenização das Sentenças"
   ]
  },
  {
   "cell_type": "markdown",
   "id": "5LdjzsgBFVFl",
   "metadata": {
    "id": "5LdjzsgBFVFl"
   },
   "source": [
    "### Importação das Bibliotecas Necessárias"
   ]
  },
  {
   "cell_type": "code",
   "execution_count": 12,
   "id": "uKoyftaMNRcp",
   "metadata": {
    "ExecuteTime": {
     "end_time": "2022-03-30T20:01:15.858155Z",
     "start_time": "2022-03-30T20:01:15.843157Z"
    },
    "colab": {
     "base_uri": "https://localhost:8080/"
    },
    "executionInfo": {
     "elapsed": 2617,
     "status": "ok",
     "timestamp": 1657294273929,
     "user": {
      "displayName": "Wanderson Rodrigues Marques",
      "userId": "04562351185863673991"
     },
     "user_tz": 180
    },
    "id": "uKoyftaMNRcp",
    "outputId": "20c5b8f2-ad76-4738-d26b-893bcb3fa934"
   },
   "outputs": [
    {
     "name": "stdout",
     "output_type": "stream",
     "text": [
      "Requirement already satisfied: gensim==4.1.2 in /home/wanderson/anaconda3/envs/tcc/lib/python3.10/site-packages (4.1.2)\n",
      "Requirement already satisfied: numpy>=1.17.0 in /home/wanderson/anaconda3/envs/tcc/lib/python3.10/site-packages (from gensim==4.1.2) (1.23.1)\n",
      "Requirement already satisfied: smart-open>=1.8.1 in /home/wanderson/anaconda3/envs/tcc/lib/python3.10/site-packages (from gensim==4.1.2) (6.0.0)\n",
      "Requirement already satisfied: scipy>=0.18.1 in /home/wanderson/anaconda3/envs/tcc/lib/python3.10/site-packages (from gensim==4.1.2) (1.9.0)\n"
     ]
    }
   ],
   "source": [
    "!pip install gensim==4.1.2"
   ]
  },
  {
   "cell_type": "code",
   "execution_count": 13,
   "id": "GEaCduvtMxHT",
   "metadata": {
    "ExecuteTime": {
     "end_time": "2022-03-30T20:01:17.616272Z",
     "start_time": "2022-03-30T20:01:17.066608Z"
    },
    "colab": {
     "base_uri": "https://localhost:8080/",
     "height": 35
    },
    "executionInfo": {
     "elapsed": 444,
     "status": "ok",
     "timestamp": 1657294274368,
     "user": {
      "displayName": "Wanderson Rodrigues Marques",
      "userId": "04562351185863673991"
     },
     "user_tz": 180
    },
    "id": "GEaCduvtMxHT",
    "outputId": "0275fba9-9cba-4b18-e320-5618eff000db"
   },
   "outputs": [
    {
     "data": {
      "text/plain": [
       "'4.1.2'"
      ]
     },
     "execution_count": 13,
     "metadata": {},
     "output_type": "execute_result"
    }
   ],
   "source": [
    "import gensim\n",
    "import gensim.downloader\n",
    "gensim.__version__"
   ]
  },
  {
   "cell_type": "code",
   "execution_count": 14,
   "id": "20fc0dfb",
   "metadata": {
    "ExecuteTime": {
     "end_time": "2022-03-30T20:01:20.163371Z",
     "start_time": "2022-03-30T20:01:20.153371Z"
    },
    "executionInfo": {
     "elapsed": 4,
     "status": "ok",
     "timestamp": 1657294274369,
     "user": {
      "displayName": "Wanderson Rodrigues Marques",
      "userId": "04562351185863673991"
     },
     "user_tz": 180
    },
    "id": "20fc0dfb"
   },
   "outputs": [],
   "source": [
    "from gensim.models import KeyedVectors #, Word2Vec "
   ]
  },
  {
   "cell_type": "markdown",
   "id": "028701d1",
   "metadata": {
    "id": "028701d1"
   },
   "source": [
    "### Tokenização e Construção do Dicionário de Palavras"
   ]
  },
  {
   "cell_type": "markdown",
   "id": "W5ic8t8GfJRs",
   "metadata": {
    "id": "W5ic8t8GfJRs"
   },
   "source": [
    "* word2vec pré-treinado em português:\n",
    "<br>http://www.nilc.icmc.usp.br/nilc/index.php/repositorio-de-word-embeddings-do-nilc"
   ]
  },
  {
   "cell_type": "code",
   "execution_count": null,
   "id": "0N_E2W1jnCmY",
   "metadata": {
    "ExecuteTime": {
     "end_time": "2022-03-30T20:03:52.451195Z",
     "start_time": "2022-03-30T20:03:00.595272Z"
    },
    "executionInfo": {
     "elapsed": 297671,
     "status": "ok",
     "timestamp": 1657294572037,
     "user": {
      "displayName": "Wanderson Rodrigues Marques",
      "userId": "04562351185863673991"
     },
     "user_tz": 180
    },
    "id": "0N_E2W1jnCmY"
   },
   "outputs": [],
   "source": [
    "word2vc_vectors = KeyedVectors.load_word2vec_format('cc.en.300.vec.gz')\n",
    "# import gensim.downloader as api\n",
    "# word2vc_vectors = api.load('word2vec-google-news-300')"
   ]
  },
  {
   "cell_type": "code",
   "execution_count": null,
   "id": "d5dd4764",
   "metadata": {
    "ExecuteTime": {
     "end_time": "2022-03-30T20:04:04.136195Z",
     "start_time": "2022-03-30T20:04:02.763196Z"
    },
    "colab": {
     "base_uri": "https://localhost:8080/"
    },
    "executionInfo": {
     "elapsed": 3266,
     "status": "ok",
     "timestamp": 1657294575240,
     "user": {
      "displayName": "Wanderson Rodrigues Marques",
      "userId": "04562351185863673991"
     },
     "user_tz": 180
    },
    "id": "d5dd4764",
    "outputId": "21ce49f1-c2b7-4a6e-b681-4d3140e1f4e9"
   },
   "outputs": [],
   "source": [
    "# Tokenização\n",
    "sentences_set_amz = []\n",
    "sentence = []\n",
    "dict_pt = {}\n",
    "punct_set = list(string.punctuation) + ['..', '...', \"''\", \"'''\", '``', '```', '*', '**', '***', '…', '^', '^^', '-']\n",
    "stop_words = set(stopwords.words('english'))\n",
    "\n",
    "for item in df['reviews']:\n",
    "  words = word_tokenize(item, language='english')\n",
    "  for token in words:\n",
    "    token = token.lower()                                        # Todas as palavras em minúsculo\n",
    "    if token not in punct_set and token not in stop_words:       # Verifica se não é pontuação ou 'stop word'\n",
    "      while (len(token) > 0 and token[0] in punct_set):          # Removendo pontuação do início das palavras\n",
    "        token = token[1:]\n",
    "      while (len(token) > 0 and token[-1] in punct_set):         # Removendo pontuação do fim das palavras\n",
    "        token = token[:-1]\n",
    "      if len(token) > 1 and token in word2vc_vectors.key_to_index: # Verifica se modelo pré- treinado contém o token\n",
    "        sentence.append(token) \n",
    "  sentences_set_amz.append(sentence)\n",
    "\n",
    "  word_freq = Counter(sentence)\n",
    "\n",
    "  for word,freq in word_freq.items():\n",
    "    if word in dict_pt.keys():\n",
    "      dict_pt[word] = dict_pt[word] + freq\n",
    "    else:\n",
    "      dict_pt[word] = freq\n",
    "  sentence = []\n",
    "\n",
    "sentences_set = np.asarray(sentences_set_amz, dtype='object')\n",
    "\n",
    "print('Nº de sentenças:', len(sentences_set))\n",
    "print(\"Tamanho do vocabulário: \", len(dict_pt))\n",
    "print(\"Vocabulário:\\n\", sorted(dict_pt.keys()))"
   ]
  },
  {
   "cell_type": "markdown",
   "id": "utP6CH3CGI09",
   "metadata": {
    "id": "utP6CH3CGI09"
   },
   "source": [
    "* Transfere o dicionário de palavras e suas frequências de ocorrência para um dataframe e exibe as 10 palavras mais frequentes."
   ]
  },
  {
   "cell_type": "code",
   "execution_count": null,
   "id": "neN0ZzGwdAdg",
   "metadata": {
    "ExecuteTime": {
     "end_time": "2022-03-30T20:04:47.382529Z",
     "start_time": "2022-03-30T20:04:47.361490Z"
    },
    "colab": {
     "base_uri": "https://localhost:8080/",
     "height": 363
    },
    "executionInfo": {
     "elapsed": 45,
     "status": "ok",
     "timestamp": 1657294575241,
     "user": {
      "displayName": "Wanderson Rodrigues Marques",
      "userId": "04562351185863673991"
     },
     "user_tz": 180
    },
    "id": "neN0ZzGwdAdg",
    "outputId": "ee518699-51b8-46d1-81d0-f85e069f342e"
   },
   "outputs": [],
   "source": [
    "dict_pt_df = pd.DataFrame(sorted(list(dict_pt.items()), key=lambda v: v[1], reverse=True), columns=['words', 'freq'])\n",
    "dict_pt_df.head(10)"
   ]
  },
  {
   "cell_type": "markdown",
   "id": "OHsiILKoGXzN",
   "metadata": {
    "id": "OHsiILKoGXzN"
   },
   "source": [
    "* Verifica se há alguma sentença vazia e remove do conjunto de sentenças e do dataset."
   ]
  },
  {
   "cell_type": "code",
   "execution_count": null,
   "id": "hKBjq3sTdcca",
   "metadata": {
    "ExecuteTime": {
     "end_time": "2022-03-30T20:04:54.578198Z",
     "start_time": "2022-03-30T20:04:54.570197Z"
    },
    "colab": {
     "base_uri": "https://localhost:8080/"
    },
    "executionInfo": {
     "elapsed": 43,
     "status": "ok",
     "timestamp": 1657294575241,
     "user": {
      "displayName": "Wanderson Rodrigues Marques",
      "userId": "04562351185863673991"
     },
     "user_tz": 180
    },
    "id": "hKBjq3sTdcca",
    "outputId": "b8d8e49d-6538-4d01-e11e-f98705ba30e6"
   },
   "outputs": [],
   "source": [
    "null_sentences = []\n",
    "\n",
    "for i,sentence in enumerate(sentences_set):\n",
    "  if len(sentence) == 0:\n",
    "    null_sentences.append(i)\n",
    "    #print(sentence)\n",
    "print(null_sentences)\n",
    "\n",
    "sentences_set = np.delete(sentences_set, null_sentences)\n",
    "\n",
    "# Atualiza a base de dados removendo as instâncias correspondentes a sentenças vazias\n",
    "if len(null_sentences) > 0:\n",
    "  df = df.drop(null_sentences, axis=0)\n",
    "  df.reset_index(drop=True, inplace=True)"
   ]
  },
  {
   "cell_type": "code",
   "execution_count": null,
   "id": "5GtS39LcwpQB",
   "metadata": {
    "ExecuteTime": {
     "end_time": "2022-03-30T20:04:58.594187Z",
     "start_time": "2022-03-30T20:04:58.585186Z"
    },
    "colab": {
     "base_uri": "https://localhost:8080/"
    },
    "executionInfo": {
     "elapsed": 17,
     "status": "ok",
     "timestamp": 1657294575242,
     "user": {
      "displayName": "Wanderson Rodrigues Marques",
      "userId": "04562351185863673991"
     },
     "user_tz": 180
    },
    "id": "5GtS39LcwpQB",
    "outputId": "290fa7cf-45cc-4b68-b903-6536f0ded123"
   },
   "outputs": [],
   "source": [
    "df.info()"
   ]
  },
  {
   "cell_type": "code",
   "execution_count": null,
   "id": "3d2a2530",
   "metadata": {
    "ExecuteTime": {
     "end_time": "2022-03-31T19:13:36.042986Z",
     "start_time": "2022-03-31T19:13:35.956955Z"
    },
    "executionInfo": {
     "elapsed": 13,
     "status": "ok",
     "timestamp": 1657294575242,
     "user": {
      "displayName": "Wanderson Rodrigues Marques",
      "userId": "04562351185863673991"
     },
     "user_tz": 180
    },
    "id": "3d2a2530"
   },
   "outputs": [],
   "source": [
    "#df_reviews.to_csv('df_reviews_processed.csv')"
   ]
  },
  {
   "cell_type": "code",
   "execution_count": null,
   "id": "cd98a602",
   "metadata": {
    "ExecuteTime": {
     "end_time": "2022-03-30T20:05:03.669386Z",
     "start_time": "2022-03-30T20:05:03.664805Z"
    },
    "colab": {
     "base_uri": "https://localhost:8080/"
    },
    "executionInfo": {
     "elapsed": 12,
     "status": "ok",
     "timestamp": 1657294575242,
     "user": {
      "displayName": "Wanderson Rodrigues Marques",
      "userId": "04562351185863673991"
     },
     "user_tz": 180
    },
    "id": "cd98a602",
    "outputId": "688715d4-5962-4ffd-894a-e0ef2b60ae9d"
   },
   "outputs": [],
   "source": [
    "# Imprime um exemplo de sentença tokenizada\n",
    "print(sentences_set[0])"
   ]
  },
  {
   "cell_type": "markdown",
   "id": "73a2b3c5",
   "metadata": {
    "id": "73a2b3c5"
   },
   "source": [
    "# Etapa 3: Implementação dos Classificadores"
   ]
  },
  {
   "cell_type": "markdown",
   "id": "8c23f986",
   "metadata": {
    "id": "8c23f986"
   },
   "source": [
    "## Importação de Bibliotecas Necessárias"
   ]
  },
  {
   "cell_type": "code",
   "execution_count": null,
   "id": "271278a7",
   "metadata": {
    "ExecuteTime": {
     "end_time": "2022-03-30T20:27:34.854253Z",
     "start_time": "2022-03-30T20:27:34.841290Z"
    },
    "executionInfo": {
     "elapsed": 416,
     "status": "ok",
     "timestamp": 1657294575651,
     "user": {
      "displayName": "Wanderson Rodrigues Marques",
      "userId": "04562351185863673991"
     },
     "user_tz": 180
    },
    "id": "271278a7"
   },
   "outputs": [],
   "source": [
    "import numpy as np\n",
    "import seaborn as sn\n",
    "import matplotlib.pyplot as plt\n",
    "from sklearn.preprocessing import LabelEncoder, StandardScaler, MinMaxScaler\n",
    "from sklearn.model_selection import train_test_split\n",
    "from sklearn.model_selection import RandomizedSearchCV\n",
    "from sklearn.model_selection import StratifiedKFold\n",
    "from sklearn.model_selection import cross_val_score\n",
    "from sklearn.metrics import classification_report\n",
    "from sklearn.metrics import confusion_matrix\n",
    "from sklearn.ensemble import RandomForestClassifier\n",
    "from sklearn.cluster import KMeans\n",
    "from sklearn.metrics import silhouette_samples, silhouette_score\n",
    "from sklearn.decomposition import PCA\n",
    "# from sklearn.pipeline import Pipeline"
   ]
  },
  {
   "cell_type": "markdown",
   "id": "7b01437a",
   "metadata": {
    "id": "7b01437a"
   },
   "source": [
    "## Pré-processamento"
   ]
  },
  {
   "cell_type": "markdown",
   "id": "NEx7Oi6YHA6U",
   "metadata": {
    "id": "NEx7Oi6YHA6U"
   },
   "source": [
    "* Pré-processamento da variável alvo: y = df_reviews['sentiment']"
   ]
  },
  {
   "cell_type": "code",
   "execution_count": null,
   "id": "38a6fc89",
   "metadata": {
    "ExecuteTime": {
     "end_time": "2022-03-30T20:05:46.773230Z",
     "start_time": "2022-03-30T20:05:46.746226Z"
    },
    "colab": {
     "base_uri": "https://localhost:8080/"
    },
    "executionInfo": {
     "elapsed": 13,
     "status": "ok",
     "timestamp": 1657294575652,
     "user": {
      "displayName": "Wanderson Rodrigues Marques",
      "userId": "04562351185863673991"
     },
     "user_tz": 180
    },
    "id": "38a6fc89",
    "outputId": "cf008aa5-3af2-4ab3-9264-aa75b172c499"
   },
   "outputs": [],
   "source": [
    "label_encoder = LabelEncoder()\n",
    "y = label_encoder.fit_transform(df['label'])\n",
    "\n",
    "print('Classes numéricas:', np.unique(y))\n",
    "print('Classes:', list(label_encoder.inverse_transform(np.unique(y))))\n",
    "print('Nº de elementos de y:', len(y))"
   ]
  },
  {
   "cell_type": "markdown",
   "id": "j0kQ1t_lHVT7",
   "metadata": {
    "id": "j0kQ1t_lHVT7"
   },
   "source": [
    "* Passando as sentenças tokenizadas para o modelo treinado para obter o conjunto de embeddings 'X'."
   ]
  },
  {
   "cell_type": "code",
   "execution_count": null,
   "id": "2486f643",
   "metadata": {
    "ExecuteTime": {
     "end_time": "2022-03-30T20:05:53.130902Z",
     "start_time": "2022-03-30T20:05:52.970896Z"
    },
    "colab": {
     "base_uri": "https://localhost:8080/"
    },
    "executionInfo": {
     "elapsed": 9,
     "status": "ok",
     "timestamp": 1657294575652,
     "user": {
      "displayName": "Wanderson Rodrigues Marques",
      "userId": "04562351185863673991"
     },
     "user_tz": 180
    },
    "id": "2486f643",
    "outputId": "ea8fa749-f02d-4013-9c06-c0f7ae30a569"
   },
   "outputs": [],
   "source": [
    "X = []\n",
    "max_len = 0\n",
    "\n",
    "for i,sentence in enumerate(sentences_set):\n",
    "  vector = word2vc_vectors[sentence]\n",
    "  X.append(vector)\n",
    "  max_len = max(max_len, len(vector))\n",
    "\n",
    "print('max_len:', max_len)\n",
    "print('N° de elementos de X:', len(X))"
   ]
  },
  {
   "cell_type": "markdown",
   "id": "gwDcM6_0Hf_5",
   "metadata": {
    "id": "gwDcM6_0Hf_5"
   },
   "source": [
    "* Redimensionamento e normalização dos vetores (X)."
   ]
  },
  {
   "cell_type": "code",
   "execution_count": null,
   "id": "d5c651cf",
   "metadata": {
    "ExecuteTime": {
     "end_time": "2022-03-30T20:05:58.003904Z",
     "start_time": "2022-03-30T20:05:57.202081Z"
    },
    "colab": {
     "base_uri": "https://localhost:8080/"
    },
    "executionInfo": {
     "elapsed": 3728,
     "status": "ok",
     "timestamp": 1657294579377,
     "user": {
      "displayName": "Wanderson Rodrigues Marques",
      "userId": "04562351185863673991"
     },
     "user_tz": 180
    },
    "id": "d5c651cf",
    "outputId": "0a177f9f-38b1-4437-a719-7fe480c1754a"
   },
   "outputs": [],
   "source": [
    "VECTOR_SIZE = 300\n",
    "\n",
    "def transform(exemplos, dimension):\n",
    "  results = np.zeros((len(exemplos), dimension, VECTOR_SIZE))\n",
    "  for i, sequence in enumerate(exemplos):\n",
    "    results[i, (dimension - len(sequence)):, :] = sequence    # Padding a esquerda\n",
    "  return results\n",
    " \n",
    "X = transform(X, max_len)\n",
    "\n",
    "# Normalização de X para intervalo [-1,1]\n",
    "X_min = X.min()\n",
    "X_max = X.max()\n",
    "range_X = X_max - X_min\n",
    "\n",
    "X = ((X - X_min)/range_X - 0.5) * 2\n",
    "\n",
    "print('Range após normalização:', [X.min(), X.max()])\n",
    "print(X.shape)"
   ]
  },
  {
   "cell_type": "markdown",
   "id": "V4LmZNg0MRdO",
   "metadata": {
    "id": "V4LmZNg0MRdO"
   },
   "source": [
    "## Agrupamento para Identificação das Reviews mais Representativas"
   ]
  },
  {
   "cell_type": "markdown",
   "id": "XexsYLg_MhML",
   "metadata": {
    "id": "XexsYLg_MhML"
   },
   "source": [
    "* Material de referência: \n",
    "<br> https://dylancastillo.co/nlp-snippets-cluster-documents-using-word2vec/#generate-document-vectors"
   ]
  },
  {
   "cell_type": "markdown",
   "id": "be61c438",
   "metadata": {
    "id": "be61c438"
   },
   "source": [
    "* Vetorização e redução das sentenças para um vetor único por meio da média dos vetores."
   ]
  },
  {
   "cell_type": "code",
   "execution_count": null,
   "id": "BKCP5XltGsTa",
   "metadata": {
    "ExecuteTime": {
     "end_time": "2022-03-30T20:10:04.102315Z",
     "start_time": "2022-03-30T20:10:03.913315Z"
    },
    "colab": {
     "base_uri": "https://localhost:8080/"
    },
    "executionInfo": {
     "elapsed": 476,
     "status": "ok",
     "timestamp": 1657294579810,
     "user": {
      "displayName": "Wanderson Rodrigues Marques",
      "userId": "04562351185863673991"
     },
     "user_tz": 180
    },
    "id": "BKCP5XltGsTa",
    "outputId": "e8b92ef6-dfa8-46dd-b661-efd4ac585395"
   },
   "outputs": [],
   "source": [
    "# Adaptado do material de referência\n",
    "\n",
    "def mean_vectorize(list_of_docs, model):\n",
    "    \"\"\"Generate vectors for list of documents using a Word Embedding\n",
    "\n",
    "    Args:\n",
    "        list_of_docs: List of documents\n",
    "        model: Gensim's Word Embedding (version 4.1.2)\n",
    "\n",
    "    Returns:\n",
    "        List of document vectors\n",
    "    \"\"\"\n",
    "    features = []\n",
    "\n",
    "    for tokens in list_of_docs:\n",
    "        zero_vector = np.zeros(model.vector_size)\n",
    "        vectors = []\n",
    "        for token in tokens:\n",
    "          vectors.append(model[token])\n",
    "        if vectors:\n",
    "            vectors = np.asarray(vectors)\n",
    "            avg_vec = vectors.mean(axis=0)\n",
    "            features.append(avg_vec)\n",
    "        else:\n",
    "            features.append(zero_vector)\n",
    "    return features\n",
    "    \n",
    "vectorized_docs = mean_vectorize(sentences_set, model=word2vc_vectors)\n",
    "\n",
    "print('Shape do vetor médio gerado para cada reviews após o embedding:', (len(vectorized_docs), len(vectorized_docs[0])))"
   ]
  },
  {
   "cell_type": "markdown",
   "id": "Vm-c9dCoIW0E",
   "metadata": {
    "id": "Vm-c9dCoIW0E"
   },
   "source": [
    "* Busca do número ótimo de clusters através da análise de silhueta. O algoritmo de clusterização que está sendo utilizado é o k-means."
   ]
  },
  {
   "cell_type": "code",
   "execution_count": null,
   "id": "MHd5-rhD6xn9",
   "metadata": {
    "ExecuteTime": {
     "end_time": "2022-03-30T21:05:50.440460Z",
     "start_time": "2022-03-30T21:04:17.913000Z"
    },
    "colab": {
     "base_uri": "https://localhost:8080/"
    },
    "executionInfo": {
     "elapsed": 533888,
     "status": "ok",
     "timestamp": 1657295113692,
     "user": {
      "displayName": "Wanderson Rodrigues Marques",
      "userId": "04562351185863673991"
     },
     "user_tz": 180
    },
    "id": "MHd5-rhD6xn9",
    "outputId": "91fc25db-a13a-48e3-8631-1b175d6dd013"
   },
   "outputs": [],
   "source": [
    "# Adaptado do material de referência\n",
    "\n",
    "seed = 1275\n",
    "SAMPLE_SIZE = 350\n",
    "silhouette_score_list = []\n",
    "\n",
    "for k in np.arange(2,21):\n",
    "  km = KMeans(n_clusters=k, n_init=100, init='k-means++', random_state=seed).fit(vectorized_docs)\n",
    "  silhouette_score_list.append(silhouette_score(vectorized_docs, km.labels_, metric=\"euclidean\", sample_size=350, random_state=seed))\n",
    "\n",
    "best_score = max(silhouette_score_list)\n",
    "best_cluster = silhouette_score_list.index(best_score) + 2\n",
    "\n",
    "print('Melhor silhueta:', best_score)\n",
    "print('Nº de Clusters:', best_cluster)"
   ]
  },
  {
   "cell_type": "code",
   "execution_count": null,
   "id": "UqHnp-zU8my1",
   "metadata": {
    "ExecuteTime": {
     "end_time": "2022-03-30T21:06:10.800528Z",
     "start_time": "2022-03-30T21:06:10.695523Z"
    },
    "colab": {
     "base_uri": "https://localhost:8080/",
     "height": 350
    },
    "executionInfo": {
     "elapsed": 27,
     "status": "ok",
     "timestamp": 1657295113695,
     "user": {
      "displayName": "Wanderson Rodrigues Marques",
      "userId": "04562351185863673991"
     },
     "user_tz": 180
    },
    "id": "UqHnp-zU8my1",
    "outputId": "720458a4-42c1-4c03-d113-35c3a432697f"
   },
   "outputs": [],
   "source": [
    "plt.figure(figsize=(8, 5))\n",
    "plt.plot(list(np.arange(2,21)), silhouette_score_list)\n",
    "plt.title('Silhouette Score')\n",
    "plt.xlabel('Clusters')\n",
    "plt.ylabel('silhouette score')\n",
    "plt.show()"
   ]
  },
  {
   "cell_type": "markdown",
   "id": "d3iBKCQgI6kT",
   "metadata": {
    "id": "d3iBKCQgI6kT"
   },
   "source": [
    "* Calcula os parâmetros de silhueta de cada cluster."
   ]
  },
  {
   "cell_type": "code",
   "execution_count": null,
   "id": "h9YU9l6VICQ0",
   "metadata": {
    "ExecuteTime": {
     "end_time": "2022-03-30T20:19:28.146556Z",
     "start_time": "2022-03-30T20:19:28.139558Z"
    },
    "executionInfo": {
     "elapsed": 23,
     "status": "ok",
     "timestamp": 1657295113697,
     "user": {
      "displayName": "Wanderson Rodrigues Marques",
      "userId": "04562351185863673991"
     },
     "user_tz": 180
    },
    "id": "h9YU9l6VICQ0"
   },
   "outputs": [],
   "source": [
    "# Adaptado do material de referência\n",
    "\n",
    "def kmeans_clusters(\n",
    "    X, \n",
    "    k, \n",
    "    mb, \n",
    "    print_silhouette_values, \n",
    "):\n",
    "    \"\"\"Generate clusters and print Silhouette metrics using Kmeans\n",
    "\n",
    "    Args:\n",
    "        X: Matrix of features.\n",
    "        k: Number of clusters.\n",
    "        mb: Size of mini-batches.\n",
    "        print_silhouette_values: Print silhouette values per cluster.\n",
    "\n",
    "    Returns:\n",
    "        Trained clustering model and labels based on X.\n",
    "    \"\"\"\n",
    "    km = KMeans(n_clusters=k, n_init=100, init='k-means++', random_state=seed).fit(X)\n",
    "    print(f\"For n_clusters = {k}\")\n",
    "    print(f\"Silhouette coefficient: {silhouette_score(X, km.labels_):0.2f}\")\n",
    "    print(f\"Inertia:{km.inertia_}\")\n",
    "\n",
    "    if print_silhouette_values:\n",
    "        sample_silhouette_values = silhouette_samples(X, km.labels_)\n",
    "        print(f\"Silhouette values:\")\n",
    "        silhouette_values = []\n",
    "        for i in np.arange(k):\n",
    "            cluster_silhouette_values = sample_silhouette_values[km.labels_ == i]\n",
    "            silhouette_values.append(\n",
    "                (\n",
    "                    i,\n",
    "                    cluster_silhouette_values.shape[0],\n",
    "                    cluster_silhouette_values.mean(),\n",
    "                    cluster_silhouette_values.min(),\n",
    "                    cluster_silhouette_values.max(),\n",
    "                )\n",
    "            )\n",
    "        silhouette_values = sorted(\n",
    "            silhouette_values, key=lambda tup: tup[2], reverse=True\n",
    "        )\n",
    "        for s in silhouette_values:\n",
    "            print(\n",
    "                f\"    Cluster {s[0]}: Size:{s[1]} | Avg:{s[2]:.2f} | Min:{s[3]:.2f} | Max: {s[4]:.2f}\"\n",
    "            )\n",
    "    return km, km.labels_"
   ]
  },
  {
   "cell_type": "code",
   "execution_count": null,
   "id": "AwipBfLMIL65",
   "metadata": {
    "ExecuteTime": {
     "end_time": "2022-03-30T21:07:33.353383Z",
     "start_time": "2022-03-30T21:07:30.766836Z"
    },
    "colab": {
     "base_uri": "https://localhost:8080/"
    },
    "executionInfo": {
     "elapsed": 14151,
     "status": "ok",
     "timestamp": 1657295127826,
     "user": {
      "displayName": "Wanderson Rodrigues Marques",
      "userId": "04562351185863673991"
     },
     "user_tz": 180
    },
    "id": "AwipBfLMIL65",
    "outputId": "0ca09a6e-c225-4182-a01c-c4bb93d2ae6d"
   },
   "outputs": [],
   "source": [
    "clustering, cluster_labels = kmeans_clusters(\n",
    "    X=vectorized_docs,\n",
    "    k=best_cluster,\n",
    "    mb=500,\n",
    "    print_silhouette_values=True,\n",
    ")"
   ]
  },
  {
   "cell_type": "markdown",
   "id": "199ca022",
   "metadata": {
    "id": "199ca022"
   },
   "source": [
    "* Redução de dimensionalidade com o PCA para visualização dos agrupamentos"
   ]
  },
  {
   "cell_type": "code",
   "execution_count": null,
   "id": "9c0c4639",
   "metadata": {
    "ExecuteTime": {
     "end_time": "2022-03-30T21:08:11.092635Z",
     "start_time": "2022-03-30T21:08:11.053441Z"
    },
    "colab": {
     "base_uri": "https://localhost:8080/"
    },
    "executionInfo": {
     "elapsed": 740,
     "status": "ok",
     "timestamp": 1657295128554,
     "user": {
      "displayName": "Wanderson Rodrigues Marques",
      "userId": "04562351185863673991"
     },
     "user_tz": 180
    },
    "id": "9c0c4639",
    "outputId": "df2ebb91-23a5-4f0e-f4f6-dc5049376b9f"
   },
   "outputs": [],
   "source": [
    "scaler = StandardScaler()\n",
    "scaled_docs = scaler.fit_transform(vectorized_docs)\n",
    "pca = PCA(n_components=2)\n",
    "pca_docs = pca.fit_transform(scaled_docs)\n",
    "pca_docs.shape"
   ]
  },
  {
   "cell_type": "code",
   "execution_count": null,
   "id": "HuW_koJ8ScYV",
   "metadata": {
    "ExecuteTime": {
     "end_time": "2022-03-30T21:08:16.782971Z",
     "start_time": "2022-03-30T21:08:16.600955Z"
    },
    "colab": {
     "base_uri": "https://localhost:8080/",
     "height": 350
    },
    "executionInfo": {
     "elapsed": 6,
     "status": "ok",
     "timestamp": 1657295128554,
     "user": {
      "displayName": "Wanderson Rodrigues Marques",
      "userId": "04562351185863673991"
     },
     "user_tz": 180
    },
    "id": "HuW_koJ8ScYV",
    "outputId": "fc067ff0-faa1-4033-e012-66ef131dcf44"
   },
   "outputs": [],
   "source": [
    "plt.figure(figsize=(8, 5))\n",
    "plt.scatter(pca_docs[:, 0], pca_docs[:, 1], c=cluster_labels, edgecolor='none', alpha=0.5, cmap='viridis', s=50)\n",
    "plt.title('Visualização dos agrupamentos em duas dimensões')\n",
    "plt.xlabel('componente 1')\n",
    "plt.ylabel('componente 2')\n",
    "plt.colorbar();"
   ]
  },
  {
   "cell_type": "code",
   "execution_count": null,
   "id": "-m4l2uJILucl",
   "metadata": {
    "ExecuteTime": {
     "end_time": "2022-03-30T21:08:45.096392Z",
     "start_time": "2022-03-30T21:08:45.087394Z"
    },
    "executionInfo": {
     "elapsed": 288,
     "status": "ok",
     "timestamp": 1657295198305,
     "user": {
      "displayName": "Wanderson Rodrigues Marques",
      "userId": "04562351185863673991"
     },
     "user_tz": 180
    },
    "id": "-m4l2uJILucl"
   },
   "outputs": [],
   "source": [
    "# Cria um df relacionando: 'sentiment', 'reviews', 'tokens', 'clusters'.\n",
    "df_clusters = pd.DataFrame({\n",
    "    \"sentiment\": df['label'],\n",
    "    \"reviews\": df['reviews'],\n",
    "    \"tokens\": [\" \".join(text) for text in sentences_set],\n",
    "    \"cluster\": cluster_labels\n",
    "})"
   ]
  },
  {
   "cell_type": "code",
   "execution_count": null,
   "id": "mLKyhMW3Lwek",
   "metadata": {
    "ExecuteTime": {
     "end_time": "2022-03-30T21:08:47.885739Z",
     "start_time": "2022-03-30T21:08:47.875771Z"
    },
    "colab": {
     "base_uri": "https://localhost:8080/",
     "height": 206
    },
    "executionInfo": {
     "elapsed": 304,
     "status": "ok",
     "timestamp": 1657295203999,
     "user": {
      "displayName": "Wanderson Rodrigues Marques",
      "userId": "04562351185863673991"
     },
     "user_tz": 180
    },
    "id": "mLKyhMW3Lwek",
    "outputId": "65d0abe1-6d5d-4311-93fd-8dab83c1bf58"
   },
   "outputs": [],
   "source": [
    "df_clusters.sample(5)"
   ]
  },
  {
   "cell_type": "code",
   "execution_count": null,
   "id": "f33303aa",
   "metadata": {
    "ExecuteTime": {
     "end_time": "2022-03-31T19:10:49.036009Z",
     "start_time": "2022-03-31T19:10:48.977783Z"
    },
    "executionInfo": {
     "elapsed": 26,
     "status": "aborted",
     "timestamp": 1657295129141,
     "user": {
      "displayName": "Wanderson Rodrigues Marques",
      "userId": "04562351185863673991"
     },
     "user_tz": 180
    },
    "id": "f33303aa"
   },
   "outputs": [],
   "source": [
    "#df_clusters.to_csv('cluster_selection.csv')"
   ]
  },
  {
   "cell_type": "markdown",
   "id": "wB5zAQIrJaEN",
   "metadata": {
    "id": "wB5zAQIrJaEN"
   },
   "source": [
    "numpy.argsort: Returns the indices that would sort an array\n",
    "<br> https://numpy.org/doc/stable/reference/generated/numpy.argsort.html\n",
    "<br> numpy.linalg.norm: Matrix or vector norm\n",
    "<br> https://numpy.org/doc/stable/reference/generated/numpy.linalg.norm.html"
   ]
  },
  {
   "cell_type": "markdown",
   "id": "ihpdnO9XJib0",
   "metadata": {
    "id": "ihpdnO9XJib0"
   },
   "source": [
    "* Documentos mais representativos para cada cluster."
   ]
  },
  {
   "cell_type": "code",
   "execution_count": null,
   "id": "K8BM-LJFKsEM",
   "metadata": {
    "ExecuteTime": {
     "end_time": "2022-03-31T18:50:49.559075Z",
     "start_time": "2022-03-31T18:50:49.505074Z"
    },
    "colab": {
     "base_uri": "https://localhost:8080/"
    },
    "executionInfo": {
     "elapsed": 304,
     "status": "ok",
     "timestamp": 1657295249665,
     "user": {
      "displayName": "Wanderson Rodrigues Marques",
      "userId": "04562351185863673991"
     },
     "user_tz": 180
    },
    "id": "K8BM-LJFKsEM",
    "outputId": "a16e608e-15a2-441f-9746-8a2ebf466dcb"
   },
   "outputs": [],
   "source": [
    "# Adaptado do material de referência\n",
    "most_representative_docs_c0 = np.argsort(np.linalg.norm(vectorized_docs - clustering.cluster_centers_[0], axis=1))\n",
    "most_representative_docs_c1 = np.argsort(np.linalg.norm(vectorized_docs - clustering.cluster_centers_[1], axis=1))\n",
    "# most_representative_docs_c2 = np.argsort(np.linalg.norm(vectorized_docs - clustering.cluster_centers_[2], axis=1))\n",
    "\n",
    "for d in most_representative_docs_c0[:5]:\n",
    "    print(df_clusters.iloc[d])\n",
    "    print(\"-------------\")"
   ]
  },
  {
   "cell_type": "markdown",
   "id": "PPKSCwXUJqVy",
   "metadata": {
    "id": "PPKSCwXUJqVy"
   },
   "source": [
    "* Armazena em um dataframe os 30 documentos (reviews) mais representativas de cada cluster."
   ]
  },
  {
   "cell_type": "code",
   "execution_count": null,
   "id": "23d594e1",
   "metadata": {
    "ExecuteTime": {
     "end_time": "2022-04-01T20:08:29.316498Z",
     "start_time": "2022-04-01T20:08:29.283462Z"
    },
    "executionInfo": {
     "elapsed": 277,
     "status": "ok",
     "timestamp": 1657295343979,
     "user": {
      "displayName": "Wanderson Rodrigues Marques",
      "userId": "04562351185863673991"
     },
     "user_tz": 180
    },
    "id": "23d594e1"
   },
   "outputs": [],
   "source": [
    "# Distâncias de cada documento para cada um dos centroídes\n",
    "distance_docs_c0 = np.sort(np.linalg.norm(vectorized_docs - clustering.cluster_centers_[0], axis=1))\n",
    "distance_docs_c1 = np.sort(np.linalg.norm(vectorized_docs - clustering.cluster_centers_[1], axis=1))\n",
    "# distance_docs_c2 = np.sort(np.linalg.norm(vectorized_docs - clustering.cluster_centers_[2], axis=1))"
   ]
  },
  {
   "cell_type": "code",
   "execution_count": null,
   "id": "47313d5e",
   "metadata": {
    "ExecuteTime": {
     "end_time": "2022-04-01T20:09:41.432091Z",
     "start_time": "2022-04-01T20:09:41.257353Z"
    },
    "colab": {
     "base_uri": "https://localhost:8080/",
     "height": 1000
    },
    "executionInfo": {
     "elapsed": 384,
     "status": "ok",
     "timestamp": 1657295446835,
     "user": {
      "displayName": "Wanderson Rodrigues Marques",
      "userId": "04562351185863673991"
     },
     "user_tz": 180
    },
    "id": "47313d5e",
    "outputId": "010372a4-366c-4bde-fc35-77be9e73b357"
   },
   "outputs": [],
   "source": [
    "# Adaptado do material de referência\n",
    "# 30 reviews mais representativas em cada cluster\n",
    "df_reviews_importance_c0 = df_clusters.iloc[most_representative_docs_c0[:30]]\n",
    "df_reviews_importance_c1 = df_clusters.iloc[most_representative_docs_c1[:30]]\n",
    "# df_reviews_importance_c2 = df_clusters.iloc[most_representative_docs_c2[:30]]\n",
    "\n",
    "df_reviews_importance = pd.concat([df_reviews_importance_c0, df_reviews_importance_c1])\n",
    "df_reviews_importance['position'] = np.concatenate((most_representative_docs_c0[:30], most_representative_docs_c1[:30]                                                  ), axis=None)\n",
    "df_reviews_importance['distance'] = np.concatenate((distance_docs_c0[:30], distance_docs_c1[:30]), axis=None)\n",
    "\n",
    "df_reviews_importance.reset_index(drop=True, inplace=True)\n",
    "df_reviews_importance"
   ]
  },
  {
   "cell_type": "code",
   "execution_count": null,
   "id": "9c9a39be",
   "metadata": {
    "ExecuteTime": {
     "end_time": "2022-04-01T20:53:36.997649Z",
     "start_time": "2022-04-01T20:53:36.959650Z"
    },
    "executionInfo": {
     "elapsed": 26,
     "status": "aborted",
     "timestamp": 1657295129142,
     "user": {
      "displayName": "Wanderson Rodrigues Marques",
      "userId": "04562351185863673991"
     },
     "user_tz": 180
    },
    "id": "9c9a39be"
   },
   "outputs": [],
   "source": [
    "#df_reviews_importance.to_csv('reviews_importance_distance.csv')"
   ]
  },
  {
   "cell_type": "markdown",
   "id": "581c4739",
   "metadata": {
    "id": "581c4739"
   },
   "source": [
    "## C1: Random Forest"
   ]
  },
  {
   "cell_type": "markdown",
   "id": "sX7P4mvwK0Tq",
   "metadata": {
    "id": "sX7P4mvwK0Tq"
   },
   "source": [
    "* Executa a busca de parâmetros para o Random Forest utilizando o k-fold estratificado com k = 10."
   ]
  },
  {
   "cell_type": "code",
   "execution_count": null,
   "id": "868c6d5b",
   "metadata": {
    "ExecuteTime": {
     "end_time": "2022-03-30T21:14:02.567658Z",
     "start_time": "2022-03-30T21:11:44.110011Z"
    },
    "colab": {
     "base_uri": "https://localhost:8080/",
     "height": 235
    },
    "executionInfo": {
     "elapsed": 424,
     "status": "error",
     "timestamp": 1657295479998,
     "user": {
      "displayName": "Wanderson Rodrigues Marques",
      "userId": "04562351185863673991"
     },
     "user_tz": 180
    },
    "id": "868c6d5b",
    "outputId": "7dcf6ad8-d6a7-4e96-b3fe-07c7df6b9a04"
   },
   "outputs": [],
   "source": [
    "seed = 1275\n",
    "X_rfc = np.reshape(X,(X.shape[0], max_len*VECTOR_SIZE))\n",
    "y_rfc = y\n",
    "\n",
    "# Divisao da base de dados em treinamento, validacao e teste\n",
    "X_train, X_test, y_train, y_test = train_test_split(X_rfc, y_rfc, test_size=0.2, stratify=y_rfc, random_state=seed)\n",
    "#X_train, X_valid, y_train, y_valid = train_test_split(X_train, y_train, test_size = 0.2, stratify=y_train, random_state=seed)\n",
    "\n",
    "# Instanciando o modelo\n",
    "rfc = RandomForestClassifier(random_state=seed)\n",
    "\n",
    "# K-fold estratificado com k = 10\n",
    "cv = StratifiedKFold(n_splits=10)\n",
    "\n",
    "# definição dos parâmetros para a árvore de decisão\n",
    "param_distributions = { \n",
    "                        'n_estimators': [10,11,12,15,16,17,18,19,20],\n",
    "                        'criterion': ['gini', 'entropy'],\n",
    "                        'max_depth': [12,14,15,16,17,18,20],\n",
    "                        'min_samples_split': [15,16,17,18,19,20,21,25],\n",
    "                        'min_samples_leaf': [4,5,6,7,8,9,10],\n",
    "                        'max_features':['auto', 'sqrt'] #, 'log2']\n",
    "                      }\n",
    "\n",
    "# define random search for decision tree\n",
    "rnd_search_rfc = RandomizedSearchCV(  estimator=rfc, \n",
    "                                      param_distributions = param_distributions, \n",
    "                                      n_iter=25, scoring='f1', \n",
    "                                      n_jobs=3, cv=cv, random_state=seed\n",
    "                                    )\n",
    "# execute search\n",
    "result_rfc = rnd_search_rfc.fit(X_train, y_train)"
   ]
  },
  {
   "cell_type": "markdown",
   "id": "oIvCqGASLS_F",
   "metadata": {
    "id": "oIvCqGASLS_F"
   },
   "source": [
    "* Sumariza as métricas de avaliação para o Random Forest."
   ]
  },
  {
   "cell_type": "code",
   "execution_count": null,
   "id": "04368520",
   "metadata": {
    "ExecuteTime": {
     "end_time": "2022-03-30T21:14:19.512831Z",
     "start_time": "2022-03-30T21:14:02.569659Z"
    },
    "colab": {
     "base_uri": "https://localhost:8080/",
     "height": 253
    },
    "executionInfo": {
     "elapsed": 11,
     "status": "error",
     "timestamp": 1657295480001,
     "user": {
      "displayName": "Wanderson Rodrigues Marques",
      "userId": "04562351185863673991"
     },
     "user_tz": 180
    },
    "id": "04368520",
    "outputId": "4172f718-c30d-42b6-d1fb-1bec8bd9e906"
   },
   "outputs": [],
   "source": [
    "# summarize result for random forest\n",
    "print('=========Random Search Results for RandomForest==========')\n",
    "print('Best Score: %s' % result_rfc.best_score_)\n",
    "print('Best Hyperparameters: %s' % result_rfc.best_params_)\n",
    "\n",
    "# Instanciando e avaliando o modelo\n",
    "RFC = RandomForestClassifier(**result_rfc.best_params_, random_state=seed)\n",
    "\n",
    "model = RFC.fit(X_train, y_train)\n",
    "y_predicted = RFC.predict(X_test)\n",
    "\n",
    "print('\\nDesempenho médio do RandomForest:')\n",
    "\n",
    "cv_results = cross_val_score(RFC, X_train, y_train, cv=cv, scoring='f1')\n",
    "#cv_models_results['randomForest'] = cv_results\n",
    "\n",
    "name = 'RandomForest'\n",
    "msg = \"%s: %f (%f)\" % (name, cv_results.mean(), cv_results.std())\n",
    "print(msg)\n",
    "\n",
    "print(\"\\nAcuracia do Random Forest: Treinamento\",  RFC.score(X_train, y_train),\" Teste\", RFC.score(X_test, y_test))\n",
    "print(\"\\nClassification report:\\n\", classification_report(y_test, y_predicted))\n",
    "print(\"Confusion matrix:\\n\", confusion_matrix(y_test, y_predicted))"
   ]
  },
  {
   "cell_type": "code",
   "execution_count": null,
   "id": "ef028f3c",
   "metadata": {
    "ExecuteTime": {
     "end_time": "2022-03-30T21:17:14.425353Z",
     "start_time": "2022-03-30T21:17:14.305346Z"
    },
    "executionInfo": {
     "elapsed": 8,
     "status": "aborted",
     "timestamp": 1657295480000,
     "user": {
      "displayName": "Wanderson Rodrigues Marques",
      "userId": "04562351185863673991"
     },
     "user_tz": 180
    },
    "id": "ef028f3c"
   },
   "outputs": [],
   "source": [
    "# Matriz de confusão com heatmap\n",
    "rf_confusion_matrix = pd.crosstab(y_test, y_predicted, rownames=['Valor Atual'], colnames=['Valor Predito'])\n",
    "\n",
    "sn.heatmap(rf_confusion_matrix, annot=True, fmt=\"d\", cmap='inferno', linewidths=.5)\n",
    "plt.show()"
   ]
  },
  {
   "cell_type": "markdown",
   "id": "0D6DSmjGUQjX",
   "metadata": {
    "id": "0D6DSmjGUQjX"
   },
   "source": [
    "## C2: CNN"
   ]
  },
  {
   "cell_type": "markdown",
   "id": "RoQe48DTLytj",
   "metadata": {
    "id": "RoQe48DTLytj"
   },
   "source": [
    "### Importação das Bibliotecas Necessárias"
   ]
  },
  {
   "cell_type": "markdown",
   "id": "KJBU5FhtTkeg",
   "metadata": {
    "id": "KJBU5FhtTkeg"
   },
   "source": [
    "Tensorflow Addons: https://github.com/tensorflow/addons"
   ]
  },
  {
   "cell_type": "code",
   "execution_count": null,
   "id": "2XIYeL9u1m4k",
   "metadata": {
    "ExecuteTime": {
     "end_time": "2022-03-30T21:23:51.899955Z",
     "start_time": "2022-03-30T21:23:48.592912Z"
    },
    "id": "2XIYeL9u1m4k"
   },
   "outputs": [],
   "source": [
    "#!pip install tensorflow-addons"
   ]
  },
  {
   "cell_type": "code",
   "execution_count": null,
   "id": "b34cd8d0",
   "metadata": {
    "ExecuteTime": {
     "end_time": "2022-03-30T21:35:19.212213Z",
     "start_time": "2022-03-30T21:35:19.002212Z"
    },
    "id": "b34cd8d0"
   },
   "outputs": [],
   "source": [
    "import tensorflow as tf\n",
    "from tensorflow import keras\n",
    "import tensorflow_addons as tfa\n",
    "from tensorflow.keras import Sequential\n",
    "from tensorflow.keras.layers import Dense, Dropout, LSTM, Conv1D #Embedding, Input"
   ]
  },
  {
   "cell_type": "code",
   "execution_count": null,
   "id": "9RXebTQw4czW",
   "metadata": {
    "ExecuteTime": {
     "end_time": "2022-03-30T21:35:26.615889Z",
     "start_time": "2022-03-30T21:35:26.610888Z"
    },
    "id": "9RXebTQw4czW"
   },
   "outputs": [],
   "source": [
    "print(\"Tensorflow Version: \", tf.__version__)\n",
    "print(\"GPUs Available: \", len(tf.config.list_physical_devices('GPU')))\n",
    "print(\"Tensorflow Adons Version: \", tfa.__version__)"
   ]
  },
  {
   "cell_type": "markdown",
   "id": "Ldz53W3JMAib",
   "metadata": {
    "id": "Ldz53W3JMAib"
   },
   "source": [
    "### Divisão dos Conjuntos de Treinamento, Validação e Teste - CNN"
   ]
  },
  {
   "cell_type": "code",
   "execution_count": null,
   "id": "6Xid5AaiPA_8",
   "metadata": {
    "ExecuteTime": {
     "end_time": "2022-03-30T21:35:34.620905Z",
     "start_time": "2022-03-30T21:35:34.321907Z"
    },
    "id": "6Xid5AaiPA_8"
   },
   "outputs": [],
   "source": [
    "seed = 1275\n",
    "# Divisao da base de dados em treinamento, validacao e teste\n",
    "X_train_cnn, X_test_cnn, y_train_cnn, y_test_cnn = train_test_split(X, y, test_size=0.1, stratify=y, random_state=seed)\n",
    "X_train_cnn, X_valid_cnn, y_train_cnn, y_valid_cnn = train_test_split(X_train_cnn, y_train_cnn, test_size = 0.2, stratify=y_train_cnn, random_state=seed)\n",
    "\n",
    "print('Shape do Conjunto de Treino: ', X_train_cnn.shape)\n",
    "print('Shape das labels de Treino: ', y_train_cnn.shape)\n",
    "print('Shape do Conjunto de Validação: ', X_valid_cnn.shape)\n",
    "print('Shape das labels de Validação: ', y_valid_cnn.shape)\n",
    "print('Shape do Conjunto de Teste: ', X_test_cnn.shape)\n",
    "print('Shape das labels de Teste: ', y_test_cnn.shape)"
   ]
  },
  {
   "cell_type": "markdown",
   "id": "Te_ukvHCMXMq",
   "metadata": {
    "id": "Te_ukvHCMXMq"
   },
   "source": [
    "### Definição do Modelo - CNN"
   ]
  },
  {
   "cell_type": "code",
   "execution_count": null,
   "id": "kxCXYJiJUP8T",
   "metadata": {
    "ExecuteTime": {
     "end_time": "2022-03-30T21:35:44.794760Z",
     "start_time": "2022-03-30T21:35:42.401706Z"
    },
    "id": "kxCXYJiJUP8T"
   },
   "outputs": [],
   "source": [
    "INPUT_SHAPE = (max_len, VECTOR_SIZE,)\n",
    "\n",
    "# Hiperparameters\n",
    "FILTERS_LAYER_1=32\n",
    "KERNEL_SIZE=3\n",
    "HIDDEN_LAYER_1_NODES=20 #100\n",
    "HIDDEN_LAYER_2_NODES=10 #50\n",
    "DROPOUT_PROB=0.30\n",
    "\n",
    "model_cnn = keras.models.Sequential([\n",
    "    keras.layers.Conv1D(FILTERS_LAYER_1, KERNEL_SIZE, strides= 1, padding=\"same\", activation='relu', input_shape=INPUT_SHAPE),\n",
    "    keras.layers.GlobalMaxPooling1D(),\n",
    "    keras.layers.Dense(HIDDEN_LAYER_1_NODES, activation='relu'),\n",
    "    keras.layers.Dropout(DROPOUT_PROB),\n",
    "    keras.layers.Dense(HIDDEN_LAYER_2_NODES, activation='relu'),\n",
    "    keras.layers.Dropout(DROPOUT_PROB),\n",
    "    keras.layers.Dense(1, activation='sigmoid')\n",
    "])\n",
    "\n",
    "# Obs.: A última camada utiliza função de ativação sigmoid por se tratar de uma \n",
    "# classificação binária: a avaliação é positiva ou negativa\n",
    "\n",
    "model_cnn.summary()"
   ]
  },
  {
   "cell_type": "code",
   "execution_count": null,
   "id": "6Qc1_SEfVfv2",
   "metadata": {
    "ExecuteTime": {
     "end_time": "2022-03-30T21:35:50.280670Z",
     "start_time": "2022-03-30T21:35:50.249670Z"
    },
    "id": "6Qc1_SEfVfv2"
   },
   "outputs": [],
   "source": [
    "from tensorflow_addons.metrics.f_scores import F1Score\n",
    "# F1Score = tfa.metrics.F1Score(num_classes=2, average=\"micro\", threshold=0.5)\n",
    "model_cnn.compile(loss=\"binary_crossentropy\", optimizer=\"adam\", metrics= F1Score(num_classes=2, average=\"micro\", threshold=0.6))"
   ]
  },
  {
   "cell_type": "code",
   "execution_count": null,
   "id": "__6i-sM_VkMe",
   "metadata": {
    "ExecuteTime": {
     "end_time": "2022-03-30T21:35:52.573476Z",
     "start_time": "2022-03-30T21:35:52.562511Z"
    },
    "id": "__6i-sM_VkMe"
   },
   "outputs": [],
   "source": [
    "BATCH_SIZE = 25    # Tamanho do batch de treinamento\n",
    "N_EPOCHS = 100"
   ]
  },
  {
   "cell_type": "code",
   "execution_count": null,
   "id": "l5ZhMnhyVlRU",
   "metadata": {
    "ExecuteTime": {
     "end_time": "2022-03-30T21:36:20.473107Z",
     "start_time": "2022-03-30T21:35:57.594712Z"
    },
    "id": "l5ZhMnhyVlRU"
   },
   "outputs": [],
   "source": [
    "callback = tf.keras.callbacks.EarlyStopping(monitor='val_loss', patience=10) \n",
    "# This callback will stop the training when there is no improvement in the loss for five consecutive epochs.\n",
    "\n",
    "history_cnn = model_cnn.fit(\n",
    "                            x=X_train_cnn, \n",
    "                            y=y_train_cnn, \n",
    "                            epochs=N_EPOCHS, \n",
    "                            batch_size=BATCH_SIZE, \n",
    "                            verbose='auto', \n",
    "                            validation_data=(X_valid_cnn,y_valid_cnn),\n",
    "                            callbacks=[callback],\n",
    "                          )\n",
    "print('\\nQuantidade de épocas executadas: ', len(history_cnn.history['val_loss']))"
   ]
  },
  {
   "cell_type": "markdown",
   "id": "C_gyHJTwMrQL",
   "metadata": {
    "id": "C_gyHJTwMrQL"
   },
   "source": [
    "* Loss e F1-score para os conjuntos de validação e teste."
   ]
  },
  {
   "cell_type": "code",
   "execution_count": null,
   "id": "MVCpzcEmArUL",
   "metadata": {
    "ExecuteTime": {
     "end_time": "2022-03-30T21:36:41.456840Z",
     "start_time": "2022-03-30T21:36:40.626873Z"
    },
    "id": "MVCpzcEmArUL"
   },
   "outputs": [],
   "source": [
    "valid_loss_cnn, valid_f1_score_cnn = model_cnn.evaluate(X_valid_cnn, y_valid_cnn, verbose = 'auto')\n",
    "\n",
    "print('Valid Loss:', valid_loss_cnn)\n",
    "print('Valid F1 Score:', valid_f1_score_cnn)"
   ]
  },
  {
   "cell_type": "code",
   "execution_count": null,
   "id": "YqCOZXBraZXg",
   "metadata": {
    "ExecuteTime": {
     "end_time": "2022-03-30T21:36:47.395736Z",
     "start_time": "2022-03-30T21:36:46.970327Z"
    },
    "id": "YqCOZXBraZXg"
   },
   "outputs": [],
   "source": [
    "test_loss_cnn, test_f1_score_cnn = model_cnn.evaluate(X_test_cnn, y_test_cnn, verbose = 'auto')\n",
    "\n",
    "print('Test Loss:', test_loss_cnn)\n",
    "print('Test F1 Score:', test_f1_score_cnn)"
   ]
  },
  {
   "cell_type": "markdown",
   "id": "T-qWtH6SM7l0",
   "metadata": {
    "id": "T-qWtH6SM7l0"
   },
   "source": [
    "* Plotagem do histórico de treinamento  do modelo - CNN"
   ]
  },
  {
   "cell_type": "code",
   "execution_count": null,
   "id": "awjTqAvDaKjC",
   "metadata": {
    "ExecuteTime": {
     "end_time": "2022-03-30T21:36:51.221853Z",
     "start_time": "2022-03-30T21:36:51.009816Z"
    },
    "id": "awjTqAvDaKjC"
   },
   "outputs": [],
   "source": [
    "plt.figure(figsize=(15, 5))\n",
    "plt.subplot(1, 2, 1)\n",
    "plt.plot(history_cnn.history['val_f1_score'], color='blue', label='val_f1_score')\n",
    "plt.plot(history_cnn.history['f1_score'], color='red', label='train_f1_score')\n",
    "plt.title('f1_score')\n",
    "plt.xlabel('Epochs')\n",
    "plt.ylabel('f1_score')\n",
    "#plt.ylim(None, 1)\n",
    "plt.legend()\n",
    "plt.subplot(1, 2, 2)\n",
    "plt.plot(history_cnn.history['val_loss'], color='blue', label='val_loss')\n",
    "plt.plot(history_cnn.history['loss'], color='red', label='train_loss')\n",
    "plt.title('Loss')\n",
    "plt.xlabel('Epochs')\n",
    "plt.ylabel('Loss')\n",
    "#plt.ylim(0, None);\n",
    "plt.legend();"
   ]
  },
  {
   "cell_type": "markdown",
   "id": "6sezdwziNFtC",
   "metadata": {
    "id": "6sezdwziNFtC"
   },
   "source": [
    "### Predição e Métricas de Avaliação - CNN"
   ]
  },
  {
   "cell_type": "code",
   "execution_count": null,
   "id": "MNq2URaNa07X",
   "metadata": {
    "ExecuteTime": {
     "end_time": "2022-03-30T21:37:02.150291Z",
     "start_time": "2022-03-30T21:37:01.898444Z"
    },
    "id": "MNq2URaNa07X"
   },
   "outputs": [],
   "source": [
    "y_predicted_cnn = (model_cnn.predict(X_test_cnn) > 0.5).astype('int8')\n",
    "print(np.reshape(y_predicted_cnn, len(y_predicted_cnn)))"
   ]
  },
  {
   "cell_type": "code",
   "execution_count": null,
   "id": "ZMGh7kMHbM5e",
   "metadata": {
    "ExecuteTime": {
     "end_time": "2022-03-30T21:37:06.421913Z",
     "start_time": "2022-03-30T21:37:06.401899Z"
    },
    "id": "ZMGh7kMHbM5e"
   },
   "outputs": [],
   "source": [
    "print(\"\\nClassification report:\\n\", classification_report(y_test_cnn, y_predicted_cnn))\n",
    "print(\"Confusion matrix:\\n\", confusion_matrix(y_test_cnn, y_predicted_cnn))"
   ]
  },
  {
   "cell_type": "code",
   "execution_count": null,
   "id": "cW-kHvmtd329",
   "metadata": {
    "ExecuteTime": {
     "end_time": "2022-03-30T21:38:12.681864Z",
     "start_time": "2022-03-30T21:38:12.546865Z"
    },
    "id": "cW-kHvmtd329"
   },
   "outputs": [],
   "source": [
    "# Matriz de confusão com heatmap\n",
    "cnn_confusion_matrix = pd.crosstab(np.reshape(y_test_cnn, len(y_test_cnn)), np.reshape(y_predicted_cnn, len(y_predicted_cnn)), rownames=['Valor Atual'], colnames=['Valor Predito'])\n",
    "\n",
    "sn.heatmap(cnn_confusion_matrix, annot=True, fmt=\"d\", cmap='inferno', linewidths=.5)\n",
    "plt.show()"
   ]
  },
  {
   "cell_type": "markdown",
   "id": "pR1wHN7hA0DL",
   "metadata": {
    "id": "pR1wHN7hA0DL"
   },
   "source": [
    "### Ajuste dos Hiperparâmetros com keras tuner - CNN"
   ]
  },
  {
   "cell_type": "markdown",
   "id": "_AROBCuugmQQ",
   "metadata": {
    "id": "_AROBCuugmQQ"
   },
   "source": [
    "* Material de Referência: https://www.tensorflow.org/tutorials/keras/keras_tuner"
   ]
  },
  {
   "cell_type": "code",
   "execution_count": null,
   "id": "X5cAo58ABL2k",
   "metadata": {
    "ExecuteTime": {
     "end_time": "2022-03-25T15:15:47.927692Z",
     "start_time": "2022-03-25T15:15:45.841649Z"
    },
    "id": "X5cAo58ABL2k"
   },
   "outputs": [],
   "source": [
    "#!pip install -q -U keras-tuner"
   ]
  },
  {
   "cell_type": "code",
   "execution_count": null,
   "id": "U1bmzz7KAzTz",
   "metadata": {
    "ExecuteTime": {
     "end_time": "2022-03-30T21:43:06.468874Z",
     "start_time": "2022-03-30T21:43:06.323738Z"
    },
    "id": "U1bmzz7KAzTz"
   },
   "outputs": [],
   "source": [
    "import keras_tuner as kt"
   ]
  },
  {
   "cell_type": "markdown",
   "id": "N2qAzvjvhJIS",
   "metadata": {
    "id": "N2qAzvjvhJIS"
   },
   "source": [
    "* Definindo o modelo e determinando quais hiperparâmetros serão testados."
   ]
  },
  {
   "cell_type": "code",
   "execution_count": null,
   "id": "z42BC7s1BbdV",
   "metadata": {
    "ExecuteTime": {
     "end_time": "2022-03-31T02:24:16.357961Z",
     "start_time": "2022-03-31T02:24:16.332931Z"
    },
    "id": "z42BC7s1BbdV"
   },
   "outputs": [],
   "source": [
    "from tensorflow_addons.metrics.f_scores import F1Score\n",
    "METRICS_F1 = F1Score(num_classes=2, average=\"micro\", threshold=0.6)\n",
    "\n",
    "def model_cnn_builder(hp):\n",
    "  # Hiperparameters\n",
    "  KERNEL_SIZE=3\n",
    "  DROPOUT_PROB=0.30\n",
    "  INPUT_SHAPE = (max_len, VECTOR_SIZE,)\n",
    "\n",
    "  HP_FILTERS_LAYER_1 = hp.Int('filters_1', min_value=16, max_value=256, step=16)\n",
    "  HP_HIDDEN_LAYER_1_UNITS = hp.Int('units_1', min_value=10, max_value=100, step=10)\n",
    "  HP_HIDDEN_LAYER_2_UNITS = hp.Int('units_2', min_value=10, max_value=50, step=10)\n",
    "\n",
    "  model_cnn_tn = keras.models.Sequential([\n",
    "      keras.layers.Conv1D(filters=HP_FILTERS_LAYER_1, kernel_size=KERNEL_SIZE, strides= 1, padding=\"same\", activation='relu', input_shape=INPUT_SHAPE),\n",
    "      keras.layers.GlobalMaxPooling1D(),\n",
    "      keras.layers.Dense(units=HP_HIDDEN_LAYER_1_UNITS, activation='relu'),\n",
    "      keras.layers.Dropout(DROPOUT_PROB),\n",
    "      keras.layers.Dense(units=HP_HIDDEN_LAYER_2_UNITS, activation='relu'),\n",
    "      keras.layers.Dropout(DROPOUT_PROB),\n",
    "      keras.layers.Dense(1, activation='sigmoid')\n",
    "  ])\n",
    "    \n",
    "  #from tensorflow_addons.metrics.f_scores import F1Score\n",
    "\n",
    "  HP_LEARNING_RATE = hp.Choice('learning_rate', values=[1e-2, 1e-3, 1e-4, 1e-5, 1e-6])\n",
    "\n",
    "  model_cnn_tn.compile(\n",
    "      loss=\"binary_crossentropy\", \n",
    "      optimizer=keras.optimizers.Adam(learning_rate=HP_LEARNING_RATE), \n",
    "      metrics=METRICS_F1\n",
    "  )\n",
    "\n",
    "  return model_cnn_tn"
   ]
  },
  {
   "cell_type": "markdown",
   "id": "DV_xzbkhhYDL",
   "metadata": {
    "id": "DV_xzbkhhYDL"
   },
   "source": [
    "* Definindo o objetivo da busca de hiperparâmetros e determinando o número máximo de épocas."
   ]
  },
  {
   "cell_type": "code",
   "execution_count": null,
   "id": "uJG7pu8_Fs0W",
   "metadata": {
    "ExecuteTime": {
     "end_time": "2022-03-31T09:28:48.276684Z",
     "start_time": "2022-03-31T09:28:48.222461Z"
    },
    "id": "uJG7pu8_Fs0W"
   },
   "outputs": [],
   "source": [
    "MAX_EPOCHS = 150\n",
    "\n",
    "tuner_cnn = kt.Hyperband(\n",
    "                          model_cnn_builder,\n",
    "                          objective= kt.Objective('val_loss', direction='min'), #(\"val_f1_score\", direction=\"max\"),\n",
    "                          max_epochs=MAX_EPOCHS,\n",
    "                          factor=3,\n",
    "                          directory='cnn_tuner_dir_2',\n",
    "                          project_name='cnn_tuner_val_loss_1'\n",
    "                        )\n",
    "#tuner_cnn.search_space_summary()"
   ]
  },
  {
   "cell_type": "markdown",
   "id": "2b_sd80GhqdJ",
   "metadata": {
    "id": "2b_sd80GhqdJ"
   },
   "source": [
    "* Executa a busca de hiperparâmetros."
   ]
  },
  {
   "cell_type": "code",
   "execution_count": null,
   "id": "EE2kaEBOGvnH",
   "metadata": {
    "ExecuteTime": {
     "end_time": "2022-03-31T10:22:34.396938Z",
     "start_time": "2022-03-31T09:56:54.579363Z"
    },
    "id": "EE2kaEBOGvnH"
   },
   "outputs": [],
   "source": [
    "stop_early = tf.keras.callbacks.EarlyStopping(monitor='val_loss', patience=10)\n",
    "\n",
    "BATCH_SIZE = 25    # Tamanho do batch de treinamento\n",
    "N_EPOCHS = 100\n",
    "\n",
    "tuner_cnn.search(\n",
    "                  x=X_train_cnn, \n",
    "                  y=y_train_cnn, \n",
    "                  epochs=N_EPOCHS, \n",
    "                  batch_size=BATCH_SIZE, \n",
    "                  #verbose='auto', \n",
    "                  validation_data=(X_valid_cnn,y_valid_cnn),\n",
    "                  callbacks=[stop_early],\n",
    "                )"
   ]
  },
  {
   "cell_type": "markdown",
   "id": "7EYN-onhiJ5g",
   "metadata": {
    "id": "7EYN-onhiJ5g"
   },
   "source": [
    "* Exibe os melhores hiperparâmetros encontrados durante a busca."
   ]
  },
  {
   "cell_type": "code",
   "execution_count": null,
   "id": "hcC6otY2O9Jb",
   "metadata": {
    "ExecuteTime": {
     "end_time": "2022-03-31T10:28:28.873652Z",
     "start_time": "2022-03-31T10:28:28.856649Z"
    },
    "id": "hcC6otY2O9Jb"
   },
   "outputs": [],
   "source": [
    "# Get the optimal hyperparameters\n",
    "best_hps=tuner_cnn.get_best_hyperparameters(num_trials=1)[0]\n",
    "\n",
    "for h_param in ['units_1', 'units_2'] + ['learning_rate'] + ['filters_1']:\n",
    "  print(h_param, best_hps.get(h_param))"
   ]
  },
  {
   "cell_type": "markdown",
   "id": "0uLRz6yQiXW-",
   "metadata": {
    "id": "0uLRz6yQiXW-"
   },
   "source": [
    "* Encontra o número ótimo de épocas para treinar o modelo com os hiperparâmetros obtidos na busca."
   ]
  },
  {
   "cell_type": "code",
   "execution_count": null,
   "id": "SHbpaeT7H4cm",
   "metadata": {
    "ExecuteTime": {
     "end_time": "2022-04-01T19:28:25.651668Z",
     "start_time": "2022-04-01T19:26:28.535775Z"
    },
    "id": "SHbpaeT7H4cm"
   },
   "outputs": [],
   "source": [
    "# Build the model with the optimal hyperparameters and train it on the data for 50 epochs\n",
    "model_cnn_tn = tuner_cnn.hypermodel.build(best_hps)\n",
    "\n",
    "history_cnn_tn = model_cnn_tn.fit(\n",
    "                                    x=X_train_cnn, \n",
    "                                    y=y_train_cnn, \n",
    "                                    epochs=N_EPOCHS, \n",
    "                                    batch_size=BATCH_SIZE, \n",
    "                                    verbose='auto',\n",
    "                                    validation_data=(X_valid_cnn,y_valid_cnn)\n",
    "                                  )\n",
    "\n",
    "val_loss_per_epoch = history_cnn_tn.history['val_loss']\n",
    "best_epoch = val_loss_per_epoch.index(min(val_loss_per_epoch)) + 1\n",
    "print('Best epoch: %d' % (best_epoch,))"
   ]
  },
  {
   "cell_type": "code",
   "execution_count": null,
   "id": "3c45e5e5",
   "metadata": {
    "ExecuteTime": {
     "end_time": "2022-04-01T19:28:30.651920Z",
     "start_time": "2022-04-01T19:28:30.422919Z"
    },
    "id": "3c45e5e5"
   },
   "outputs": [],
   "source": [
    "plt.figure(figsize=(15, 5))\n",
    "plt.subplot(1, 2, 1)\n",
    "plt.plot(history_cnn_tn.history['val_f1_score'], color='blue', label='val_f1_score')\n",
    "plt.plot(history_cnn_tn.history['f1_score'], color='red', label='train_f1_score')\n",
    "plt.title('f1_score')\n",
    "plt.xlabel('Epochs')\n",
    "plt.ylabel('f1_score')\n",
    "#plt.ylim(None, 1)\n",
    "plt.legend()\n",
    "plt.subplot(1, 2, 2)\n",
    "plt.plot(history_cnn_tn.history['val_loss'], color='blue', label='val_loss')\n",
    "plt.plot(history_cnn_tn.history['loss'], color='red', label='train_loss')\n",
    "plt.title('Loss')\n",
    "plt.xlabel('Epochs')\n",
    "plt.ylabel('Loss')\n",
    "#plt.ylim(0, None);\n",
    "plt.legend();"
   ]
  },
  {
   "cell_type": "markdown",
   "id": "vuRfr7rEij1C",
   "metadata": {
    "id": "vuRfr7rEij1C"
   },
   "source": [
    "* Treina o modelo com os melhores hiperparâmetros e com o melhor número de épocas."
   ]
  },
  {
   "cell_type": "code",
   "execution_count": null,
   "id": "vriA0x_UleTJ",
   "metadata": {
    "ExecuteTime": {
     "end_time": "2022-04-01T19:28:44.716014Z",
     "start_time": "2022-04-01T19:28:37.655014Z"
    },
    "id": "vriA0x_UleTJ"
   },
   "outputs": [],
   "source": [
    "hypermodel_cnn = tuner_cnn.hypermodel.build(best_hps)\n",
    "\n",
    "# Retrain the model\n",
    "hypermodel_cnn.fit(\n",
    "                    x=X_train_cnn, \n",
    "                    y=y_train_cnn,  \n",
    "                    epochs=best_epoch,\n",
    "                    batch_size=BATCH_SIZE, \n",
    "                    verbose='auto',\n",
    "                    validation_data=(X_valid_cnn,y_valid_cnn)\n",
    "                  )"
   ]
  },
  {
   "cell_type": "markdown",
   "id": "ikEKiV9kiz7r",
   "metadata": {
    "id": "ikEKiV9kiz7r"
   },
   "source": [
    "* Calcula a loss e o F1-score para o conjunto de teste."
   ]
  },
  {
   "cell_type": "code",
   "execution_count": null,
   "id": "97U1qky-mJOn",
   "metadata": {
    "ExecuteTime": {
     "end_time": "2022-04-01T19:28:49.048070Z",
     "start_time": "2022-04-01T19:28:48.727359Z"
    },
    "id": "97U1qky-mJOn"
   },
   "outputs": [],
   "source": [
    "test_loss_cnn_tn, test_f1_score_cnn_tn = hypermodel_cnn.evaluate(X_test_cnn, y_test_cnn, verbose = 'auto')\n",
    "\n",
    "print('Test Loss:', test_loss_cnn_tn)\n",
    "print('Test F1 Score:', test_f1_score_cnn_tn)"
   ]
  },
  {
   "cell_type": "markdown",
   "id": "Tx1wadeBjBZE",
   "metadata": {
    "id": "Tx1wadeBjBZE"
   },
   "source": [
    "### Predição e Métricas de Avaliação após busca de hiperparâmetros - CNN"
   ]
  },
  {
   "cell_type": "code",
   "execution_count": null,
   "id": "legj8lmsSTZQ",
   "metadata": {
    "ExecuteTime": {
     "end_time": "2022-04-01T19:28:55.007889Z",
     "start_time": "2022-04-01T19:28:54.722888Z"
    },
    "id": "legj8lmsSTZQ"
   },
   "outputs": [],
   "source": [
    "y_predicted_hp_cnn = (hypermodel_cnn.predict(X_test_cnn) > 0.5).astype('int8')\n",
    "\n",
    "print(\"\\nClassification report:\\n\", classification_report(y_test_cnn, y_predicted_hp_cnn))\n",
    "print(\"Confusion matrix:\\n\", confusion_matrix(y_test_cnn, y_predicted_hp_cnn))"
   ]
  },
  {
   "cell_type": "code",
   "execution_count": null,
   "id": "035719c5",
   "metadata": {
    "ExecuteTime": {
     "end_time": "2022-04-01T20:50:27.976774Z",
     "start_time": "2022-04-01T20:50:27.847731Z"
    },
    "id": "035719c5"
   },
   "outputs": [],
   "source": [
    "cnn_confusion_matrix = pd.crosstab(np.reshape(y_test_cnn, len(y_test_cnn)), np.reshape(y_predicted_hp_cnn, len(y_predicted_hp_cnn)), rownames=['Valor Atual'], colnames=['Valor Predito'])\n",
    "\n",
    "sn.heatmap(cnn_confusion_matrix, annot=True, fmt=\"d\", cmap='viridis', linewidths=.5)\n",
    "plt.show()"
   ]
  },
  {
   "cell_type": "markdown",
   "id": "ee0b4840",
   "metadata": {
    "id": "ee0b4840"
   },
   "source": [
    "## C3: LSTM"
   ]
  },
  {
   "cell_type": "markdown",
   "id": "FuRxmtvXjvd7",
   "metadata": {
    "id": "FuRxmtvXjvd7"
   },
   "source": [
    "### Divisão dos Conjuntos de Treino, Validação e Teste - LSTM"
   ]
  },
  {
   "cell_type": "code",
   "execution_count": null,
   "id": "-Gu59qTwm4gj",
   "metadata": {
    "ExecuteTime": {
     "end_time": "2022-03-30T21:38:40.289786Z",
     "start_time": "2022-03-30T21:38:39.978797Z"
    },
    "executionInfo": {
     "elapsed": 32,
     "status": "aborted",
     "timestamp": 1657295129156,
     "user": {
      "displayName": "Wanderson Rodrigues Marques",
      "userId": "04562351185863673991"
     },
     "user_tz": 180
    },
    "id": "-Gu59qTwm4gj"
   },
   "outputs": [],
   "source": [
    "seed = 1275\n",
    "# Divisao da base de dados em treinamento, validacao e teste\n",
    "X_train_lstm, X_test_lstm, y_train_lstm, y_test_lstm = train_test_split(X, y, test_size=0.1, stratify=y, random_state=seed)\n",
    "X_train_lstm, X_valid_lstm, y_train_lstm, y_valid_lstm = train_test_split(X_train_lstm, y_train_lstm, test_size = 0.2, stratify=y_train_lstm, random_state=seed)\n",
    "\n",
    "print('Shape do Conjunto de Treino: ', X_train_lstm.shape)\n",
    "print('Shape das labels de Treino: ', y_train_lstm.shape)\n",
    "print('Shape do Conjunto de Validação: ', X_valid_lstm.shape)\n",
    "print('Shape das labels de Validação: ', y_valid_lstm.shape)\n",
    "print('Shape do Conjunto de Teste: ', X_test_lstm.shape)\n",
    "print('Shape das labels de Teste: ', y_test_lstm.shape)"
   ]
  },
  {
   "cell_type": "markdown",
   "id": "uT8xBq9ckE8e",
   "metadata": {
    "id": "uT8xBq9ckE8e"
   },
   "source": [
    "### Definição do Modelo - LSTM"
   ]
  },
  {
   "cell_type": "code",
   "execution_count": null,
   "id": "0b2567fe",
   "metadata": {
    "ExecuteTime": {
     "end_time": "2022-03-30T21:38:43.291915Z",
     "start_time": "2022-03-30T21:38:43.010960Z"
    },
    "executionInfo": {
     "elapsed": 32,
     "status": "aborted",
     "timestamp": 1657295129156,
     "user": {
      "displayName": "Wanderson Rodrigues Marques",
      "userId": "04562351185863673991"
     },
     "user_tz": 180
    },
    "id": "0b2567fe"
   },
   "outputs": [],
   "source": [
    "#vocab_size = len(model_amazon.wv.vocab)\n",
    "#embedding_dim = 10\n",
    "\n",
    "INPUT_SHAPE = (max_len,VECTOR_SIZE,)\n",
    "\n",
    "model_lstm = Sequential([ \n",
    "                         keras.layers.LSTM(32, input_shape=INPUT_SHAPE, activation='tanh'),\n",
    "                         keras.layers.Dropout(0.3),   # Regularizador\n",
    "                         keras.layers.Dense(20, activation='relu'),\n",
    "                         keras.layers.Dropout(0.3),   # Regularizador\n",
    "                         keras.layers.Dense(10, activation='relu'),\n",
    "                         keras.layers.Dropout(0.3),   # Regularizador\n",
    "                         keras.layers.Dense(1, activation='sigmoid')\n",
    "                        ])\n",
    "model_lstm.summary()"
   ]
  },
  {
   "cell_type": "markdown",
   "id": "X4dhMXijkQ2f",
   "metadata": {
    "id": "X4dhMXijkQ2f"
   },
   "source": [
    "* Treinamento do modelo - LSTM."
   ]
  },
  {
   "cell_type": "code",
   "execution_count": null,
   "id": "nM63lJ_YON1E",
   "metadata": {
    "ExecuteTime": {
     "end_time": "2022-03-30T21:38:48.067731Z",
     "start_time": "2022-03-30T21:38:48.050732Z"
    },
    "executionInfo": {
     "elapsed": 33,
     "status": "aborted",
     "timestamp": 1657295129157,
     "user": {
      "displayName": "Wanderson Rodrigues Marques",
      "userId": "04562351185863673991"
     },
     "user_tz": 180
    },
    "id": "nM63lJ_YON1E"
   },
   "outputs": [],
   "source": [
    "from tensorflow_addons.metrics.f_scores import F1Score\n",
    "\n",
    "model_lstm.compile(loss=\"binary_crossentropy\", optimizer=\"adam\", metrics= F1Score(num_classes=2, average=\"micro\", threshold=0.6))"
   ]
  },
  {
   "cell_type": "code",
   "execution_count": null,
   "id": "r7ouDeExOT0w",
   "metadata": {
    "ExecuteTime": {
     "end_time": "2022-03-30T21:38:51.281962Z",
     "start_time": "2022-03-30T21:38:51.266963Z"
    },
    "executionInfo": {
     "elapsed": 33,
     "status": "aborted",
     "timestamp": 1657295129157,
     "user": {
      "displayName": "Wanderson Rodrigues Marques",
      "userId": "04562351185863673991"
     },
     "user_tz": 180
    },
    "id": "r7ouDeExOT0w"
   },
   "outputs": [],
   "source": [
    "batch_size = 25    # Tamanho do batch de treinamento\n",
    "n_epochs = 100"
   ]
  },
  {
   "cell_type": "code",
   "execution_count": null,
   "id": "Evz70p7DOZVb",
   "metadata": {
    "ExecuteTime": {
     "end_time": "2022-03-30T21:40:11.878492Z",
     "start_time": "2022-03-30T21:38:56.267515Z"
    },
    "executionInfo": {
     "elapsed": 34,
     "status": "aborted",
     "timestamp": 1657295129158,
     "user": {
      "displayName": "Wanderson Rodrigues Marques",
      "userId": "04562351185863673991"
     },
     "user_tz": 180
    },
    "id": "Evz70p7DOZVb"
   },
   "outputs": [],
   "source": [
    "callback_lstm = tf.keras.callbacks.EarlyStopping(monitor='val_loss', patience=10) \n",
    "# This callback will stop the training when there is no improvement inthe loss for five consecutive epochs.\n",
    "\n",
    "history_lstm = model_lstm.fit(\n",
    "                          x=X_train_lstm, \n",
    "                          y=y_train_lstm, \n",
    "                          epochs=n_epochs, \n",
    "                          batch_size=batch_size, \n",
    "                          verbose='auto', \n",
    "                          validation_data=(X_valid_lstm,y_valid_lstm),\n",
    "                          callbacks=[callback_lstm],\n",
    "                        )\n",
    "print('\\nQuantidade de épocas executadas: ', len(history_lstm.history['val_f1_score']))"
   ]
  },
  {
   "cell_type": "code",
   "execution_count": null,
   "id": "WWVaMVxBIDOq",
   "metadata": {
    "ExecuteTime": {
     "end_time": "2022-03-30T21:40:18.730464Z",
     "start_time": "2022-03-30T21:40:18.283428Z"
    },
    "executionInfo": {
     "elapsed": 34,
     "status": "aborted",
     "timestamp": 1657295129158,
     "user": {
      "displayName": "Wanderson Rodrigues Marques",
      "userId": "04562351185863673991"
     },
     "user_tz": 180
    },
    "id": "WWVaMVxBIDOq"
   },
   "outputs": [],
   "source": [
    "plt.figure(figsize=(15, 5))\n",
    "plt.subplot(1, 2, 1)\n",
    "plt.plot(history_lstm.history['val_f1_score'], color='blue', label='val_f1_score')\n",
    "plt.plot(history_lstm.history['f1_score'], color='red', label='train_f1_score')\n",
    "plt.title('f1_score')\n",
    "plt.xlabel('Epochs')\n",
    "plt.ylabel('f1_score')\n",
    "#plt.ylim(None, 1)\n",
    "plt.legend()\n",
    "plt.subplot(1, 2, 2)\n",
    "plt.plot(history_lstm.history['val_loss'], color='blue', label='val_loss')\n",
    "plt.plot(history_lstm.history['loss'], color='red', label='train_loss')\n",
    "plt.title('Loss')\n",
    "plt.xlabel('Epochs')\n",
    "plt.ylabel('Loss')\n",
    "#plt.ylim(0, None);\n",
    "plt.legend();"
   ]
  },
  {
   "cell_type": "markdown",
   "id": "MRTXHy1Skbxd",
   "metadata": {
    "id": "MRTXHy1Skbxd"
   },
   "source": [
    "### Predição e Métricas de Avaliação - LSTM"
   ]
  },
  {
   "cell_type": "code",
   "execution_count": null,
   "id": "LFxiLbC6p4WM",
   "metadata": {
    "ExecuteTime": {
     "end_time": "2022-03-30T21:40:28.440911Z",
     "start_time": "2022-03-30T21:40:28.028934Z"
    },
    "executionInfo": {
     "elapsed": 34,
     "status": "aborted",
     "timestamp": 1657295129159,
     "user": {
      "displayName": "Wanderson Rodrigues Marques",
      "userId": "04562351185863673991"
     },
     "user_tz": 180
    },
    "id": "LFxiLbC6p4WM"
   },
   "outputs": [],
   "source": [
    "test_loss_lstm, test_f1_score_lstm = model_lstm.evaluate(X_test_lstm, y_test_lstm, verbose = 'auto')\n",
    "\n",
    "print('Test Loss:', test_loss_lstm)\n",
    "print('Test F1 Score:', test_f1_score_lstm)"
   ]
  },
  {
   "cell_type": "code",
   "execution_count": null,
   "id": "WZGB58X2noXy",
   "metadata": {
    "ExecuteTime": {
     "end_time": "2022-03-30T21:40:32.319151Z",
     "start_time": "2022-03-30T21:40:31.699338Z"
    },
    "executionInfo": {
     "elapsed": 34,
     "status": "aborted",
     "timestamp": 1657295129159,
     "user": {
      "displayName": "Wanderson Rodrigues Marques",
      "userId": "04562351185863673991"
     },
     "user_tz": 180
    },
    "id": "WZGB58X2noXy"
   },
   "outputs": [],
   "source": [
    "y_predicted_lstm = (model_lstm.predict(X_test_lstm) > 0.5).astype('int8')\n",
    "print(np.reshape(y_predicted_lstm, len(y_predicted_lstm)))"
   ]
  },
  {
   "cell_type": "code",
   "execution_count": null,
   "id": "FQFjVt9slTyM",
   "metadata": {
    "ExecuteTime": {
     "end_time": "2022-03-30T21:40:36.424668Z",
     "start_time": "2022-03-30T21:40:36.402668Z"
    },
    "executionInfo": {
     "elapsed": 35,
     "status": "aborted",
     "timestamp": 1657295129160,
     "user": {
      "displayName": "Wanderson Rodrigues Marques",
      "userId": "04562351185863673991"
     },
     "user_tz": 180
    },
    "id": "FQFjVt9slTyM"
   },
   "outputs": [],
   "source": [
    "print(\"\\nClassification report:\\n\", classification_report(y_test_lstm, y_predicted_lstm))\n",
    "print(\"Confusion matrix:\\n\", confusion_matrix(y_test_lstm, y_predicted_lstm))"
   ]
  },
  {
   "cell_type": "code",
   "execution_count": null,
   "id": "a0PzCZfWn2kU",
   "metadata": {
    "ExecuteTime": {
     "end_time": "2022-03-30T21:40:48.866800Z",
     "start_time": "2022-03-30T21:40:48.747807Z"
    },
    "executionInfo": {
     "elapsed": 35,
     "status": "aborted",
     "timestamp": 1657295129160,
     "user": {
      "displayName": "Wanderson Rodrigues Marques",
      "userId": "04562351185863673991"
     },
     "user_tz": 180
    },
    "id": "a0PzCZfWn2kU"
   },
   "outputs": [],
   "source": [
    "lstm_confusion_matrix = pd.crosstab(np.reshape(y_test_lstm, len(y_test_lstm)), np.reshape(y_predicted_lstm, len(y_predicted_lstm)), rownames=['Valor Atual'], colnames=['Valor Predito'])\n",
    "\n",
    "sn.heatmap(lstm_confusion_matrix, annot=True, fmt=\"d\", cmap='inferno', linewidths=.5)\n",
    "plt.show()"
   ]
  },
  {
   "cell_type": "markdown",
   "id": "31a724d0",
   "metadata": {
    "id": "31a724d0"
   },
   "source": [
    "### Ajuste dos Hiperparâmetros com keras tuner - LSTM"
   ]
  },
  {
   "cell_type": "markdown",
   "id": "JFm_7alJk3Pg",
   "metadata": {
    "id": "JFm_7alJk3Pg"
   },
   "source": [
    "* Definindo o modelo e determinando quais hiperparâmetros serão testados."
   ]
  },
  {
   "cell_type": "code",
   "execution_count": null,
   "id": "b3f6aaa0",
   "metadata": {
    "ExecuteTime": {
     "end_time": "2022-03-31T01:07:29.207675Z",
     "start_time": "2022-03-31T01:07:29.184677Z"
    },
    "executionInfo": {
     "elapsed": 35,
     "status": "aborted",
     "timestamp": 1657295129160,
     "user": {
      "displayName": "Wanderson Rodrigues Marques",
      "userId": "04562351185863673991"
     },
     "user_tz": 180
    },
    "id": "b3f6aaa0"
   },
   "outputs": [],
   "source": [
    "from tensorflow_addons.metrics.f_scores import F1Score\n",
    "METRICS_F1 = F1Score(num_classes=2, average=\"micro\", threshold=0.6)\n",
    "\n",
    "def model_lstm_builder(hp):\n",
    "  # Hiperparameters\n",
    "  #KERNEL_SIZE=3\n",
    "  DROPOUT_PROB=0.30\n",
    "  INPUT_SHAPE = (max_len, VECTOR_SIZE,)\n",
    "\n",
    "  HP_LSTM_UNITS = hp.Int('units_1', min_value=16, max_value=256, step=16)\n",
    "  HP_HIDDEN_LAYER_1_UNITS = hp.Int('units_2', min_value=10, max_value=100, step=10)\n",
    "  HP_HIDDEN_LAYER_2_UNITS = hp.Int('units_3', min_value=10, max_value=50, step=10)\n",
    "\n",
    "  INPUT_SHAPE = (max_len,VECTOR_SIZE,)\n",
    "\n",
    "  model_lstm_tn = Sequential([ \n",
    "                         keras.layers.LSTM(32, input_shape=INPUT_SHAPE, activation='tanh'),\n",
    "                         keras.layers.Dropout(DROPOUT_PROB),   # Regularizador\n",
    "                         keras.layers.Dense(20, activation='relu'),\n",
    "                         keras.layers.Dropout(DROPOUT_PROB),   # Regularizador\n",
    "                         keras.layers.Dense(10, activation='relu'),\n",
    "                         keras.layers.Dropout(DROPOUT_PROB),   # Regularizador\n",
    "                         keras.layers.Dense(1, activation='sigmoid')\n",
    "                        ])\n",
    "\n",
    "  HP_LEARNING_RATE = hp.Choice('learning_rate', values=[1e-2, 1e-3, 1e-4, 1e-5, 1e-6])\n",
    "\n",
    "  model_lstm_tn.compile(\n",
    "      loss=\"binary_crossentropy\", \n",
    "      optimizer=keras.optimizers.Adam(learning_rate=HP_LEARNING_RATE), \n",
    "      metrics=METRICS_F1\n",
    "  )\n",
    "\n",
    "  return model_lstm_tn"
   ]
  },
  {
   "cell_type": "markdown",
   "id": "DDgtDRPGk-fo",
   "metadata": {
    "id": "DDgtDRPGk-fo"
   },
   "source": [
    "* Definindo o objetivo da busca de hiperparâmetros e determinando o número máximo de épocas."
   ]
  },
  {
   "cell_type": "code",
   "execution_count": null,
   "id": "dfb38e5e",
   "metadata": {
    "ExecuteTime": {
     "end_time": "2022-03-31T14:35:05.228193Z",
     "start_time": "2022-03-31T14:34:39.762009Z"
    },
    "executionInfo": {
     "elapsed": 35,
     "status": "aborted",
     "timestamp": 1657295129161,
     "user": {
      "displayName": "Wanderson Rodrigues Marques",
      "userId": "04562351185863673991"
     },
     "user_tz": 180
    },
    "id": "dfb38e5e"
   },
   "outputs": [],
   "source": [
    "MAX_EPOCHS = 150\n",
    "\n",
    "tuner_lstm = kt.Hyperband(\n",
    "                          model_lstm_builder,\n",
    "                          objective= kt.Objective(\"val_loss\", direction=\"min\"),\n",
    "                          max_epochs=MAX_EPOCHS,\n",
    "                          factor=3,\n",
    "                          directory='lstm_tuner_dir_1',\n",
    "                          project_name='lstm_tuner_4'\n",
    "                        )\n",
    "#tuner_cnn.search_space_summary()"
   ]
  },
  {
   "cell_type": "markdown",
   "id": "cYhk_lNDlFm0",
   "metadata": {
    "id": "cYhk_lNDlFm0"
   },
   "source": [
    "* Executa a busca de hiperparâmetros."
   ]
  },
  {
   "cell_type": "code",
   "execution_count": null,
   "id": "fdc1c15c",
   "metadata": {
    "ExecuteTime": {
     "end_time": "2022-03-31T16:27:49.784896Z",
     "start_time": "2022-03-31T15:44:41.983686Z"
    },
    "executionInfo": {
     "elapsed": 35,
     "status": "aborted",
     "timestamp": 1657295129161,
     "user": {
      "displayName": "Wanderson Rodrigues Marques",
      "userId": "04562351185863673991"
     },
     "user_tz": 180
    },
    "id": "fdc1c15c"
   },
   "outputs": [],
   "source": [
    "stop_early = tf.keras.callbacks.EarlyStopping(monitor='val_loss', patience=10)\n",
    "\n",
    "BATCH_SIZE = 25    # Tamanho do batch de treinamento\n",
    "N_EPOCHS = 100\n",
    "\n",
    "tuner_lstm.search(\n",
    "                  x=X_train_lstm, \n",
    "                  y=y_train_lstm, \n",
    "                  epochs=N_EPOCHS, \n",
    "                  batch_size=BATCH_SIZE, \n",
    "                  #verbose='auto', \n",
    "                  validation_data=(X_valid_lstm,y_valid_lstm),\n",
    "                  callbacks=[stop_early],\n",
    "                )"
   ]
  },
  {
   "cell_type": "markdown",
   "id": "D1PV8Q7KlLV7",
   "metadata": {
    "id": "D1PV8Q7KlLV7"
   },
   "source": [
    "* Exibe os melhores hiperparâmetros encontrados durante a busca."
   ]
  },
  {
   "cell_type": "code",
   "execution_count": null,
   "id": "f4a4cb24",
   "metadata": {
    "ExecuteTime": {
     "end_time": "2022-03-31T16:49:13.420211Z",
     "start_time": "2022-03-31T16:49:13.403212Z"
    },
    "executionInfo": {
     "elapsed": 36,
     "status": "aborted",
     "timestamp": 1657295129162,
     "user": {
      "displayName": "Wanderson Rodrigues Marques",
      "userId": "04562351185863673991"
     },
     "user_tz": 180
    },
    "id": "f4a4cb24"
   },
   "outputs": [],
   "source": [
    "# Get the optimal hyperparameters\n",
    "best_hps_lstm=tuner_lstm.get_best_hyperparameters(num_trials=1)[0]\n",
    "\n",
    "for h_param in ['units_1', 'units_2', 'units_3'] + ['learning_rate']:\n",
    "  print(h_param, best_hps_lstm.get(h_param))"
   ]
  },
  {
   "cell_type": "markdown",
   "id": "_TX_yNmYlUxB",
   "metadata": {
    "id": "_TX_yNmYlUxB"
   },
   "source": [
    "* Encontra o número ótimo de épocas para treinar o modelo com os hiperparâmetros obtidos na busca."
   ]
  },
  {
   "cell_type": "code",
   "execution_count": null,
   "id": "3ff57951",
   "metadata": {
    "ExecuteTime": {
     "end_time": "2022-04-01T19:22:37.532059Z",
     "start_time": "2022-04-01T19:20:00.686820Z"
    },
    "executionInfo": {
     "elapsed": 36,
     "status": "aborted",
     "timestamp": 1657295129162,
     "user": {
      "displayName": "Wanderson Rodrigues Marques",
      "userId": "04562351185863673991"
     },
     "user_tz": 180
    },
    "id": "3ff57951"
   },
   "outputs": [],
   "source": [
    "# Encontre o número ótimo de épocas para treinar o modelo com os hiperparâmetros obtidos na busca\n",
    "\n",
    "# Build the model with the optimal hyperparameters and train it on the data for 50 epochs\n",
    "model_lstm_tn = tuner_lstm.hypermodel.build(best_hps_lstm)\n",
    "\n",
    "history_lstm_tn = model_lstm_tn.fit(\n",
    "                                    x=X_train_lstm, \n",
    "                                    y=y_train_lstm, \n",
    "                                    epochs=N_EPOCHS, \n",
    "                                    batch_size=BATCH_SIZE, \n",
    "                                    verbose='auto',\n",
    "                                    validation_data=(X_valid_lstm,y_valid_lstm)\n",
    "                                  )\n",
    "\n",
    "val_loss_per_epoch = history_lstm_tn.history['val_loss']\n",
    "best_epoch = val_loss_per_epoch.index(min(val_loss_per_epoch)) + 1\n",
    "print('Best epoch: %d' % (best_epoch,))"
   ]
  },
  {
   "cell_type": "code",
   "execution_count": null,
   "id": "5601e2e9",
   "metadata": {
    "ExecuteTime": {
     "end_time": "2022-04-01T19:22:45.334259Z",
     "start_time": "2022-04-01T19:22:44.958491Z"
    },
    "executionInfo": {
     "elapsed": 37,
     "status": "aborted",
     "timestamp": 1657295129163,
     "user": {
      "displayName": "Wanderson Rodrigues Marques",
      "userId": "04562351185863673991"
     },
     "user_tz": 180
    },
    "id": "5601e2e9"
   },
   "outputs": [],
   "source": [
    "plt.figure(figsize=(15, 5))\n",
    "plt.subplot(1, 2, 1)\n",
    "plt.plot(history_lstm_tn.history['val_f1_score'], color='blue', label='val_f1_score')\n",
    "plt.plot(history_lstm_tn.history['f1_score'], color='red', label='train_f1_score')\n",
    "plt.title('f1_score')\n",
    "plt.xlabel('Epochs')\n",
    "plt.ylabel('f1_score')\n",
    "#plt.ylim(None, 1)\n",
    "plt.legend()\n",
    "plt.subplot(1, 2, 2)\n",
    "plt.plot(history_lstm_tn.history['val_loss'], color='blue', label='val_loss')\n",
    "plt.plot(history_lstm_tn.history['loss'], color='red', label='train_loss')\n",
    "plt.title('Loss')\n",
    "plt.xlabel('Epochs')\n",
    "plt.ylabel('Loss')\n",
    "#plt.ylim(0, None);\n",
    "plt.legend();"
   ]
  },
  {
   "cell_type": "markdown",
   "id": "V770ad0rlcnR",
   "metadata": {
    "id": "V770ad0rlcnR"
   },
   "source": [
    "* Treina o modelo com os melhores hiperparâmetros e com o melhor número de épocas."
   ]
  },
  {
   "cell_type": "code",
   "execution_count": null,
   "id": "f0b2e4b7",
   "metadata": {
    "ExecuteTime": {
     "end_time": "2022-04-01T19:23:52.351527Z",
     "start_time": "2022-04-01T19:23:00.689605Z"
    },
    "executionInfo": {
     "elapsed": 36,
     "status": "aborted",
     "timestamp": 1657295129163,
     "user": {
      "displayName": "Wanderson Rodrigues Marques",
      "userId": "04562351185863673991"
     },
     "user_tz": 180
    },
    "id": "f0b2e4b7"
   },
   "outputs": [],
   "source": [
    "hypermodel_lstm = tuner_lstm.hypermodel.build(best_hps_lstm)\n",
    "\n",
    "# Retrain the model\n",
    "hypermodel_lstm.fit(\n",
    "                    x=X_train_lstm, \n",
    "                    y=y_train_lstm,  \n",
    "                    epochs=best_epoch,\n",
    "                    batch_size=BATCH_SIZE, \n",
    "                    verbose='auto',\n",
    "                    validation_data=(X_valid_lstm,y_valid_lstm)\n",
    "                  )"
   ]
  },
  {
   "cell_type": "markdown",
   "id": "jVkI_LgDlnON",
   "metadata": {
    "id": "jVkI_LgDlnON"
   },
   "source": [
    "* Calcula a loss e o F1-score para o conjunto de teste."
   ]
  },
  {
   "cell_type": "code",
   "execution_count": null,
   "id": "a107b784",
   "metadata": {
    "ExecuteTime": {
     "end_time": "2022-04-01T19:23:59.481632Z",
     "start_time": "2022-04-01T19:23:59.096250Z"
    },
    "executionInfo": {
     "elapsed": 37,
     "status": "aborted",
     "timestamp": 1657295129164,
     "user": {
      "displayName": "Wanderson Rodrigues Marques",
      "userId": "04562351185863673991"
     },
     "user_tz": 180
    },
    "id": "a107b784"
   },
   "outputs": [],
   "source": [
    "test_loss_lstm_tn, test_f1_score_lstm_tn = hypermodel_lstm.evaluate(X_test_lstm, y_test_lstm, verbose = 'auto')\n",
    "\n",
    "print('Test Loss:', test_loss_lstm_tn)\n",
    "print('Test F1 Score:', test_f1_score_lstm_tn)"
   ]
  },
  {
   "cell_type": "markdown",
   "id": "YVp-IjGFltlJ",
   "metadata": {
    "id": "YVp-IjGFltlJ"
   },
   "source": [
    "### Predição e Métricas de Avaliação após busca de hiperparâmetros - LSTM"
   ]
  },
  {
   "cell_type": "code",
   "execution_count": null,
   "id": "66ae07a8",
   "metadata": {
    "ExecuteTime": {
     "end_time": "2022-04-01T19:24:08.262840Z",
     "start_time": "2022-04-01T19:24:07.534449Z"
    },
    "executionInfo": {
     "elapsed": 37,
     "status": "aborted",
     "timestamp": 1657295129164,
     "user": {
      "displayName": "Wanderson Rodrigues Marques",
      "userId": "04562351185863673991"
     },
     "user_tz": 180
    },
    "id": "66ae07a8"
   },
   "outputs": [],
   "source": [
    "y_predicted_hp_lstm = (hypermodel_lstm.predict(X_test_lstm) > 0.5).astype('int8')\n",
    "\n",
    "print(\"\\nClassification report:\\n\", classification_report(y_test_lstm, y_predicted_hp_lstm))\n",
    "print(\"Confusion matrix:\\n\", confusion_matrix(y_test_lstm, y_predicted_hp_lstm))"
   ]
  },
  {
   "cell_type": "code",
   "execution_count": null,
   "id": "0b6dcec7",
   "metadata": {
    "ExecuteTime": {
     "end_time": "2022-04-01T20:49:42.013794Z",
     "start_time": "2022-04-01T20:49:41.805127Z"
    },
    "executionInfo": {
     "elapsed": 38,
     "status": "aborted",
     "timestamp": 1657295129165,
     "user": {
      "displayName": "Wanderson Rodrigues Marques",
      "userId": "04562351185863673991"
     },
     "user_tz": 180
    },
    "id": "0b6dcec7"
   },
   "outputs": [],
   "source": [
    "lstm_confusion_matrix = pd.crosstab(np.reshape(y_test_lstm, len(y_test_lstm)), np.reshape(y_predicted_hp_lstm, len(y_predicted_hp_lstm)), rownames=['Valor Atual'], colnames=['Valor Predito'])\n",
    "\n",
    "sn.heatmap(lstm_confusion_matrix, annot=True, fmt=\"d\", cmap='viridis', linewidths=.5)\n",
    "plt.show()"
   ]
  },
  {
   "cell_type": "markdown",
   "id": "2Hw4UsLCgosZ",
   "metadata": {
    "id": "2Hw4UsLCgosZ"
   },
   "source": [
    "## C4: BERT"
   ]
  },
  {
   "cell_type": "markdown",
   "id": "phelkG4Ugsg-",
   "metadata": {
    "id": "phelkG4Ugsg-"
   },
   "source": [
    "* O BERT foi implementado em um notebook a parte e está disponível no repositório do GitHub do projeto na pasta \"notebooks\"."
   ]
  },
  {
   "cell_type": "markdown",
   "id": "sGE8W9Cp_emu",
   "metadata": {
    "id": "sGE8W9Cp_emu"
   },
   "source": [
    "# Etapa 4: Resumo das Melhores Métricas para Todos os Modelos\n",
    "* Random Forest, CNN e LSTM em duas condições:\n",
    "  1. Sem o uso de `stemming`;\n",
    "  2. Com o uso de `stemming`.\n",
    "* BERT."
   ]
  },
  {
   "cell_type": "markdown",
   "id": "ygKFE-bXBKqU",
   "metadata": {
    "id": "ygKFE-bXBKqU"
   },
   "source": [
    "### Sem Stemming\n",
    "\n",
    "| Modelo            | Classe   | Precision | Recall | F1 Score |\n",
    "|------------------:|--------: |:---------:|:------:|:--------:|\n",
    "| **Random Forest** | Negativa | 0.93      | 0.05   | 0.10     |\n",
    "|                   | Positiva | 0.79      | 1.00   | 0.88     |\n",
    "| **CNN**           | Negativa | 0.79      | 0.66   | 0.72     |\n",
    "|                   | Positiva | 0.91      | 0.95   | 0.93     |\n",
    "| **LSTM**          | Negativa | 0.73      | 0.77   | 0.75     |\n",
    "|                   | Positiva | 0.93      | 0.92   | 0.92     |"
   ]
  },
  {
   "cell_type": "markdown",
   "id": "iX7vq73Q_yj3",
   "metadata": {
    "id": "iX7vq73Q_yj3"
   },
   "source": [
    "### Com Stemming\n",
    "\n",
    "| Modelo            | Classe   | Precision | Recall | F1 Score |\n",
    "|------------------:|--------: |:---------:|:------:|:--------:|\n",
    "| **Random Forest** | Negativa | 0.53      | 0.07   | 0.12     |\n",
    "|                   | Positiva | 0.78      | 0.98   | 0.87     |\n",
    "| **CNN**           | Negativa | 0.81      | 0.62   | 0.70     |\n",
    "|                   | Positiva | 0.90      | 0.96   | 0.93     |\n",
    "| **LSTM**          | Negativa | 0.55      | 0.76   | 0.63     |\n",
    "|                   | Positiva | 0.92      | 0.82   | 0.86     |"
   ]
  },
  {
   "cell_type": "markdown",
   "id": "c1dvtuhFtkcn",
   "metadata": {
    "id": "c1dvtuhFtkcn"
   },
   "source": [
    "### BERT\n",
    "\n",
    "| Modelo    | Classe   | Precision | Recall | F1 Score |\n",
    "|----------:|--------: |:---------:|:------:|:--------:|\n",
    "| **BERT**  | Negativa | 0.83      | 0.84   | 0.83     |\n",
    "|           | Positiva | 0.95      | 0.95   | 0.95     |"
   ]
  }
 ],
 "metadata": {
  "accelerator": "GPU",
  "colab": {
   "collapsed_sections": [
    "0D6DSmjGUQjX",
    "pR1wHN7hA0DL",
    "ee0b4840",
    "2Hw4UsLCgosZ",
    "sGE8W9Cp_emu"
   ],
   "name": "TCC_NLP_final_project_without_stemming_wv_pre_train.ipynb",
   "provenance": [
    {
     "file_id": "1eP7TvBKpyLwRJQm8LPwabMeOpRPJCD9q",
     "timestamp": 1657051695652
    },
    {
     "file_id": "1G9D1ETyz1ridl0xlJ_qne2kbsysLwD5V",
     "timestamp": 1656718020342
    }
   ]
  },
  "kernelspec": {
   "display_name": "Python 3 (ipykernel)",
   "language": "python",
   "name": "python3"
  },
  "language_info": {
   "codemirror_mode": {
    "name": "ipython",
    "version": 3
   },
   "file_extension": ".py",
   "mimetype": "text/x-python",
   "name": "python",
   "nbconvert_exporter": "python",
   "pygments_lexer": "ipython3",
   "version": "3.10.4"
  },
  "varInspector": {
   "cols": {
    "lenName": 16,
    "lenType": 16,
    "lenVar": 40
   },
   "kernels_config": {
    "python": {
     "delete_cmd_postfix": "",
     "delete_cmd_prefix": "del ",
     "library": "var_list.py",
     "varRefreshCmd": "print(var_dic_list())"
    },
    "r": {
     "delete_cmd_postfix": ") ",
     "delete_cmd_prefix": "rm(",
     "library": "var_list.r",
     "varRefreshCmd": "cat(var_dic_list()) "
    }
   },
   "types_to_exclude": [
    "module",
    "function",
    "builtin_function_or_method",
    "instance",
    "_Feature"
   ],
   "window_display": false
  }
 },
 "nbformat": 4,
 "nbformat_minor": 5
}
