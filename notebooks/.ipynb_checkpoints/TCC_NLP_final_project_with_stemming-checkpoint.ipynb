{
 "cells": [
  {
   "cell_type": "markdown",
   "id": "03a49967",
   "metadata": {
    "id": "03a49967"
   },
   "source": [
    "# Projeto Final da Disciplina Mineração de Textos e Web Ministrada pelo Prof. Luciano Barbosa"
   ]
  },
  {
   "cell_type": "markdown",
   "id": "523da8e1",
   "metadata": {
    "id": "523da8e1"
   },
   "source": [
    "**Equipe:**\n",
    "<br>David Soares do Monte\n",
    "<br>Wanderson Rodrigues Marques\n"
   ]
  },
  {
   "cell_type": "markdown",
   "id": "c0b197fe",
   "metadata": {
    "id": "c0b197fe"
   },
   "source": [
    "# Etapa 1: Dataset"
   ]
  },
  {
   "cell_type": "markdown",
   "id": "e6c1df3d",
   "metadata": {
    "id": "e6c1df3d"
   },
   "source": [
    "## Informações sobre o dataset\n",
    "O dataset é composto orinalmente por 5890 avaliações obtidas no site da Amazon Brasil referentes ao produto \"Suporte para Notebook, OCTOO, Uptable, UP-BL, Preto\" (https://www.amazon.com.br/OCTOO-UP-BL-Suporte-Uptable-Preto/dp/B07BTC67VS/ref=zg-bs_furniture_1/144-8354270-3806822)."
   ]
  },
  {
   "cell_type": "markdown",
   "id": "92965f2d",
   "metadata": {
    "id": "92965f2d"
   },
   "source": [
    "## Importação das Bibliotecas Necessárias"
   ]
  },
  {
   "cell_type": "code",
   "execution_count": 1,
   "id": "8557a4d6",
   "metadata": {
    "ExecuteTime": {
     "end_time": "2022-03-31T11:38:12.802311Z",
     "start_time": "2022-03-31T11:38:12.062473Z"
    },
    "id": "8557a4d6"
   },
   "outputs": [],
   "source": [
    "import pandas as pd\n",
    "import numpy as np\n",
    "import datetime as dt"
   ]
  },
  {
   "cell_type": "code",
   "execution_count": 2,
   "id": "5aUTBXnTLkUI",
   "metadata": {
    "ExecuteTime": {
     "end_time": "2022-03-31T11:38:13.741751Z",
     "start_time": "2022-03-31T11:38:13.726759Z"
    },
    "id": "5aUTBXnTLkUI"
   },
   "outputs": [],
   "source": [
    "# from google.colab import drive\n",
    "# drive.mount('/content/drive')"
   ]
  },
  {
   "cell_type": "markdown",
   "id": "ffc33a16",
   "metadata": {
    "id": "ffc33a16"
   },
   "source": [
    "## Importação e Pré-processamento do Dataset"
   ]
  },
  {
   "cell_type": "code",
   "execution_count": 3,
   "id": "97ecb248",
   "metadata": {
    "ExecuteTime": {
     "end_time": "2022-03-31T11:38:15.645830Z",
     "start_time": "2022-03-31T11:38:15.629888Z"
    },
    "id": "97ecb248"
   },
   "outputs": [],
   "source": [
    "# Função para o 'date_parser' para converter a data no momento de leitura do dataset através do 'pd.read_csv'\n",
    "\n",
    "def date_converter(date):\n",
    "    month = 0\n",
    "    month_list = ['janeiro', 'fevereiro', 'março', 'abril', 'maio', 'junho', 'julho', \n",
    "                  'agosto', 'setembro', 'outubro', 'novembro', 'dezembro']\n",
    "    \n",
    "    date_sep = date.split(' ') # Ex.: '24 de setembro de 2019' => ['24', 'de', 'setembro', 'de', '2019']\n",
    "    \n",
    "    for i, m in enumerate(month_list): # Verifica a terceira posição da lista para fazer a conversão do mês\n",
    "        if date_sep[2] == m:\n",
    "            month = i + 1\n",
    "            break\n",
    "    \n",
    "    year = int(date_sep[4]) # Última posição da lista 'date_sep'\n",
    "    day = int(date_sep[0])  # Primeira posição da lista 'date_sep'\n",
    "            \n",
    "    date_conv = dt.date(year=year, month=month, day=day) # Compõe a data que será retornada\n",
    "    \n",
    "    return date_conv"
   ]
  },
  {
   "cell_type": "code",
   "execution_count": 4,
   "id": "e41398ae",
   "metadata": {
    "ExecuteTime": {
     "end_time": "2022-03-31T11:38:16.675472Z",
     "start_time": "2022-03-31T11:38:16.598411Z"
    },
    "id": "e41398ae"
   },
   "outputs": [
    {
     "ename": "FileNotFoundError",
     "evalue": "[Errno 2] No such file or directory: 'av_positivo_projeto_NLP_4560.csv'",
     "output_type": "error",
     "traceback": [
      "\u001b[0;31m---------------------------------------------------------------------------\u001b[0m",
      "\u001b[0;31mFileNotFoundError\u001b[0m                         Traceback (most recent call last)",
      "Input \u001b[0;32mIn [4]\u001b[0m, in \u001b[0;36m<cell line: 3>\u001b[0;34m()\u001b[0m\n\u001b[1;32m      1\u001b[0m \u001b[38;5;66;03m# Importa o dataset\u001b[39;00m\n\u001b[0;32m----> 3\u001b[0m df1 \u001b[38;5;241m=\u001b[39m \u001b[43mpd\u001b[49m\u001b[38;5;241;43m.\u001b[39;49m\u001b[43mread_csv\u001b[49m\u001b[43m(\u001b[49m\u001b[38;5;124;43m'\u001b[39;49m\u001b[38;5;124;43mav_positivo_projeto_NLP_4560.csv\u001b[39;49m\u001b[38;5;124;43m'\u001b[39;49m\u001b[43m,\u001b[49m\u001b[43m \u001b[49m\u001b[43mdecimal\u001b[49m\u001b[38;5;241;43m=\u001b[39;49m\u001b[38;5;124;43m'\u001b[39;49m\u001b[38;5;124;43m,\u001b[39;49m\u001b[38;5;124;43m'\u001b[39;49m\u001b[43m,\u001b[49m\u001b[43m \u001b[49m\u001b[43mparse_dates\u001b[49m\u001b[38;5;241;43m=\u001b[39;49m\u001b[43m[\u001b[49m\u001b[38;5;241;43m2\u001b[39;49m\u001b[43m]\u001b[49m\u001b[43m,\u001b[49m\u001b[43m \u001b[49m\n\u001b[1;32m      4\u001b[0m \u001b[43m                 \u001b[49m\u001b[43mdate_parser\u001b[49m\u001b[38;5;241;43m=\u001b[39;49m\u001b[43mdate_converter\u001b[49m\u001b[43m,\u001b[49m\u001b[43m \u001b[49m\u001b[43musecols\u001b[49m\u001b[38;5;241;43m=\u001b[39;49m\u001b[43m[\u001b[49m\u001b[38;5;124;43m'\u001b[39;49m\u001b[38;5;124;43mreviews\u001b[39;49m\u001b[38;5;124;43m'\u001b[39;49m\u001b[43m,\u001b[49m\u001b[43m \u001b[49m\u001b[38;5;124;43m'\u001b[39;49m\u001b[38;5;124;43mstar\u001b[39;49m\u001b[38;5;124;43m'\u001b[39;49m\u001b[43m,\u001b[49m\u001b[43m \u001b[49m\u001b[38;5;124;43m'\u001b[39;49m\u001b[38;5;124;43mdate\u001b[39;49m\u001b[38;5;124;43m'\u001b[39;49m\u001b[43m]\u001b[49m\u001b[43m)\u001b[49m\n\u001b[1;32m      5\u001b[0m df2 \u001b[38;5;241m=\u001b[39m pd\u001b[38;5;241m.\u001b[39mread_csv(\u001b[38;5;124m'\u001b[39m\u001b[38;5;124mav_critico_projeto_NLP_1330.csv\u001b[39m\u001b[38;5;124m'\u001b[39m, decimal\u001b[38;5;241m=\u001b[39m\u001b[38;5;124m'\u001b[39m\u001b[38;5;124m,\u001b[39m\u001b[38;5;124m'\u001b[39m, parse_dates\u001b[38;5;241m=\u001b[39m[\u001b[38;5;241m2\u001b[39m], \n\u001b[1;32m      6\u001b[0m                  date_parser\u001b[38;5;241m=\u001b[39mdate_converter, usecols\u001b[38;5;241m=\u001b[39m[\u001b[38;5;124m'\u001b[39m\u001b[38;5;124mreviews\u001b[39m\u001b[38;5;124m'\u001b[39m, \u001b[38;5;124m'\u001b[39m\u001b[38;5;124mstar\u001b[39m\u001b[38;5;124m'\u001b[39m, \u001b[38;5;124m'\u001b[39m\u001b[38;5;124mdate\u001b[39m\u001b[38;5;124m'\u001b[39m])\n\u001b[1;32m      7\u001b[0m df \u001b[38;5;241m=\u001b[39m pd\u001b[38;5;241m.\u001b[39mconcat([df1, df2])\n",
      "File \u001b[0;32m~/anaconda3/envs/tcc/lib/python3.10/site-packages/pandas/util/_decorators.py:311\u001b[0m, in \u001b[0;36mdeprecate_nonkeyword_arguments.<locals>.decorate.<locals>.wrapper\u001b[0;34m(*args, **kwargs)\u001b[0m\n\u001b[1;32m    305\u001b[0m \u001b[38;5;28;01mif\u001b[39;00m \u001b[38;5;28mlen\u001b[39m(args) \u001b[38;5;241m>\u001b[39m num_allow_args:\n\u001b[1;32m    306\u001b[0m     warnings\u001b[38;5;241m.\u001b[39mwarn(\n\u001b[1;32m    307\u001b[0m         msg\u001b[38;5;241m.\u001b[39mformat(arguments\u001b[38;5;241m=\u001b[39marguments),\n\u001b[1;32m    308\u001b[0m         \u001b[38;5;167;01mFutureWarning\u001b[39;00m,\n\u001b[1;32m    309\u001b[0m         stacklevel\u001b[38;5;241m=\u001b[39mstacklevel,\n\u001b[1;32m    310\u001b[0m     )\n\u001b[0;32m--> 311\u001b[0m \u001b[38;5;28;01mreturn\u001b[39;00m \u001b[43mfunc\u001b[49m\u001b[43m(\u001b[49m\u001b[38;5;241;43m*\u001b[39;49m\u001b[43margs\u001b[49m\u001b[43m,\u001b[49m\u001b[43m \u001b[49m\u001b[38;5;241;43m*\u001b[39;49m\u001b[38;5;241;43m*\u001b[39;49m\u001b[43mkwargs\u001b[49m\u001b[43m)\u001b[49m\n",
      "File \u001b[0;32m~/anaconda3/envs/tcc/lib/python3.10/site-packages/pandas/io/parsers/readers.py:680\u001b[0m, in \u001b[0;36mread_csv\u001b[0;34m(filepath_or_buffer, sep, delimiter, header, names, index_col, usecols, squeeze, prefix, mangle_dupe_cols, dtype, engine, converters, true_values, false_values, skipinitialspace, skiprows, skipfooter, nrows, na_values, keep_default_na, na_filter, verbose, skip_blank_lines, parse_dates, infer_datetime_format, keep_date_col, date_parser, dayfirst, cache_dates, iterator, chunksize, compression, thousands, decimal, lineterminator, quotechar, quoting, doublequote, escapechar, comment, encoding, encoding_errors, dialect, error_bad_lines, warn_bad_lines, on_bad_lines, delim_whitespace, low_memory, memory_map, float_precision, storage_options)\u001b[0m\n\u001b[1;32m    665\u001b[0m kwds_defaults \u001b[38;5;241m=\u001b[39m _refine_defaults_read(\n\u001b[1;32m    666\u001b[0m     dialect,\n\u001b[1;32m    667\u001b[0m     delimiter,\n\u001b[0;32m   (...)\u001b[0m\n\u001b[1;32m    676\u001b[0m     defaults\u001b[38;5;241m=\u001b[39m{\u001b[38;5;124m\"\u001b[39m\u001b[38;5;124mdelimiter\u001b[39m\u001b[38;5;124m\"\u001b[39m: \u001b[38;5;124m\"\u001b[39m\u001b[38;5;124m,\u001b[39m\u001b[38;5;124m\"\u001b[39m},\n\u001b[1;32m    677\u001b[0m )\n\u001b[1;32m    678\u001b[0m kwds\u001b[38;5;241m.\u001b[39mupdate(kwds_defaults)\n\u001b[0;32m--> 680\u001b[0m \u001b[38;5;28;01mreturn\u001b[39;00m \u001b[43m_read\u001b[49m\u001b[43m(\u001b[49m\u001b[43mfilepath_or_buffer\u001b[49m\u001b[43m,\u001b[49m\u001b[43m \u001b[49m\u001b[43mkwds\u001b[49m\u001b[43m)\u001b[49m\n",
      "File \u001b[0;32m~/anaconda3/envs/tcc/lib/python3.10/site-packages/pandas/io/parsers/readers.py:575\u001b[0m, in \u001b[0;36m_read\u001b[0;34m(filepath_or_buffer, kwds)\u001b[0m\n\u001b[1;32m    572\u001b[0m _validate_names(kwds\u001b[38;5;241m.\u001b[39mget(\u001b[38;5;124m\"\u001b[39m\u001b[38;5;124mnames\u001b[39m\u001b[38;5;124m\"\u001b[39m, \u001b[38;5;28;01mNone\u001b[39;00m))\n\u001b[1;32m    574\u001b[0m \u001b[38;5;66;03m# Create the parser.\u001b[39;00m\n\u001b[0;32m--> 575\u001b[0m parser \u001b[38;5;241m=\u001b[39m \u001b[43mTextFileReader\u001b[49m\u001b[43m(\u001b[49m\u001b[43mfilepath_or_buffer\u001b[49m\u001b[43m,\u001b[49m\u001b[43m \u001b[49m\u001b[38;5;241;43m*\u001b[39;49m\u001b[38;5;241;43m*\u001b[39;49m\u001b[43mkwds\u001b[49m\u001b[43m)\u001b[49m\n\u001b[1;32m    577\u001b[0m \u001b[38;5;28;01mif\u001b[39;00m chunksize \u001b[38;5;129;01mor\u001b[39;00m iterator:\n\u001b[1;32m    578\u001b[0m     \u001b[38;5;28;01mreturn\u001b[39;00m parser\n",
      "File \u001b[0;32m~/anaconda3/envs/tcc/lib/python3.10/site-packages/pandas/io/parsers/readers.py:934\u001b[0m, in \u001b[0;36mTextFileReader.__init__\u001b[0;34m(self, f, engine, **kwds)\u001b[0m\n\u001b[1;32m    931\u001b[0m     \u001b[38;5;28mself\u001b[39m\u001b[38;5;241m.\u001b[39moptions[\u001b[38;5;124m\"\u001b[39m\u001b[38;5;124mhas_index_names\u001b[39m\u001b[38;5;124m\"\u001b[39m] \u001b[38;5;241m=\u001b[39m kwds[\u001b[38;5;124m\"\u001b[39m\u001b[38;5;124mhas_index_names\u001b[39m\u001b[38;5;124m\"\u001b[39m]\n\u001b[1;32m    933\u001b[0m \u001b[38;5;28mself\u001b[39m\u001b[38;5;241m.\u001b[39mhandles: IOHandles \u001b[38;5;241m|\u001b[39m \u001b[38;5;28;01mNone\u001b[39;00m \u001b[38;5;241m=\u001b[39m \u001b[38;5;28;01mNone\u001b[39;00m\n\u001b[0;32m--> 934\u001b[0m \u001b[38;5;28mself\u001b[39m\u001b[38;5;241m.\u001b[39m_engine \u001b[38;5;241m=\u001b[39m \u001b[38;5;28;43mself\u001b[39;49m\u001b[38;5;241;43m.\u001b[39;49m\u001b[43m_make_engine\u001b[49m\u001b[43m(\u001b[49m\u001b[43mf\u001b[49m\u001b[43m,\u001b[49m\u001b[43m \u001b[49m\u001b[38;5;28;43mself\u001b[39;49m\u001b[38;5;241;43m.\u001b[39;49m\u001b[43mengine\u001b[49m\u001b[43m)\u001b[49m\n",
      "File \u001b[0;32m~/anaconda3/envs/tcc/lib/python3.10/site-packages/pandas/io/parsers/readers.py:1218\u001b[0m, in \u001b[0;36mTextFileReader._make_engine\u001b[0;34m(self, f, engine)\u001b[0m\n\u001b[1;32m   1214\u001b[0m     mode \u001b[38;5;241m=\u001b[39m \u001b[38;5;124m\"\u001b[39m\u001b[38;5;124mrb\u001b[39m\u001b[38;5;124m\"\u001b[39m\n\u001b[1;32m   1215\u001b[0m \u001b[38;5;66;03m# error: No overload variant of \"get_handle\" matches argument types\u001b[39;00m\n\u001b[1;32m   1216\u001b[0m \u001b[38;5;66;03m# \"Union[str, PathLike[str], ReadCsvBuffer[bytes], ReadCsvBuffer[str]]\"\u001b[39;00m\n\u001b[1;32m   1217\u001b[0m \u001b[38;5;66;03m# , \"str\", \"bool\", \"Any\", \"Any\", \"Any\", \"Any\", \"Any\"\u001b[39;00m\n\u001b[0;32m-> 1218\u001b[0m \u001b[38;5;28mself\u001b[39m\u001b[38;5;241m.\u001b[39mhandles \u001b[38;5;241m=\u001b[39m \u001b[43mget_handle\u001b[49m\u001b[43m(\u001b[49m\u001b[43m  \u001b[49m\u001b[38;5;66;43;03m# type: ignore[call-overload]\u001b[39;49;00m\n\u001b[1;32m   1219\u001b[0m \u001b[43m    \u001b[49m\u001b[43mf\u001b[49m\u001b[43m,\u001b[49m\n\u001b[1;32m   1220\u001b[0m \u001b[43m    \u001b[49m\u001b[43mmode\u001b[49m\u001b[43m,\u001b[49m\n\u001b[1;32m   1221\u001b[0m \u001b[43m    \u001b[49m\u001b[43mencoding\u001b[49m\u001b[38;5;241;43m=\u001b[39;49m\u001b[38;5;28;43mself\u001b[39;49m\u001b[38;5;241;43m.\u001b[39;49m\u001b[43moptions\u001b[49m\u001b[38;5;241;43m.\u001b[39;49m\u001b[43mget\u001b[49m\u001b[43m(\u001b[49m\u001b[38;5;124;43m\"\u001b[39;49m\u001b[38;5;124;43mencoding\u001b[39;49m\u001b[38;5;124;43m\"\u001b[39;49m\u001b[43m,\u001b[49m\u001b[43m \u001b[49m\u001b[38;5;28;43;01mNone\u001b[39;49;00m\u001b[43m)\u001b[49m\u001b[43m,\u001b[49m\n\u001b[1;32m   1222\u001b[0m \u001b[43m    \u001b[49m\u001b[43mcompression\u001b[49m\u001b[38;5;241;43m=\u001b[39;49m\u001b[38;5;28;43mself\u001b[39;49m\u001b[38;5;241;43m.\u001b[39;49m\u001b[43moptions\u001b[49m\u001b[38;5;241;43m.\u001b[39;49m\u001b[43mget\u001b[49m\u001b[43m(\u001b[49m\u001b[38;5;124;43m\"\u001b[39;49m\u001b[38;5;124;43mcompression\u001b[39;49m\u001b[38;5;124;43m\"\u001b[39;49m\u001b[43m,\u001b[49m\u001b[43m \u001b[49m\u001b[38;5;28;43;01mNone\u001b[39;49;00m\u001b[43m)\u001b[49m\u001b[43m,\u001b[49m\n\u001b[1;32m   1223\u001b[0m \u001b[43m    \u001b[49m\u001b[43mmemory_map\u001b[49m\u001b[38;5;241;43m=\u001b[39;49m\u001b[38;5;28;43mself\u001b[39;49m\u001b[38;5;241;43m.\u001b[39;49m\u001b[43moptions\u001b[49m\u001b[38;5;241;43m.\u001b[39;49m\u001b[43mget\u001b[49m\u001b[43m(\u001b[49m\u001b[38;5;124;43m\"\u001b[39;49m\u001b[38;5;124;43mmemory_map\u001b[39;49m\u001b[38;5;124;43m\"\u001b[39;49m\u001b[43m,\u001b[49m\u001b[43m \u001b[49m\u001b[38;5;28;43;01mFalse\u001b[39;49;00m\u001b[43m)\u001b[49m\u001b[43m,\u001b[49m\n\u001b[1;32m   1224\u001b[0m \u001b[43m    \u001b[49m\u001b[43mis_text\u001b[49m\u001b[38;5;241;43m=\u001b[39;49m\u001b[43mis_text\u001b[49m\u001b[43m,\u001b[49m\n\u001b[1;32m   1225\u001b[0m \u001b[43m    \u001b[49m\u001b[43merrors\u001b[49m\u001b[38;5;241;43m=\u001b[39;49m\u001b[38;5;28;43mself\u001b[39;49m\u001b[38;5;241;43m.\u001b[39;49m\u001b[43moptions\u001b[49m\u001b[38;5;241;43m.\u001b[39;49m\u001b[43mget\u001b[49m\u001b[43m(\u001b[49m\u001b[38;5;124;43m\"\u001b[39;49m\u001b[38;5;124;43mencoding_errors\u001b[39;49m\u001b[38;5;124;43m\"\u001b[39;49m\u001b[43m,\u001b[49m\u001b[43m \u001b[49m\u001b[38;5;124;43m\"\u001b[39;49m\u001b[38;5;124;43mstrict\u001b[39;49m\u001b[38;5;124;43m\"\u001b[39;49m\u001b[43m)\u001b[49m\u001b[43m,\u001b[49m\n\u001b[1;32m   1226\u001b[0m \u001b[43m    \u001b[49m\u001b[43mstorage_options\u001b[49m\u001b[38;5;241;43m=\u001b[39;49m\u001b[38;5;28;43mself\u001b[39;49m\u001b[38;5;241;43m.\u001b[39;49m\u001b[43moptions\u001b[49m\u001b[38;5;241;43m.\u001b[39;49m\u001b[43mget\u001b[49m\u001b[43m(\u001b[49m\u001b[38;5;124;43m\"\u001b[39;49m\u001b[38;5;124;43mstorage_options\u001b[39;49m\u001b[38;5;124;43m\"\u001b[39;49m\u001b[43m,\u001b[49m\u001b[43m \u001b[49m\u001b[38;5;28;43;01mNone\u001b[39;49;00m\u001b[43m)\u001b[49m\u001b[43m,\u001b[49m\n\u001b[1;32m   1227\u001b[0m \u001b[43m\u001b[49m\u001b[43m)\u001b[49m\n\u001b[1;32m   1228\u001b[0m \u001b[38;5;28;01massert\u001b[39;00m \u001b[38;5;28mself\u001b[39m\u001b[38;5;241m.\u001b[39mhandles \u001b[38;5;129;01mis\u001b[39;00m \u001b[38;5;129;01mnot\u001b[39;00m \u001b[38;5;28;01mNone\u001b[39;00m\n\u001b[1;32m   1229\u001b[0m f \u001b[38;5;241m=\u001b[39m \u001b[38;5;28mself\u001b[39m\u001b[38;5;241m.\u001b[39mhandles\u001b[38;5;241m.\u001b[39mhandle\n",
      "File \u001b[0;32m~/anaconda3/envs/tcc/lib/python3.10/site-packages/pandas/io/common.py:786\u001b[0m, in \u001b[0;36mget_handle\u001b[0;34m(path_or_buf, mode, encoding, compression, memory_map, is_text, errors, storage_options)\u001b[0m\n\u001b[1;32m    781\u001b[0m \u001b[38;5;28;01melif\u001b[39;00m \u001b[38;5;28misinstance\u001b[39m(handle, \u001b[38;5;28mstr\u001b[39m):\n\u001b[1;32m    782\u001b[0m     \u001b[38;5;66;03m# Check whether the filename is to be opened in binary mode.\u001b[39;00m\n\u001b[1;32m    783\u001b[0m     \u001b[38;5;66;03m# Binary mode does not support 'encoding' and 'newline'.\u001b[39;00m\n\u001b[1;32m    784\u001b[0m     \u001b[38;5;28;01mif\u001b[39;00m ioargs\u001b[38;5;241m.\u001b[39mencoding \u001b[38;5;129;01mand\u001b[39;00m \u001b[38;5;124m\"\u001b[39m\u001b[38;5;124mb\u001b[39m\u001b[38;5;124m\"\u001b[39m \u001b[38;5;129;01mnot\u001b[39;00m \u001b[38;5;129;01min\u001b[39;00m ioargs\u001b[38;5;241m.\u001b[39mmode:\n\u001b[1;32m    785\u001b[0m         \u001b[38;5;66;03m# Encoding\u001b[39;00m\n\u001b[0;32m--> 786\u001b[0m         handle \u001b[38;5;241m=\u001b[39m \u001b[38;5;28;43mopen\u001b[39;49m\u001b[43m(\u001b[49m\n\u001b[1;32m    787\u001b[0m \u001b[43m            \u001b[49m\u001b[43mhandle\u001b[49m\u001b[43m,\u001b[49m\n\u001b[1;32m    788\u001b[0m \u001b[43m            \u001b[49m\u001b[43mioargs\u001b[49m\u001b[38;5;241;43m.\u001b[39;49m\u001b[43mmode\u001b[49m\u001b[43m,\u001b[49m\n\u001b[1;32m    789\u001b[0m \u001b[43m            \u001b[49m\u001b[43mencoding\u001b[49m\u001b[38;5;241;43m=\u001b[39;49m\u001b[43mioargs\u001b[49m\u001b[38;5;241;43m.\u001b[39;49m\u001b[43mencoding\u001b[49m\u001b[43m,\u001b[49m\n\u001b[1;32m    790\u001b[0m \u001b[43m            \u001b[49m\u001b[43merrors\u001b[49m\u001b[38;5;241;43m=\u001b[39;49m\u001b[43merrors\u001b[49m\u001b[43m,\u001b[49m\n\u001b[1;32m    791\u001b[0m \u001b[43m            \u001b[49m\u001b[43mnewline\u001b[49m\u001b[38;5;241;43m=\u001b[39;49m\u001b[38;5;124;43m\"\u001b[39;49m\u001b[38;5;124;43m\"\u001b[39;49m\u001b[43m,\u001b[49m\n\u001b[1;32m    792\u001b[0m \u001b[43m        \u001b[49m\u001b[43m)\u001b[49m\n\u001b[1;32m    793\u001b[0m     \u001b[38;5;28;01melse\u001b[39;00m:\n\u001b[1;32m    794\u001b[0m         \u001b[38;5;66;03m# Binary mode\u001b[39;00m\n\u001b[1;32m    795\u001b[0m         handle \u001b[38;5;241m=\u001b[39m \u001b[38;5;28mopen\u001b[39m(handle, ioargs\u001b[38;5;241m.\u001b[39mmode)\n",
      "\u001b[0;31mFileNotFoundError\u001b[0m: [Errno 2] No such file or directory: 'av_positivo_projeto_NLP_4560.csv'"
     ]
    }
   ],
   "source": [
    "# Importa o dataset\n",
    "\n",
    "df1 = pd.read_csv('av_positivo_projeto_NLP_4560.csv', decimal=',', parse_dates=[2], \n",
    "                 date_parser=date_converter, usecols=['reviews', 'star', 'date'])\n",
    "df2 = pd.read_csv('av_critico_projeto_NLP_1330.csv', decimal=',', parse_dates=[2], \n",
    "                 date_parser=date_converter, usecols=['reviews', 'star', 'date'])\n",
    "df = pd.concat([df1, df2])\n",
    "df.reset_index(drop=True, inplace=True)"
   ]
  },
  {
   "cell_type": "code",
   "execution_count": null,
   "id": "dad7efc8",
   "metadata": {
    "ExecuteTime": {
     "end_time": "2022-03-31T11:38:17.925341Z",
     "start_time": "2022-03-31T11:38:17.899342Z"
    },
    "colab": {
     "base_uri": "https://localhost:8080/",
     "height": 206
    },
    "executionInfo": {
     "elapsed": 8,
     "status": "ok",
     "timestamp": 1648644067112,
     "user": {
      "displayName": "David Soares do Monte",
      "userId": "04557725439243141046"
     },
     "user_tz": 180
    },
    "id": "dad7efc8",
    "outputId": "9a1ebec8-dcba-4849-ab1c-c67368856a99"
   },
   "outputs": [],
   "source": [
    "# Imprime 5 amostras do dataset\n",
    "\n",
    "df.sample(5)"
   ]
  },
  {
   "cell_type": "code",
   "execution_count": null,
   "id": "363b29c6",
   "metadata": {
    "ExecuteTime": {
     "end_time": "2022-03-31T11:38:19.172039Z",
     "start_time": "2022-03-31T11:38:19.158041Z"
    },
    "colab": {
     "base_uri": "https://localhost:8080/"
    },
    "executionInfo": {
     "elapsed": 306,
     "status": "ok",
     "timestamp": 1648644070611,
     "user": {
      "displayName": "David Soares do Monte",
      "userId": "04557725439243141046"
     },
     "user_tz": 180
    },
    "id": "363b29c6",
    "outputId": "3ebc393a-10b1-4a07-c649-8f0922f3413f"
   },
   "outputs": [],
   "source": [
    "# Imprime formato do dataset\n",
    "\n",
    "print('Shape do dataset:', df.shape)"
   ]
  },
  {
   "cell_type": "code",
   "execution_count": null,
   "id": "7e3a6041",
   "metadata": {
    "ExecuteTime": {
     "end_time": "2022-03-31T11:38:20.875429Z",
     "start_time": "2022-03-31T11:38:20.853444Z"
    },
    "id": "7e3a6041"
   },
   "outputs": [],
   "source": [
    "# Deste ponto em diante será utilizado o dataset 'df_reviews'\n",
    "\n",
    "# Ordena o dataset pela data, cria uma cópia (df_reviews) e faz o reset dos índices\n",
    "\n",
    "df_reviews = df.sort_values(by=['date']).copy()\n",
    "df_reviews.reset_index(drop=True, inplace=True)\n",
    "\n",
    "# Adiciona a coluna 'sentiment' baseado no critério: positivo se star > 3 e negativo caso contrário\n",
    "\n",
    "df_reviews['sentiment'] = df_reviews['star'].apply(lambda v: 'positive' if v > 3 else 'negative')\n",
    "\n",
    "# Reordena as colunas do dataset\n",
    "\n",
    "df_reviews = df_reviews[['date', 'reviews', 'star', 'sentiment']]\n",
    "\n",
    "# Redefine os tipos dos dados\n",
    "\n",
    "df_reviews['reviews'] = df_reviews['reviews'].astype('category')\n",
    "df_reviews['star'] = df_reviews['star'].astype('int8')\n",
    "df_reviews['star'] = df_reviews['star'].astype('category')\n",
    "df_reviews['sentiment'] = df_reviews['sentiment'].astype('category')"
   ]
  },
  {
   "cell_type": "code",
   "execution_count": null,
   "id": "527e9b31",
   "metadata": {
    "ExecuteTime": {
     "end_time": "2022-03-31T11:38:21.765978Z",
     "start_time": "2022-03-31T11:38:21.748979Z"
    },
    "colab": {
     "base_uri": "https://localhost:8080/",
     "height": 206
    },
    "executionInfo": {
     "elapsed": 288,
     "status": "ok",
     "timestamp": 1648585499953,
     "user": {
      "displayName": "David Soares do Monte",
      "userId": "04557725439243141046"
     },
     "user_tz": 180
    },
    "id": "527e9b31",
    "outputId": "a9fb3361-1677-4345-f6e6-7a0e5bbdcd8e"
   },
   "outputs": [],
   "source": [
    "df_reviews.head()"
   ]
  },
  {
   "cell_type": "code",
   "execution_count": null,
   "id": "70628a6c",
   "metadata": {
    "ExecuteTime": {
     "end_time": "2022-03-31T11:38:23.081270Z",
     "start_time": "2022-03-31T11:38:23.062270Z"
    },
    "colab": {
     "base_uri": "https://localhost:8080/"
    },
    "executionInfo": {
     "elapsed": 5,
     "status": "ok",
     "timestamp": 1648585502164,
     "user": {
      "displayName": "David Soares do Monte",
      "userId": "04557725439243141046"
     },
     "user_tz": 180
    },
    "id": "70628a6c",
    "outputId": "756e5be8-2284-4346-c35e-6c6357b5db4c"
   },
   "outputs": [],
   "source": [
    "# Intervalo de datas no qual foram capturadas os reviews\n",
    "\n",
    "print('Período das reviews: ', df_reviews['date'].min().strftime('%Y-%m-%d'), 'a',\\\n",
    "      df_reviews['date'].max().strftime('%Y-%m-%d'))"
   ]
  },
  {
   "cell_type": "code",
   "execution_count": null,
   "id": "xHgFXwj-cFMX",
   "metadata": {
    "ExecuteTime": {
     "end_time": "2022-03-31T11:38:24.249104Z",
     "start_time": "2022-03-31T11:38:24.229103Z"
    },
    "colab": {
     "base_uri": "https://localhost:8080/"
    },
    "executionInfo": {
     "elapsed": 287,
     "status": "ok",
     "timestamp": 1648585504248,
     "user": {
      "displayName": "David Soares do Monte",
      "userId": "04557725439243141046"
     },
     "user_tz": 180
    },
    "id": "xHgFXwj-cFMX",
    "outputId": "0628576b-f70b-4d54-ca82-a6bc4309a916"
   },
   "outputs": [],
   "source": [
    "# Verificação de dados ausentes\n",
    "\n",
    "(df_reviews.isna().sum())"
   ]
  },
  {
   "cell_type": "code",
   "execution_count": null,
   "id": "a3a64153",
   "metadata": {
    "ExecuteTime": {
     "end_time": "2022-03-31T11:38:25.360721Z",
     "start_time": "2022-03-31T11:38:25.341723Z"
    },
    "colab": {
     "base_uri": "https://localhost:8080/"
    },
    "executionInfo": {
     "elapsed": 371,
     "status": "ok",
     "timestamp": 1648662623543,
     "user": {
      "displayName": "David Soares do Monte",
      "userId": "04557725439243141046"
     },
     "user_tz": 180
    },
    "id": "a3a64153",
    "outputId": "aefc46ca-1e5d-48cc-dbfd-c9c6da1f43a4"
   },
   "outputs": [],
   "source": [
    "# Remove instâncias com reviews vazias\n",
    "\n",
    "df_reviews.dropna(axis=0, how='any', inplace=True, subset=['reviews'])\n",
    "df_reviews.reset_index(drop=True, inplace=True)\n",
    "df_reviews.shape"
   ]
  },
  {
   "cell_type": "code",
   "execution_count": null,
   "id": "fd1f0368",
   "metadata": {
    "ExecuteTime": {
     "end_time": "2022-03-31T11:38:26.444757Z",
     "start_time": "2022-03-31T11:38:26.413762Z"
    },
    "colab": {
     "base_uri": "https://localhost:8080/"
    },
    "executionInfo": {
     "elapsed": 236,
     "status": "ok",
     "timestamp": 1648644083311,
     "user": {
      "displayName": "David Soares do Monte",
      "userId": "04557725439243141046"
     },
     "user_tz": 180
    },
    "id": "fd1f0368",
    "outputId": "7889dc9c-3ff0-400f-97c9-7690f0279be6"
   },
   "outputs": [],
   "source": [
    "df_reviews.info()"
   ]
  },
  {
   "cell_type": "code",
   "execution_count": null,
   "id": "2300360b",
   "metadata": {
    "ExecuteTime": {
     "end_time": "2022-03-31T11:38:27.547067Z",
     "start_time": "2022-03-31T11:38:27.533069Z"
    },
    "colab": {
     "base_uri": "https://localhost:8080/",
     "height": 175
    },
    "executionInfo": {
     "elapsed": 280,
     "status": "ok",
     "timestamp": 1648585510529,
     "user": {
      "displayName": "David Soares do Monte",
      "userId": "04557725439243141046"
     },
     "user_tz": 180
    },
    "id": "2300360b",
    "outputId": "81d31ef5-f95a-4936-d6a7-11c5c49d234c"
   },
   "outputs": [],
   "source": [
    "# Descrição das variáveis categóricas\n",
    "\n",
    "df_reviews.describe(include='category')"
   ]
  },
  {
   "cell_type": "code",
   "execution_count": null,
   "id": "5f56a31d",
   "metadata": {
    "ExecuteTime": {
     "end_time": "2022-03-31T11:38:28.769296Z",
     "start_time": "2022-03-31T11:38:28.742298Z"
    },
    "colab": {
     "base_uri": "https://localhost:8080/",
     "height": 112
    },
    "executionInfo": {
     "elapsed": 7,
     "status": "ok",
     "timestamp": 1648585512962,
     "user": {
      "displayName": "David Soares do Monte",
      "userId": "04557725439243141046"
     },
     "user_tz": 180
    },
    "id": "5f56a31d",
    "outputId": "c39f68fb-9e89-406c-dfdb-a47b5e2b9095"
   },
   "outputs": [],
   "source": [
    "# Verificação do balaceamento das classes - coluna 'sentiment'\n",
    "\n",
    "per_var = pd.DataFrame()\n",
    "per_var['count'] = df_reviews['sentiment'].value_counts()\n",
    "per_var['%'] = per_var['count']/len(df_reviews['sentiment'])*100\n",
    "per_var"
   ]
  },
  {
   "cell_type": "markdown",
   "id": "e78d00ba",
   "metadata": {
    "id": "e78d00ba"
   },
   "source": [
    "# Etapa 2: Processamento dos Dados Textuais"
   ]
  },
  {
   "cell_type": "markdown",
   "id": "e56b4da6",
   "metadata": {
    "id": "e56b4da6"
   },
   "source": [
    "## Importação das Bibliotecas Necessárias"
   ]
  },
  {
   "cell_type": "code",
   "execution_count": null,
   "id": "a22fe0af",
   "metadata": {
    "ExecuteTime": {
     "end_time": "2022-03-31T11:38:33.736246Z",
     "start_time": "2022-03-31T11:38:32.186793Z"
    },
    "colab": {
     "base_uri": "https://localhost:8080/"
    },
    "executionInfo": {
     "elapsed": 1791,
     "status": "ok",
     "timestamp": 1648662629264,
     "user": {
      "displayName": "David Soares do Monte",
      "userId": "04557725439243141046"
     },
     "user_tz": 180
    },
    "id": "a22fe0af",
    "outputId": "7dc1ad44-3ecf-46f4-f715-2191c052b9d9"
   },
   "outputs": [],
   "source": [
    "#from collections import Counter\n",
    "from collections import Counter\n",
    "import string\n",
    "import nltk\n",
    "#import spacy as sp\n",
    "from nltk.tokenize import word_tokenize\n",
    "from nltk.stem import PorterStemmer\n",
    "from nltk.corpus import stopwords\n",
    "stemmer = PorterStemmer()\n",
    "\n",
    "nltk.download('stopwords')\n",
    "nltk.download('punkt') # A data model created by Jan Strunk that NLTK uses to split full texts into word lists"
   ]
  },
  {
   "cell_type": "markdown",
   "id": "d16dbc2e",
   "metadata": {
    "id": "d16dbc2e"
   },
   "source": [
    "## Tokenização das Sentenças"
   ]
  },
  {
   "cell_type": "code",
   "execution_count": null,
   "id": "uKoyftaMNRcp",
   "metadata": {
    "ExecuteTime": {
     "end_time": "2022-03-31T11:38:37.056201Z",
     "start_time": "2022-03-31T11:38:37.044202Z"
    },
    "id": "uKoyftaMNRcp"
   },
   "outputs": [],
   "source": [
    "# !pip install gensim==4.1.2"
   ]
  },
  {
   "cell_type": "code",
   "execution_count": null,
   "id": "GEaCduvtMxHT",
   "metadata": {
    "ExecuteTime": {
     "end_time": "2022-03-31T11:38:38.705487Z",
     "start_time": "2022-03-31T11:38:38.125489Z"
    },
    "colab": {
     "base_uri": "https://localhost:8080/",
     "height": 35
    },
    "executionInfo": {
     "elapsed": 15,
     "status": "ok",
     "timestamp": 1648662637771,
     "user": {
      "displayName": "David Soares do Monte",
      "userId": "04557725439243141046"
     },
     "user_tz": 180
    },
    "id": "GEaCduvtMxHT",
    "outputId": "49dbe25a-0076-4c71-f3d6-8447c72330ec"
   },
   "outputs": [],
   "source": [
    "import gensim\n",
    "import gensim.downloader\n",
    "gensim.__version__"
   ]
  },
  {
   "cell_type": "code",
   "execution_count": null,
   "id": "20fc0dfb",
   "metadata": {
    "ExecuteTime": {
     "end_time": "2022-03-31T11:38:40.815308Z",
     "start_time": "2022-03-31T11:38:40.797268Z"
    },
    "id": "20fc0dfb"
   },
   "outputs": [],
   "source": [
    "from gensim.models import KeyedVectors #, Word2Vec "
   ]
  },
  {
   "cell_type": "markdown",
   "id": "028701d1",
   "metadata": {
    "id": "028701d1"
   },
   "source": [
    "### Com Stemming"
   ]
  },
  {
   "cell_type": "markdown",
   "id": "W5ic8t8GfJRs",
   "metadata": {
    "id": "W5ic8t8GfJRs"
   },
   "source": [
    "* word2vec pré-treinado em português:\n",
    "<br>http://www.nilc.icmc.usp.br/nilc/index.php/repositorio-de-word-embeddings-do-nilc"
   ]
  },
  {
   "cell_type": "code",
   "execution_count": null,
   "id": "0N_E2W1jnCmY",
   "metadata": {
    "ExecuteTime": {
     "end_time": "2022-03-31T11:39:36.666359Z",
     "start_time": "2022-03-31T11:38:43.918241Z"
    },
    "id": "0N_E2W1jnCmY"
   },
   "outputs": [],
   "source": [
    "word2vc_vectors = KeyedVectors.load_word2vec_format('cbow_s100.txt')"
   ]
  },
  {
   "cell_type": "code",
   "execution_count": null,
   "id": "d5dd4764",
   "metadata": {
    "ExecuteTime": {
     "end_time": "2022-03-31T11:40:04.897163Z",
     "start_time": "2022-03-31T11:40:02.466163Z"
    },
    "colab": {
     "base_uri": "https://localhost:8080/"
    },
    "executionInfo": {
     "elapsed": 1806,
     "status": "ok",
     "timestamp": 1648662731932,
     "user": {
      "displayName": "David Soares do Monte",
      "userId": "04557725439243141046"
     },
     "user_tz": 180
    },
    "id": "d5dd4764",
    "outputId": "fd5f8b1c-5d17-4e95-8d34-52ae9333d2d8"
   },
   "outputs": [],
   "source": [
    "# Tokenização\n",
    "sentences_set_amz = []\n",
    "sentence = []\n",
    "dict_pt = {}\n",
    "punct_set = list(string.punctuation) + ['..', '...', \"''\", \"'''\", '``', '```', '*', '**', '***', '…', '^', '^^', '-']\n",
    "stop_words = set(stopwords.words('portuguese'))\n",
    "\n",
    "for item in df_reviews['reviews']:\n",
    "  words = word_tokenize(item, language='portuguese')\n",
    "  for token in words:\n",
    "    token = token.lower()                                        # Todas as palavras em minúsculo\n",
    "    if token not in punct_set and token not in stop_words: # and not token[0].isdigit():       # Verifica se não é pontuação ou 'stop word'\n",
    "      while (len(token) > 0 and token[0] in punct_set):          # Removendo pontuação do início das palavras\n",
    "        token = token[1:]\n",
    "      while (len(token) > 0 and token[-1] in punct_set):         # Removendo pontuação do fim das palavras\n",
    "        token = token[:-1]\n",
    "      token = stemmer.stem(token)\n",
    "      if len(token) > 1 and token in word2vc_vectors.key_to_index:\n",
    "        sentence.append(token) \n",
    "  sentences_set_amz.append(sentence)\n",
    "\n",
    "  word_freq = Counter(sentence)\n",
    "\n",
    "  for word,freq in word_freq.items():\n",
    "    if word in dict_pt.keys():\n",
    "      dict_pt[word] = dict_pt[word] + freq\n",
    "    else:\n",
    "      dict_pt[word] = freq\n",
    "  sentence = []\n",
    "\n",
    "sentences_set = np.asarray(sentences_set_amz, dtype='object')\n",
    "\n",
    "print('Nº de sentenças:', len(sentences_set))\n",
    "print(\"Tamanho do vocabulário: \", len(dict_pt))\n",
    "print(\"Vocabulário:\\n\", sorted(dict_pt.keys()))"
   ]
  },
  {
   "cell_type": "code",
   "execution_count": null,
   "id": "neN0ZzGwdAdg",
   "metadata": {
    "ExecuteTime": {
     "end_time": "2022-03-31T11:40:42.888567Z",
     "start_time": "2022-03-31T11:40:42.876567Z"
    },
    "colab": {
     "base_uri": "https://localhost:8080/",
     "height": 363
    },
    "executionInfo": {
     "elapsed": 55,
     "status": "ok",
     "timestamp": 1648662731934,
     "user": {
      "displayName": "David Soares do Monte",
      "userId": "04557725439243141046"
     },
     "user_tz": 180
    },
    "id": "neN0ZzGwdAdg",
    "outputId": "5d64534c-2146-4c7d-9785-9602cde5d20d"
   },
   "outputs": [],
   "source": [
    "dict_pt_df = pd.DataFrame(sorted(list(dict_pt.items()), key=lambda v: v[1], reverse=True), columns=['words', 'freq'])\n",
    "dict_pt_df.head(10)"
   ]
  },
  {
   "cell_type": "code",
   "execution_count": null,
   "id": "S3RpsVehH3Sy",
   "metadata": {
    "id": "S3RpsVehH3Sy"
   },
   "outputs": [],
   "source": [
    "#dict_pt_df.to_csv('/content/drive/MyDrive/Colab Notebooks/Colabs - NLP/NLP Projeto Final/dicionario.csv')"
   ]
  },
  {
   "cell_type": "code",
   "execution_count": null,
   "id": "hKBjq3sTdcca",
   "metadata": {
    "ExecuteTime": {
     "end_time": "2022-03-31T11:40:49.939079Z",
     "start_time": "2022-03-31T11:40:49.918079Z"
    },
    "colab": {
     "base_uri": "https://localhost:8080/"
    },
    "executionInfo": {
     "elapsed": 52,
     "status": "ok",
     "timestamp": 1648662731935,
     "user": {
      "displayName": "David Soares do Monte",
      "userId": "04557725439243141046"
     },
     "user_tz": 180
    },
    "id": "hKBjq3sTdcca",
    "outputId": "a93b77ab-f7a3-41a9-d3f4-2649d7c02711"
   },
   "outputs": [],
   "source": [
    "# Verifica se há alguma sentença vazia e remove do conjunto de sentenças e do dataset\n",
    "null_sentences = []\n",
    "\n",
    "for i,sentence in enumerate(sentences_set):\n",
    "  if len(sentence) == 0:\n",
    "    null_sentences.append(i)\n",
    "    #print(sentence)\n",
    "print(null_sentences)\n",
    "\n",
    "sentences_set = np.delete(sentences_set, null_sentences)\n",
    "\n",
    "# Atualiza a base de dados removendo as instâncias correspondentes a sentenças vazias\n",
    "if len(null_sentences) > 0:\n",
    "  df_reviews = df_reviews.drop(null_sentences, axis=0)\n",
    "  df_reviews.reset_index(drop=True, inplace=True)"
   ]
  },
  {
   "cell_type": "code",
   "execution_count": null,
   "id": "5GtS39LcwpQB",
   "metadata": {
    "ExecuteTime": {
     "end_time": "2022-03-31T11:40:57.088050Z",
     "start_time": "2022-03-31T11:40:57.068018Z"
    },
    "colab": {
     "base_uri": "https://localhost:8080/"
    },
    "executionInfo": {
     "elapsed": 325,
     "status": "ok",
     "timestamp": 1648644212357,
     "user": {
      "displayName": "David Soares do Monte",
      "userId": "04557725439243141046"
     },
     "user_tz": 180
    },
    "id": "5GtS39LcwpQB",
    "outputId": "f7ee042d-54df-4bb7-b60a-231ae292b04c"
   },
   "outputs": [],
   "source": [
    "df_reviews.info()"
   ]
  },
  {
   "cell_type": "code",
   "execution_count": null,
   "id": "cd98a602",
   "metadata": {
    "ExecuteTime": {
     "end_time": "2022-03-31T11:41:01.491026Z",
     "start_time": "2022-03-31T11:41:01.483995Z"
    },
    "colab": {
     "base_uri": "https://localhost:8080/"
    },
    "executionInfo": {
     "elapsed": 303,
     "status": "ok",
     "timestamp": 1648586702695,
     "user": {
      "displayName": "David Soares do Monte",
      "userId": "04557725439243141046"
     },
     "user_tz": 180
    },
    "id": "cd98a602",
    "outputId": "6a1ded40-0448-45c0-b185-0fa635c9ef83"
   },
   "outputs": [],
   "source": [
    "# Imprime um exemplo de sentença tokenizada\n",
    "print(sentences_set[0])"
   ]
  },
  {
   "cell_type": "markdown",
   "id": "73a2b3c5",
   "metadata": {
    "id": "73a2b3c5"
   },
   "source": [
    "# Etapa 3: Implementação dos Classificadores"
   ]
  },
  {
   "cell_type": "markdown",
   "id": "8c23f986",
   "metadata": {
    "id": "8c23f986"
   },
   "source": [
    "## Importação de Bibliotecas Necessárias"
   ]
  },
  {
   "cell_type": "code",
   "execution_count": null,
   "id": "271278a7",
   "metadata": {
    "ExecuteTime": {
     "end_time": "2022-03-31T11:41:06.722771Z",
     "start_time": "2022-03-31T11:41:05.651473Z"
    },
    "id": "271278a7"
   },
   "outputs": [],
   "source": [
    "import numpy as np\n",
    "import seaborn as sn\n",
    "import matplotlib.pyplot as plt\n",
    "from sklearn.preprocessing import LabelEncoder, StandardScaler, MinMaxScaler\n",
    "from sklearn.model_selection import train_test_split\n",
    "from sklearn.model_selection import RandomizedSearchCV\n",
    "from sklearn.model_selection import StratifiedKFold\n",
    "from sklearn.model_selection import cross_val_score\n",
    "from sklearn.metrics import classification_report\n",
    "from sklearn.metrics import confusion_matrix\n",
    "from sklearn.ensemble import RandomForestClassifier\n",
    "from sklearn.cluster import KMeans\n",
    "from sklearn.metrics import silhouette_samples, silhouette_score\n",
    "from sklearn.decomposition import PCA\n",
    "from sklearn.pipeline import Pipeline"
   ]
  },
  {
   "cell_type": "markdown",
   "id": "7b01437a",
   "metadata": {
    "id": "7b01437a"
   },
   "source": [
    "## Pré-processamento"
   ]
  },
  {
   "cell_type": "code",
   "execution_count": null,
   "id": "38a6fc89",
   "metadata": {
    "ExecuteTime": {
     "end_time": "2022-03-31T11:41:10.002170Z",
     "start_time": "2022-03-31T11:41:09.983170Z"
    },
    "colab": {
     "base_uri": "https://localhost:8080/"
    },
    "executionInfo": {
     "elapsed": 11,
     "status": "ok",
     "timestamp": 1648662732215,
     "user": {
      "displayName": "David Soares do Monte",
      "userId": "04557725439243141046"
     },
     "user_tz": 180
    },
    "id": "38a6fc89",
    "outputId": "c000e0dd-99d8-4fcd-f6bc-f6d3c512d567"
   },
   "outputs": [],
   "source": [
    "# Pré-processamento das classes\n",
    "\n",
    "label_encoder = LabelEncoder()\n",
    "y = label_encoder.fit_transform(df_reviews['sentiment'])\n",
    "\n",
    "print('Classes numéricas:', np.unique(y))\n",
    "print('Classes:', list(label_encoder.inverse_transform(np.unique(y))))\n",
    "print('Nº de elementos de y:', len(y))"
   ]
  },
  {
   "cell_type": "code",
   "execution_count": null,
   "id": "2486f643",
   "metadata": {
    "ExecuteTime": {
     "end_time": "2022-03-31T11:41:13.707626Z",
     "start_time": "2022-03-31T11:41:13.551634Z"
    },
    "colab": {
     "base_uri": "https://localhost:8080/"
    },
    "executionInfo": {
     "elapsed": 401,
     "status": "ok",
     "timestamp": 1648662732608,
     "user": {
      "displayName": "David Soares do Monte",
      "userId": "04557725439243141046"
     },
     "user_tz": 180
    },
    "id": "2486f643",
    "outputId": "e229386e-ba35-424e-98db-93312bbbe821"
   },
   "outputs": [],
   "source": [
    "# Passando as sentenças tokenizadas para o modelo treinado para obter o conjunto de embeddings 'X'\n",
    "\n",
    "X = []\n",
    "max_len = 0\n",
    "\n",
    "for i,sentence in enumerate(sentences_set):\n",
    "  vector = word2vc_vectors[sentence]        # model_amazon.wv[sentence]  [UNK]\n",
    "  X.append(vector)\n",
    "  max_len = max(max_len, len(vector))\n",
    "\n",
    "print('max_len:', max_len)\n",
    "print('N° de elementos de X:', len(X))"
   ]
  },
  {
   "cell_type": "code",
   "execution_count": null,
   "id": "d5c651cf",
   "metadata": {
    "ExecuteTime": {
     "end_time": "2022-03-31T11:41:22.020478Z",
     "start_time": "2022-03-31T11:41:20.331445Z"
    },
    "colab": {
     "base_uri": "https://localhost:8080/"
    },
    "executionInfo": {
     "elapsed": 1222,
     "status": "ok",
     "timestamp": 1648662733827,
     "user": {
      "displayName": "David Soares do Monte",
      "userId": "04557725439243141046"
     },
     "user_tz": 180
    },
    "id": "d5c651cf",
    "outputId": "daf0e1a8-a05c-45a5-ddfd-d96397cac580"
   },
   "outputs": [],
   "source": [
    "# Redimensionamento dos vetores \n",
    "VECTOR_SIZE = 100\n",
    "\n",
    "def transform(exemplos, dimension):\n",
    "  results = np.zeros((len(exemplos), dimension, VECTOR_SIZE))\n",
    "  for i, sequence in enumerate(exemplos):\n",
    "    results[i, (dimension - len(sequence)):, :] = sequence\n",
    "  return results\n",
    " \n",
    "X = transform(X, max_len)\n",
    "\n",
    "# Normalização de X para intervalo [-1,1]\n",
    "X_min = X.min()\n",
    "X_max = X.max()\n",
    "range_X = X_max - X_min\n",
    "\n",
    "X = ((X - X_min)/range_X - 0.5) * 2\n",
    "\n",
    "print('Range após normalização:', [X.min(), X.max()])\n",
    "print(X.shape)"
   ]
  },
  {
   "cell_type": "markdown",
   "id": "V4LmZNg0MRdO",
   "metadata": {
    "id": "V4LmZNg0MRdO"
   },
   "source": [
    "## Agrupamento para Identificação das Reviews mais Representativas"
   ]
  },
  {
   "cell_type": "markdown",
   "id": "XexsYLg_MhML",
   "metadata": {
    "id": "XexsYLg_MhML"
   },
   "source": [
    "* Material de referência: \n",
    "<br> https://dylancastillo.co/nlp-snippets-cluster-documents-using-word2vec/#generate-document-vectors"
   ]
  },
  {
   "cell_type": "markdown",
   "id": "949b8bdd",
   "metadata": {
    "id": "949b8bdd"
   },
   "source": [
    "* Vetorização e redução das sentenças para um vetor único por meio da média dos vetores"
   ]
  },
  {
   "cell_type": "code",
   "execution_count": null,
   "id": "BKCP5XltGsTa",
   "metadata": {
    "ExecuteTime": {
     "end_time": "2022-03-31T11:41:30.260950Z",
     "start_time": "2022-03-31T11:41:30.084918Z"
    },
    "colab": {
     "base_uri": "https://localhost:8080/"
    },
    "executionInfo": {
     "elapsed": 18,
     "status": "ok",
     "timestamp": 1648662733829,
     "user": {
      "displayName": "David Soares do Monte",
      "userId": "04557725439243141046"
     },
     "user_tz": 180
    },
    "id": "BKCP5XltGsTa",
    "outputId": "1d738291-dcd6-42a4-9a95-04108a2837b9"
   },
   "outputs": [],
   "source": [
    "def mean_vectorize(list_of_docs, model):\n",
    "    \"\"\"Generate vectors for list of documents using a Word Embedding\n",
    "\n",
    "    Args:\n",
    "        list_of_docs: List of documents\n",
    "        model: Gensim's Word Embedding\n",
    "\n",
    "    Returns:\n",
    "        List of document vectors\n",
    "    \"\"\"\n",
    "    features = []\n",
    "\n",
    "    for tokens in list_of_docs:\n",
    "        zero_vector = np.zeros(model.vector_size)\n",
    "        vectors = []\n",
    "        for token in tokens:\n",
    "          vectors.append(model[token])\n",
    "        if vectors:\n",
    "            vectors = np.asarray(vectors)\n",
    "            avg_vec = vectors.mean(axis=0)\n",
    "            features.append(avg_vec)\n",
    "        else:\n",
    "            features.append(zero_vector)\n",
    "    return features\n",
    "    \n",
    "vectorized_docs = mean_vectorize(sentences_set, model=word2vc_vectors)\n",
    "\n",
    "print('Shape do vetor médio gerado para cada reviews após o embedding:', (len(vectorized_docs), len(vectorized_docs[0])))"
   ]
  },
  {
   "cell_type": "code",
   "execution_count": null,
   "id": "MHd5-rhD6xn9",
   "metadata": {
    "ExecuteTime": {
     "end_time": "2022-03-31T11:43:37.098441Z",
     "start_time": "2022-03-31T11:42:01.363443Z"
    },
    "id": "MHd5-rhD6xn9",
    "outputId": "30ec7fa1-8eba-46e0-834f-594a3b7a9a43"
   },
   "outputs": [],
   "source": [
    "# Busca do número ótimo de clusters através da análise de silhueta\n",
    "seed = 1275\n",
    "SAMPLE_SIZE = 350\n",
    "silhouette_score_list = []\n",
    "\n",
    "for k in np.arange(2,21):\n",
    "  km = KMeans(n_clusters=k, n_init=100, init='k-means++', random_state=seed).fit(vectorized_docs) # MiniBatchKMeans(n_clusters=k, batch_size=mb).fit(X_docs)\n",
    "  silhouette_score_list.append(silhouette_score(vectorized_docs, km.labels_, metric=\"euclidean\", sample_size=350, random_state=seed))\n",
    "\n",
    "best_score = max(silhouette_score_list)\n",
    "best_cluster = silhouette_score_list.index(best_score) + 2\n",
    "\n",
    "print('Melhor silhueta:', best_score)\n",
    "print('Nº de Clusters:', best_cluster)"
   ]
  },
  {
   "cell_type": "code",
   "execution_count": null,
   "id": "UqHnp-zU8my1",
   "metadata": {
    "ExecuteTime": {
     "end_time": "2022-03-31T11:43:37.353442Z",
     "start_time": "2022-03-31T11:43:37.100441Z"
    },
    "colab": {
     "base_uri": "https://localhost:8080/",
     "height": 350
    },
    "executionInfo": {
     "elapsed": 355,
     "status": "ok",
     "timestamp": 1648665690805,
     "user": {
      "displayName": "David Soares do Monte",
      "userId": "04557725439243141046"
     },
     "user_tz": 180
    },
    "id": "UqHnp-zU8my1",
    "outputId": "951b13ed-6e6c-4c13-cadc-ea7244838127"
   },
   "outputs": [],
   "source": [
    "plt.figure(figsize=(8, 5))\n",
    "plt.plot(list(np.arange(2,21)), silhouette_score_list)\n",
    "plt.title('Silhouette Score')\n",
    "plt.xlabel('Clusters')\n",
    "plt.ylabel('silhouette score')\n",
    "plt.show()"
   ]
  },
  {
   "cell_type": "code",
   "execution_count": null,
   "id": "h9YU9l6VICQ0",
   "metadata": {
    "ExecuteTime": {
     "end_time": "2022-03-31T11:43:56.585788Z",
     "start_time": "2022-03-31T11:43:56.564789Z"
    },
    "id": "h9YU9l6VICQ0"
   },
   "outputs": [],
   "source": [
    "def kmeans_clusters(\n",
    "    X, \n",
    "    k, \n",
    "    mb, \n",
    "    print_silhouette_values, \n",
    "):\n",
    "    \"\"\"Generate clusters and print Silhouette metrics using MBKmeans\n",
    "\n",
    "    Args:\n",
    "        X: Matrix of features.\n",
    "        k: Number of clusters.\n",
    "        mb: Size of mini-batches.\n",
    "        print_silhouette_values: Print silhouette values per cluster.\n",
    "\n",
    "    Returns:\n",
    "        Trained clustering model and labels based on X.\n",
    "    \"\"\"\n",
    "    km = KMeans(n_clusters=k, n_init=100, init='k-means++', random_state=seed).fit(X)\n",
    "    print(f\"For n_clusters = {k}\")\n",
    "    print(f\"Silhouette coefficient: {silhouette_score(X, km.labels_):0.2f}\")\n",
    "    print(f\"Inertia:{km.inertia_}\")\n",
    "\n",
    "    if print_silhouette_values:\n",
    "        sample_silhouette_values = silhouette_samples(X, km.labels_)\n",
    "        print(f\"Silhouette values:\")\n",
    "        silhouette_values = []\n",
    "        for i in np.arange(k):\n",
    "            cluster_silhouette_values = sample_silhouette_values[km.labels_ == i]\n",
    "            silhouette_values.append(\n",
    "                (\n",
    "                    i,\n",
    "                    cluster_silhouette_values.shape[0],\n",
    "                    cluster_silhouette_values.mean(),\n",
    "                    cluster_silhouette_values.min(),\n",
    "                    cluster_silhouette_values.max(),\n",
    "                )\n",
    "            )\n",
    "        silhouette_values = sorted(\n",
    "            silhouette_values, key=lambda tup: tup[2], reverse=True\n",
    "        )\n",
    "        for s in silhouette_values:\n",
    "            print(\n",
    "                f\"    Cluster {s[0]}: Size:{s[1]} | Avg:{s[2]:.2f} | Min:{s[3]:.2f} | Max: {s[4]:.2f}\"\n",
    "            )\n",
    "    return km, km.labels_"
   ]
  },
  {
   "cell_type": "code",
   "execution_count": null,
   "id": "AwipBfLMIL65",
   "metadata": {
    "ExecuteTime": {
     "end_time": "2022-03-31T11:44:02.884085Z",
     "start_time": "2022-03-31T11:44:00.397120Z"
    },
    "colab": {
     "base_uri": "https://localhost:8080/"
    },
    "executionInfo": {
     "elapsed": 3748,
     "status": "ok",
     "timestamp": 1648665206296,
     "user": {
      "displayName": "David Soares do Monte",
      "userId": "04557725439243141046"
     },
     "user_tz": 180
    },
    "id": "AwipBfLMIL65",
    "outputId": "061c0459-c8a8-4f9e-9b63-4c07dd6e203d"
   },
   "outputs": [],
   "source": [
    "clustering, cluster_labels = kmeans_clusters(\n",
    "    X=vectorized_docs,\n",
    "    k=best_cluster,\n",
    "    mb=500,\n",
    "    print_silhouette_values=True,\n",
    ")"
   ]
  },
  {
   "cell_type": "markdown",
   "id": "91c7c4f2",
   "metadata": {
    "id": "91c7c4f2"
   },
   "source": [
    "* Redução de dimensionalidade com o PCA para visualização dos agrupamentos"
   ]
  },
  {
   "cell_type": "code",
   "execution_count": null,
   "id": "cad9b00d",
   "metadata": {
    "ExecuteTime": {
     "end_time": "2022-03-31T11:44:12.149149Z",
     "start_time": "2022-03-31T11:44:12.085150Z"
    },
    "id": "cad9b00d",
    "outputId": "532a130d-9d9e-447e-9326-f3fbf7e43202"
   },
   "outputs": [],
   "source": [
    "scaler = StandardScaler()\n",
    "scaled_docs = scaler.fit_transform(vectorized_docs)\n",
    "pca = PCA(n_components=2)\n",
    "pca_docs = pca.fit_transform(scaled_docs)\n",
    "pca_docs.shape"
   ]
  },
  {
   "cell_type": "code",
   "execution_count": null,
   "id": "HuW_koJ8ScYV",
   "metadata": {
    "ExecuteTime": {
     "end_time": "2022-03-31T11:44:15.227371Z",
     "start_time": "2022-03-31T11:44:15.037371Z"
    },
    "id": "HuW_koJ8ScYV",
    "outputId": "96cf869f-1256-4c74-f2d2-2e6efe20a61d"
   },
   "outputs": [],
   "source": [
    "plt.figure(figsize=(8, 5))\n",
    "plt.scatter(pca_docs[:, 0], pca_docs[:, 1], c=cluster_labels, edgecolor='none', alpha=0.5, cmap='viridis', s=50)\n",
    "plt.title('Visualização dos agrupamentos em duas dimensões')\n",
    "plt.xlabel('componente 1')\n",
    "plt.ylabel('componente 2')\n",
    "plt.colorbar();"
   ]
  },
  {
   "cell_type": "code",
   "execution_count": null,
   "id": "-m4l2uJILucl",
   "metadata": {
    "ExecuteTime": {
     "end_time": "2022-03-31T11:44:21.505473Z",
     "start_time": "2022-03-31T11:44:21.485474Z"
    },
    "id": "-m4l2uJILucl"
   },
   "outputs": [],
   "source": [
    "# Cria um df relacionando: 'sentiment', 'reviews', 'tokens', 'clusters'.\n",
    "df_clusters = pd.DataFrame({\n",
    "    \"sentiment\": df_reviews['sentiment'],\n",
    "    \"reviews\": df_reviews['reviews'],\n",
    "    \"tokens\": [\" \".join(text) for text in sentences_set],\n",
    "    \"cluster\": cluster_labels\n",
    "})"
   ]
  },
  {
   "cell_type": "code",
   "execution_count": null,
   "id": "mLKyhMW3Lwek",
   "metadata": {
    "ExecuteTime": {
     "end_time": "2022-03-31T11:44:24.496105Z",
     "start_time": "2022-03-31T11:44:24.479107Z"
    },
    "colab": {
     "base_uri": "https://localhost:8080/",
     "height": 206
    },
    "executionInfo": {
     "elapsed": 6,
     "status": "ok",
     "timestamp": 1648664907982,
     "user": {
      "displayName": "David Soares do Monte",
      "userId": "04557725439243141046"
     },
     "user_tz": 180
    },
    "id": "mLKyhMW3Lwek",
    "outputId": "2e646512-ba8d-4793-8cdd-4359bb013804"
   },
   "outputs": [],
   "source": [
    "df_clusters.sample(5)"
   ]
  },
  {
   "cell_type": "code",
   "execution_count": null,
   "id": "FRhAGFnjKS8K",
   "metadata": {
    "ExecuteTime": {
     "end_time": "2022-03-31T11:44:38.337878Z",
     "start_time": "2022-03-31T11:44:38.084836Z"
    },
    "colab": {
     "base_uri": "https://localhost:8080/"
    },
    "executionInfo": {
     "elapsed": 294,
     "status": "ok",
     "timestamp": 1648664761710,
     "user": {
      "displayName": "David Soares do Monte",
      "userId": "04557725439243141046"
     },
     "user_tz": 180
    },
    "id": "FRhAGFnjKS8K",
    "outputId": "5949e1df-86d1-4699-c1ce-b264f0c4922a"
   },
   "outputs": [],
   "source": [
    "# Termos mais representativos baseados nos centroídes\n",
    "\n",
    "print(\"Most representative terms per cluster (based on centroids):\")\n",
    "\n",
    "for i in np.arange(best_cluster):\n",
    "    tokens_per_cluster = \"\"\n",
    "    most_representative = word2vc_vectors.most_similar(positive=[clustering.cluster_centers_[i]], topn=5)\n",
    "    for t in most_representative:\n",
    "        tokens_per_cluster += f\"{t[0]} \"\n",
    "    print(f\"Cluster {i}: {tokens_per_cluster}\")"
   ]
  },
  {
   "cell_type": "markdown",
   "id": "wB5zAQIrJaEN",
   "metadata": {
    "id": "wB5zAQIrJaEN"
   },
   "source": [
    "numpy.argsort: Returns the indices that would sort an array\n",
    "<br> https://numpy.org/doc/stable/reference/generated/numpy.argsort.html\n",
    "<br> numpy.linalg.norm: Matrix or vector norm\n",
    "<br> https://numpy.org/doc/stable/reference/generated/numpy.linalg.norm.html"
   ]
  },
  {
   "cell_type": "code",
   "execution_count": null,
   "id": "K8BM-LJFKsEM",
   "metadata": {
    "ExecuteTime": {
     "end_time": "2022-03-31T18:31:15.956927Z",
     "start_time": "2022-03-31T18:31:15.917924Z"
    },
    "colab": {
     "base_uri": "https://localhost:8080/"
    },
    "executionInfo": {
     "elapsed": 347,
     "status": "ok",
     "timestamp": 1648665258376,
     "user": {
      "displayName": "David Soares do Monte",
      "userId": "04557725439243141046"
     },
     "user_tz": 180
    },
    "id": "K8BM-LJFKsEM",
    "outputId": "970180e0-33cc-4c33-b663-d02e7cdb25e3"
   },
   "outputs": [],
   "source": [
    "# Documentos mais representativos para um cluster específico\n",
    "test_cluster = 1\n",
    "\n",
    "most_representative_docs = np.argsort(np.linalg.norm(vectorized_docs - clustering.cluster_centers_[test_cluster], axis=1))\n",
    "\n",
    "for d in most_representative_docs[:40]:\n",
    "    print(df_clusters.iloc[d])\n",
    "    print(\"-------------\")"
   ]
  },
  {
   "cell_type": "markdown",
   "id": "581c4739",
   "metadata": {
    "id": "581c4739"
   },
   "source": [
    "## C1: Random Forest"
   ]
  },
  {
   "cell_type": "code",
   "execution_count": null,
   "id": "868c6d5b",
   "metadata": {
    "ExecuteTime": {
     "end_time": "2022-04-01T20:47:50.118279Z",
     "start_time": "2022-04-01T20:45:35.807183Z"
    },
    "id": "868c6d5b"
   },
   "outputs": [],
   "source": [
    "seed = 1275\n",
    "X_rfc = np.reshape(X,(X.shape[0], max_len*VECTOR_SIZE))\n",
    "y_rfc = y\n",
    "\n",
    "# Divisao da base de dados em treinamento, validacao e teste\n",
    "X_train, X_test, y_train, y_test = train_test_split(X_rfc, y_rfc, test_size=0.2, stratify=y_rfc, random_state=seed)\n",
    "#X_train, X_valid, y_train, y_valid = train_test_split(X_train, y_train, test_size = 0.2, stratify=y_train, random_state=seed)\n",
    "\n",
    "# Instanciando o modelo\n",
    "rfc = RandomForestClassifier(random_state=seed)\n",
    "\n",
    "# K-fold estratificado com k = 10\n",
    "cv = StratifiedKFold(n_splits=10)\n",
    "\n",
    "# definição dos parâmetros para a árvore de decisão\n",
    "param_distributions = { \n",
    "                        'n_estimators': [10,11,12,15,16,17,18,19,20],\n",
    "                        'criterion': ['gini', 'entropy'],\n",
    "                        'max_depth': [12,14,15,16,17,18,20],\n",
    "                        'min_samples_split': [15,16,17,18,19,20,21,25],\n",
    "                        'min_samples_leaf': [4,5,6,7,8,9,10],\n",
    "                        'max_features':['auto', 'sqrt'] #, 'log2']\n",
    "                      }\n",
    "\n",
    "# define random search for decision tree\n",
    "rnd_search_rfc = RandomizedSearchCV(  estimator=rfc, \n",
    "                                      param_distributions = param_distributions, \n",
    "                                      n_iter=25, scoring='accuracy', \n",
    "                                      n_jobs=3, cv=cv, random_state=seed\n",
    "                                    )\n",
    "# execute search\n",
    "result_rfc = rnd_search_rfc.fit(X_train, y_train)"
   ]
  },
  {
   "cell_type": "code",
   "execution_count": null,
   "id": "04368520",
   "metadata": {
    "ExecuteTime": {
     "end_time": "2022-04-01T20:48:05.528531Z",
     "start_time": "2022-04-01T20:47:50.124274Z"
    },
    "colab": {
     "base_uri": "https://localhost:8080/"
    },
    "executionInfo": {
     "elapsed": 16981,
     "status": "ok",
     "timestamp": 1648587929114,
     "user": {
      "displayName": "David Soares do Monte",
      "userId": "04557725439243141046"
     },
     "user_tz": 180
    },
    "id": "04368520",
    "outputId": "4d6f0f75-5d1b-480e-f97b-f9950926a0ca"
   },
   "outputs": [],
   "source": [
    "# summarize result for random forest\n",
    "print('=========Random Search Results for RandomForest==========')\n",
    "print('Best Score: %s' % result_rfc.best_score_)\n",
    "print('Best Hyperparameters: %s' % result_rfc.best_params_)\n",
    "\n",
    "# Instanciando e avaliando o modelo\n",
    "RFC = RandomForestClassifier(**result_rfc.best_params_, random_state=seed)\n",
    "\n",
    "model = RFC.fit(X_train, y_train)\n",
    "y_predicted = RFC.predict(X_test)\n",
    "\n",
    "print('\\nDesempenho médio do RandomForest:')\n",
    "\n",
    "cv_results = cross_val_score(RFC, X_train, y_train, cv=cv, scoring='accuracy')\n",
    "#cv_models_results['randomForest'] = cv_results\n",
    "\n",
    "name = 'RandomForest'\n",
    "msg = \"%s: %f (%f)\" % (name, cv_results.mean(), cv_results.std())\n",
    "print(msg)\n",
    "\n",
    "print(\"\\nAcuracia do Random Forest: Treinamento\",  RFC.score(X_train, y_train),\" Teste\", RFC.score(X_test, y_test))\n",
    "print(\"\\nClasification report:\\n\", classification_report(y_test, y_predicted))\n",
    "print(\"Confusion matrix:\\n\", confusion_matrix(y_test, y_predicted))"
   ]
  },
  {
   "cell_type": "code",
   "execution_count": null,
   "id": "ef028f3c",
   "metadata": {
    "ExecuteTime": {
     "end_time": "2022-04-01T20:19:30.661198Z",
     "start_time": "2022-04-01T20:19:30.536594Z"
    },
    "colab": {
     "base_uri": "https://localhost:8080/",
     "height": 279
    },
    "executionInfo": {
     "elapsed": 315,
     "status": "ok",
     "timestamp": 1648587603798,
     "user": {
      "displayName": "David Soares do Monte",
      "userId": "04557725439243141046"
     },
     "user_tz": 180
    },
    "id": "ef028f3c",
    "outputId": "c5b8e6ee-fd8e-4509-ee47-ab6b9bb489a7"
   },
   "outputs": [],
   "source": [
    "rf_confusion_matrix = pd.crosstab(y_test, y_predicted, rownames=['Valor Atual'], colnames=['Valor Predito'])\n",
    "\n",
    "sn.heatmap(rf_confusion_matrix, annot=True, fmt=\"d\", cmap='inferno', linewidths=.5)\n",
    "plt.show()"
   ]
  },
  {
   "cell_type": "markdown",
   "id": "0D6DSmjGUQjX",
   "metadata": {
    "id": "0D6DSmjGUQjX"
   },
   "source": [
    "## C2: CNN"
   ]
  },
  {
   "cell_type": "markdown",
   "id": "KJBU5FhtTkeg",
   "metadata": {
    "id": "KJBU5FhtTkeg"
   },
   "source": [
    "Tensorflow Addons: https://github.com/tensorflow/addons"
   ]
  },
  {
   "cell_type": "code",
   "execution_count": null,
   "id": "2XIYeL9u1m4k",
   "metadata": {
    "ExecuteTime": {
     "end_time": "2022-03-30T21:23:51.899955Z",
     "start_time": "2022-03-30T21:23:48.592912Z"
    },
    "colab": {
     "base_uri": "https://localhost:8080/"
    },
    "executionInfo": {
     "elapsed": 3975,
     "status": "ok",
     "timestamp": 1648517962778,
     "user": {
      "displayName": "David Soares do Monte",
      "userId": "04557725439243141046"
     },
     "user_tz": 180
    },
    "id": "2XIYeL9u1m4k",
    "outputId": "1bf3e469-4cfd-490b-a876-a988eb374a3b"
   },
   "outputs": [],
   "source": [
    "#!pip install tensorflow-addons"
   ]
  },
  {
   "cell_type": "code",
   "execution_count": null,
   "id": "b34cd8d0",
   "metadata": {
    "ExecuteTime": {
     "end_time": "2022-03-31T11:48:09.089863Z",
     "start_time": "2022-03-31T11:48:05.050203Z"
    },
    "id": "b34cd8d0"
   },
   "outputs": [],
   "source": [
    "import tensorflow as tf\n",
    "from tensorflow import keras\n",
    "import tensorflow_addons as tfa\n",
    "from tensorflow.keras import Sequential\n",
    "from tensorflow.keras.layers import Dense, Dropout, LSTM, Conv1D #Embedding, Input"
   ]
  },
  {
   "cell_type": "code",
   "execution_count": null,
   "id": "9RXebTQw4czW",
   "metadata": {
    "ExecuteTime": {
     "end_time": "2022-03-31T11:48:09.264257Z",
     "start_time": "2022-03-31T11:48:09.090833Z"
    },
    "colab": {
     "base_uri": "https://localhost:8080/"
    },
    "executionInfo": {
     "elapsed": 300,
     "status": "ok",
     "timestamp": 1648517966217,
     "user": {
      "displayName": "David Soares do Monte",
      "userId": "04557725439243141046"
     },
     "user_tz": 180
    },
    "id": "9RXebTQw4czW",
    "outputId": "476f682b-be5a-48b8-f37a-e981d599959f"
   },
   "outputs": [],
   "source": [
    "print(\"Tensorflow Version: \", tf.__version__)\n",
    "print(\"GPUs Available: \", len(tf.config.list_physical_devices('GPU')))\n",
    "print(\"Tensorflow Adons Version: \", tfa.__version__)"
   ]
  },
  {
   "cell_type": "code",
   "execution_count": null,
   "id": "6Xid5AaiPA_8",
   "metadata": {
    "ExecuteTime": {
     "end_time": "2022-03-31T11:48:09.536291Z",
     "start_time": "2022-03-31T11:48:09.265258Z"
    },
    "colab": {
     "base_uri": "https://localhost:8080/"
    },
    "executionInfo": {
     "elapsed": 924,
     "status": "ok",
     "timestamp": 1648520469228,
     "user": {
      "displayName": "David Soares do Monte",
      "userId": "04557725439243141046"
     },
     "user_tz": 180
    },
    "id": "6Xid5AaiPA_8",
    "outputId": "bfba8f01-06dc-42d7-fef3-bf92459785cc"
   },
   "outputs": [],
   "source": [
    "seed = 1275\n",
    "# Divisao da base de dados em treinamento, validacao e teste\n",
    "X_train_cnn, X_test_cnn, y_train_cnn, y_test_cnn = train_test_split(X, y, test_size=0.1, stratify=y, random_state=seed)\n",
    "X_train_cnn, X_valid_cnn, y_train_cnn, y_valid_cnn = train_test_split(X_train_cnn, y_train_cnn, test_size = 0.2, stratify=y_train_cnn, random_state=seed)\n",
    "\n",
    "print('Shape do Conjunto de Treino: ', X_train_cnn.shape)\n",
    "print('Shape das labels de Treino: ', y_train_cnn.shape)\n",
    "print('Shape do Conjunto de Validação: ', X_valid_cnn.shape)\n",
    "print('Shape das labels de Validação: ', y_valid_cnn.shape)\n",
    "print('Shape do Conjunto de Teste: ', X_test_cnn.shape)\n",
    "print('Shape das labels de Teste: ', y_test_cnn.shape)"
   ]
  },
  {
   "cell_type": "code",
   "execution_count": null,
   "id": "kxCXYJiJUP8T",
   "metadata": {
    "ExecuteTime": {
     "end_time": "2022-03-31T11:48:11.456625Z",
     "start_time": "2022-03-31T11:48:09.537258Z"
    },
    "colab": {
     "base_uri": "https://localhost:8080/"
    },
    "executionInfo": {
     "elapsed": 262,
     "status": "ok",
     "timestamp": 1648520475198,
     "user": {
      "displayName": "David Soares do Monte",
      "userId": "04557725439243141046"
     },
     "user_tz": 180
    },
    "id": "kxCXYJiJUP8T",
    "outputId": "d24563c3-ae79-4cdc-d9f5-6e6bf6e5de6b"
   },
   "outputs": [],
   "source": [
    "INPUT_SHAPE = (max_len, VECTOR_SIZE,)\n",
    "\n",
    "# Hiperparameters\n",
    "FILTERS_LAYER_1=32\n",
    "KERNEL_SIZE=3\n",
    "HIDDEN_LAYER_1_NODES=20 #100\n",
    "HIDDEN_LAYER_2_NODES=10 #50\n",
    "DROPOUT_PROB=0.30\n",
    "\n",
    "model_cnn = keras.models.Sequential([\n",
    "    keras.layers.Conv1D(FILTERS_LAYER_1, KERNEL_SIZE, strides= 1, padding=\"same\", activation='relu', input_shape=INPUT_SHAPE),\n",
    "    keras.layers.GlobalMaxPooling1D(),\n",
    "    keras.layers.Dense(HIDDEN_LAYER_1_NODES, activation='relu'),\n",
    "    keras.layers.Dropout(DROPOUT_PROB),\n",
    "    keras.layers.Dense(HIDDEN_LAYER_2_NODES, activation='relu'),\n",
    "    keras.layers.Dropout(DROPOUT_PROB),\n",
    "    keras.layers.Dense(1, activation='sigmoid')\n",
    "])\n",
    "\n",
    "# Obs.: A última camada utiliza função de ativação sigmoid por se tratar de uma \n",
    "# classificação binária: a avaliação é positiva ou negativa\n",
    "\n",
    "model_cnn.summary()"
   ]
  },
  {
   "cell_type": "code",
   "execution_count": null,
   "id": "6Qc1_SEfVfv2",
   "metadata": {
    "ExecuteTime": {
     "end_time": "2022-03-31T11:48:11.488442Z",
     "start_time": "2022-03-31T11:48:11.458590Z"
    },
    "id": "6Qc1_SEfVfv2"
   },
   "outputs": [],
   "source": [
    "from tensorflow_addons.metrics.f_scores import F1Score\n",
    "# F1Score = tfa.metrics.F1Score(num_classes=2, average=\"micro\", threshold=0.5)\n",
    "model_cnn.compile(loss=\"binary_crossentropy\", optimizer=\"adam\", metrics= F1Score(num_classes=2, average=\"micro\", threshold=0.6))"
   ]
  },
  {
   "cell_type": "code",
   "execution_count": null,
   "id": "__6i-sM_VkMe",
   "metadata": {
    "ExecuteTime": {
     "end_time": "2022-03-31T11:48:11.504441Z",
     "start_time": "2022-03-31T11:48:11.489434Z"
    },
    "id": "__6i-sM_VkMe"
   },
   "outputs": [],
   "source": [
    "BATCH_SIZE = 25    # Tamanho do batch de treinamento\n",
    "N_EPOCHS = 100"
   ]
  },
  {
   "cell_type": "code",
   "execution_count": null,
   "id": "l5ZhMnhyVlRU",
   "metadata": {
    "ExecuteTime": {
     "end_time": "2022-03-31T11:48:37.693364Z",
     "start_time": "2022-03-31T11:48:11.507434Z"
    },
    "colab": {
     "base_uri": "https://localhost:8080/"
    },
    "executionInfo": {
     "elapsed": 24310,
     "status": "ok",
     "timestamp": 1648520507649,
     "user": {
      "displayName": "David Soares do Monte",
      "userId": "04557725439243141046"
     },
     "user_tz": 180
    },
    "id": "l5ZhMnhyVlRU",
    "outputId": "b3aca2f3-c4df-4654-e02d-be6a28929bf8"
   },
   "outputs": [],
   "source": [
    "callback = tf.keras.callbacks.EarlyStopping(monitor='val_loss', patience=10) \n",
    "# This callback will stop the training when there is no improvement in the loss for five consecutive epochs.\n",
    "\n",
    "history_cnn = model_cnn.fit(\n",
    "                            x=X_train_cnn, \n",
    "                            y=y_train_cnn, \n",
    "                            epochs=N_EPOCHS, \n",
    "                            batch_size=BATCH_SIZE, \n",
    "                            verbose='auto', \n",
    "                            validation_data=(X_valid_cnn,y_valid_cnn),\n",
    "                            callbacks=[callback],\n",
    "                          )\n",
    "print('\\nQuantidade de épocas executadas: ', len(history_cnn.history['val_loss']))"
   ]
  },
  {
   "cell_type": "code",
   "execution_count": null,
   "id": "MVCpzcEmArUL",
   "metadata": {
    "ExecuteTime": {
     "end_time": "2022-03-31T11:48:38.121369Z",
     "start_time": "2022-03-31T11:48:37.695363Z"
    },
    "colab": {
     "base_uri": "https://localhost:8080/"
    },
    "executionInfo": {
     "elapsed": 437,
     "status": "ok",
     "timestamp": 1648520508073,
     "user": {
      "displayName": "David Soares do Monte",
      "userId": "04557725439243141046"
     },
     "user_tz": 180
    },
    "id": "MVCpzcEmArUL",
    "outputId": "8ddcb2f0-83d1-4285-d34d-f38339760342"
   },
   "outputs": [],
   "source": [
    "valid_loss_cnn, valid_f1_score_cnn = model_cnn.evaluate(X_valid_cnn, y_valid_cnn, verbose = 'auto')\n",
    "\n",
    "print('Valid Loss:', valid_loss_cnn)\n",
    "print('Valid F1 Score:', valid_f1_score_cnn)"
   ]
  },
  {
   "cell_type": "code",
   "execution_count": null,
   "id": "YqCOZXBraZXg",
   "metadata": {
    "ExecuteTime": {
     "end_time": "2022-03-31T11:48:38.312361Z",
     "start_time": "2022-03-31T11:48:38.122362Z"
    },
    "colab": {
     "base_uri": "https://localhost:8080/"
    },
    "executionInfo": {
     "elapsed": 7,
     "status": "ok",
     "timestamp": 1648520508073,
     "user": {
      "displayName": "David Soares do Monte",
      "userId": "04557725439243141046"
     },
     "user_tz": 180
    },
    "id": "YqCOZXBraZXg",
    "outputId": "ab6bcaa1-695e-469c-923d-c2829f4863b8"
   },
   "outputs": [],
   "source": [
    "test_loss_cnn, test_f1_score_cnn = model_cnn.evaluate(X_test_cnn, y_test_cnn, verbose = 'auto')\n",
    "\n",
    "print('Test Loss:', test_loss_cnn)\n",
    "print('Test F1 Score:', test_f1_score_cnn)"
   ]
  },
  {
   "cell_type": "code",
   "execution_count": null,
   "id": "awjTqAvDaKjC",
   "metadata": {
    "ExecuteTime": {
     "end_time": "2022-03-31T11:48:38.535843Z",
     "start_time": "2022-03-31T11:48:38.314365Z"
    },
    "colab": {
     "base_uri": "https://localhost:8080/",
     "height": 350
    },
    "executionInfo": {
     "elapsed": 782,
     "status": "ok",
     "timestamp": 1648520508851,
     "user": {
      "displayName": "David Soares do Monte",
      "userId": "04557725439243141046"
     },
     "user_tz": 180
    },
    "id": "awjTqAvDaKjC",
    "outputId": "79d3bdcb-730a-4447-d889-57c0b18b9c55"
   },
   "outputs": [],
   "source": [
    "plt.figure(figsize=(15, 5))\n",
    "plt.subplot(1, 2, 1)\n",
    "plt.plot(history_cnn.history['val_f1_score'], color='blue', label='val_f1_score')\n",
    "plt.plot(history_cnn.history['f1_score'], color='red', label='train_f1_score')\n",
    "plt.title('f1_score')\n",
    "plt.xlabel('Epochs')\n",
    "plt.ylabel('f1_score')\n",
    "#plt.ylim(None, 1)\n",
    "plt.legend()\n",
    "plt.subplot(1, 2, 2)\n",
    "plt.plot(history_cnn.history['val_loss'], color='blue', label='val_loss')\n",
    "plt.plot(history_cnn.history['loss'], color='red', label='train_loss')\n",
    "plt.title('Loss')\n",
    "plt.xlabel('Epochs')\n",
    "plt.ylabel('Loss')\n",
    "#plt.ylim(0, None);\n",
    "plt.legend();"
   ]
  },
  {
   "cell_type": "code",
   "execution_count": null,
   "id": "MNq2URaNa07X",
   "metadata": {
    "ExecuteTime": {
     "end_time": "2022-03-31T11:48:38.710841Z",
     "start_time": "2022-03-31T11:48:38.537846Z"
    },
    "colab": {
     "base_uri": "https://localhost:8080/"
    },
    "executionInfo": {
     "elapsed": 370,
     "status": "ok",
     "timestamp": 1648520541372,
     "user": {
      "displayName": "David Soares do Monte",
      "userId": "04557725439243141046"
     },
     "user_tz": 180
    },
    "id": "MNq2URaNa07X",
    "outputId": "4daae8da-c1b3-4ca4-a0e9-f96146605e58"
   },
   "outputs": [],
   "source": [
    "y_predicted_cnn = (model_cnn.predict(X_test_cnn) > 0.5).astype('int8')\n",
    "print(np.reshape(y_predicted_cnn, len(y_predicted_cnn)))"
   ]
  },
  {
   "cell_type": "code",
   "execution_count": null,
   "id": "ZMGh7kMHbM5e",
   "metadata": {
    "ExecuteTime": {
     "end_time": "2022-03-31T11:48:38.726861Z",
     "start_time": "2022-03-31T11:48:38.713843Z"
    },
    "colab": {
     "base_uri": "https://localhost:8080/"
    },
    "executionInfo": {
     "elapsed": 268,
     "status": "ok",
     "timestamp": 1648520544713,
     "user": {
      "displayName": "David Soares do Monte",
      "userId": "04557725439243141046"
     },
     "user_tz": 180
    },
    "id": "ZMGh7kMHbM5e",
    "outputId": "53075618-c81b-45bc-c714-f398ff4f2482"
   },
   "outputs": [],
   "source": [
    "print(\"\\nClasification report:\\n\", classification_report(y_test_cnn, y_predicted_cnn))\n",
    "print(\"Confusion matrix:\\n\", confusion_matrix(y_test_cnn, y_predicted_cnn))"
   ]
  },
  {
   "cell_type": "code",
   "execution_count": null,
   "id": "cW-kHvmtd329",
   "metadata": {
    "ExecuteTime": {
     "end_time": "2022-03-31T11:48:38.885905Z",
     "start_time": "2022-03-31T11:48:38.728842Z"
    },
    "colab": {
     "base_uri": "https://localhost:8080/",
     "height": 279
    },
    "executionInfo": {
     "elapsed": 904,
     "status": "ok",
     "timestamp": 1648518371297,
     "user": {
      "displayName": "David Soares do Monte",
      "userId": "04557725439243141046"
     },
     "user_tz": 180
    },
    "id": "cW-kHvmtd329",
    "outputId": "0610dc13-66a4-4005-ff52-1fa4910a6c0c"
   },
   "outputs": [],
   "source": [
    "cnn_confusion_matrix = pd.crosstab(np.reshape(y_test_cnn, len(y_test_cnn)), np.reshape(y_predicted_cnn, len(y_predicted_cnn)), rownames=['Valor Atual'], colnames=['Valor Predito'])\n",
    "\n",
    "sn.heatmap(cnn_confusion_matrix, annot=True, fmt=\"d\", cmap='inferno', linewidths=.5)\n",
    "plt.show()"
   ]
  },
  {
   "cell_type": "markdown",
   "id": "pR1wHN7hA0DL",
   "metadata": {
    "id": "pR1wHN7hA0DL"
   },
   "source": [
    "### Ajuste dos Hiperparâmetros com keras tuner - CNN"
   ]
  },
  {
   "cell_type": "code",
   "execution_count": null,
   "id": "X5cAo58ABL2k",
   "metadata": {
    "ExecuteTime": {
     "end_time": "2022-03-25T15:15:47.927692Z",
     "start_time": "2022-03-25T15:15:45.841649Z"
    },
    "id": "X5cAo58ABL2k"
   },
   "outputs": [],
   "source": [
    "#!pip install -q -U keras-tuner"
   ]
  },
  {
   "cell_type": "code",
   "execution_count": null,
   "id": "U1bmzz7KAzTz",
   "metadata": {
    "ExecuteTime": {
     "end_time": "2022-03-31T11:51:52.218433Z",
     "start_time": "2022-03-31T11:51:52.118953Z"
    },
    "id": "U1bmzz7KAzTz"
   },
   "outputs": [],
   "source": [
    "import keras_tuner as kt"
   ]
  },
  {
   "cell_type": "code",
   "execution_count": null,
   "id": "z42BC7s1BbdV",
   "metadata": {
    "ExecuteTime": {
     "end_time": "2022-03-31T11:51:54.989586Z",
     "start_time": "2022-03-31T11:51:54.975549Z"
    },
    "id": "z42BC7s1BbdV"
   },
   "outputs": [],
   "source": [
    "from tensorflow_addons.metrics.f_scores import F1Score\n",
    "METRICS_F1 = F1Score(num_classes=2, average=\"micro\", threshold=0.6)\n",
    "\n",
    "def model_cnn_builder(hp):\n",
    "  # Hiperparameters\n",
    "  KERNEL_SIZE=3\n",
    "  DROPOUT_PROB=0.30\n",
    "  INPUT_SHAPE = (max_len, VECTOR_SIZE,)\n",
    "\n",
    "  HP_FILTERS_LAYER_1 = hp.Int('filters_1', min_value=16, max_value=256, step=16)\n",
    "  HP_HIDDEN_LAYER_1_UNITS = hp.Int('units_1', min_value=10, max_value=100, step=10)\n",
    "  HP_HIDDEN_LAYER_2_UNITS = hp.Int('units_2', min_value=10, max_value=50, step=10)\n",
    "\n",
    "  model_cnn_tn = keras.models.Sequential([\n",
    "      keras.layers.Conv1D(filters=HP_FILTERS_LAYER_1, kernel_size=KERNEL_SIZE, strides= 1, padding=\"same\", activation='relu', input_shape=INPUT_SHAPE),\n",
    "      keras.layers.GlobalMaxPooling1D(),\n",
    "      keras.layers.Dense(units=HP_HIDDEN_LAYER_1_UNITS, activation='relu'),\n",
    "      keras.layers.Dropout(DROPOUT_PROB),\n",
    "      keras.layers.Dense(units=HP_HIDDEN_LAYER_2_UNITS, activation='relu'),\n",
    "      keras.layers.Dropout(DROPOUT_PROB),\n",
    "      keras.layers.Dense(1, activation='sigmoid')\n",
    "  ])\n",
    "    \n",
    "  #from tensorflow_addons.metrics.f_scores import F1Score\n",
    "\n",
    "  HP_LEARNING_RATE = hp.Choice('learning_rate', values=[1e-2, 1e-3, 1e-4, 1e-5, 1e-6])\n",
    "\n",
    "  model_cnn_tn.compile(\n",
    "      loss=\"binary_crossentropy\", \n",
    "      optimizer=keras.optimizers.Adam(learning_rate=HP_LEARNING_RATE), \n",
    "      metrics=METRICS_F1\n",
    "  )\n",
    "\n",
    "  return model_cnn_tn"
   ]
  },
  {
   "cell_type": "code",
   "execution_count": null,
   "id": "uJG7pu8_Fs0W",
   "metadata": {
    "ExecuteTime": {
     "end_time": "2022-03-31T11:52:26.199052Z",
     "start_time": "2022-03-31T11:52:26.127859Z"
    },
    "id": "uJG7pu8_Fs0W"
   },
   "outputs": [],
   "source": [
    "MAX_EPOCHS = 150\n",
    "\n",
    "tuner_cnn = kt.Hyperband(\n",
    "                          model_cnn_builder,\n",
    "                          objective= kt.Objective('val_loss', direction='min'), #(\"val_f1_score\", direction=\"max\"),\n",
    "                          max_epochs=MAX_EPOCHS,\n",
    "                          factor=3,\n",
    "                          directory='cnn_stem_tuner_dir_1',\n",
    "                          project_name='cnn_stem_tuner_val_loss_1'\n",
    "                        )\n",
    "#tuner_cnn.search_space_summary()"
   ]
  },
  {
   "cell_type": "code",
   "execution_count": null,
   "id": "EE2kaEBOGvnH",
   "metadata": {
    "ExecuteTime": {
     "end_time": "2022-03-31T12:51:30.360740Z",
     "start_time": "2022-03-31T12:10:27.298949Z"
    },
    "colab": {
     "base_uri": "https://localhost:8080/"
    },
    "id": "EE2kaEBOGvnH",
    "outputId": "af2178d1-388d-47f4-f49a-1f0459c7bcd6"
   },
   "outputs": [],
   "source": [
    "stop_early = tf.keras.callbacks.EarlyStopping(monitor='val_loss', patience=10)\n",
    "\n",
    "BATCH_SIZE = 25    # Tamanho do batch de treinamento\n",
    "N_EPOCHS = 100\n",
    "\n",
    "tuner_cnn.search(\n",
    "                  x=X_train_cnn, \n",
    "                  y=y_train_cnn, \n",
    "                  epochs=N_EPOCHS, \n",
    "                  batch_size=BATCH_SIZE, \n",
    "                  #verbose='auto', \n",
    "                  validation_data=(X_valid_cnn,y_valid_cnn),\n",
    "                  callbacks=[stop_early],\n",
    "                )"
   ]
  },
  {
   "cell_type": "code",
   "execution_count": null,
   "id": "hcC6otY2O9Jb",
   "metadata": {
    "ExecuteTime": {
     "end_time": "2022-03-31T12:52:00.702683Z",
     "start_time": "2022-03-31T12:52:00.696670Z"
    },
    "colab": {
     "base_uri": "https://localhost:8080/"
    },
    "id": "hcC6otY2O9Jb",
    "outputId": "e5320cb1-f731-4f0f-fd43-e4be75723906"
   },
   "outputs": [],
   "source": [
    "# Get the optimal hyperparameters\n",
    "best_hps=tuner_cnn.get_best_hyperparameters(num_trials=1)[0]\n",
    "\n",
    "for h_param in ['units_1', 'units_2'] + ['learning_rate'] + ['filters_1']:\n",
    "  print(h_param, best_hps.get(h_param))"
   ]
  },
  {
   "cell_type": "code",
   "execution_count": null,
   "id": "SHbpaeT7H4cm",
   "metadata": {
    "ExecuteTime": {
     "end_time": "2022-04-01T19:34:40.274108Z",
     "start_time": "2022-04-01T19:31:00.072074Z"
    },
    "colab": {
     "base_uri": "https://localhost:8080/"
    },
    "id": "SHbpaeT7H4cm",
    "outputId": "88b5c257-a815-4c3d-c650-58d3b6c0886b"
   },
   "outputs": [],
   "source": [
    "# Encontre o número ótimo de épocas para treinar o modelo com os hiperparâmetros obtidos na busca\n",
    "\n",
    "# Build the model with the optimal hyperparameters and train it on the data for 50 epochs\n",
    "model_cnn_tn = tuner_cnn.hypermodel.build(best_hps)\n",
    "\n",
    "history_cnn_tn = model_cnn_tn.fit(\n",
    "                                    x=X_train_cnn, \n",
    "                                    y=y_train_cnn, \n",
    "                                    epochs=N_EPOCHS, \n",
    "                                    batch_size=BATCH_SIZE, \n",
    "                                    verbose='auto',\n",
    "                                    validation_data=(X_valid_cnn,y_valid_cnn)\n",
    "                                  )\n",
    "\n",
    "val_loss_per_epoch = history_cnn_tn.history['val_loss']\n",
    "best_epoch = val_loss_per_epoch.index(min(val_loss_per_epoch)) + 1\n",
    "print('Best epoch: %d' % (best_epoch,))"
   ]
  },
  {
   "cell_type": "code",
   "execution_count": null,
   "id": "2d7733dd",
   "metadata": {
    "ExecuteTime": {
     "end_time": "2022-04-01T19:35:01.389715Z",
     "start_time": "2022-04-01T19:35:00.963878Z"
    },
    "id": "2d7733dd",
    "outputId": "84f49c2f-880a-4586-fce6-ebf4546c819e"
   },
   "outputs": [],
   "source": [
    "plt.figure(figsize=(15, 5))\n",
    "plt.subplot(1, 2, 1)\n",
    "plt.plot(history_cnn_tn.history['val_f1_score'], color='blue', label='val_f1_score')\n",
    "plt.plot(history_cnn_tn.history['f1_score'], color='red', label='train_f1_score')\n",
    "plt.title('f1_score')\n",
    "plt.xlabel('Epochs')\n",
    "plt.ylabel('f1_score')\n",
    "#plt.ylim(None, 1)\n",
    "plt.legend()\n",
    "plt.subplot(1, 2, 2)\n",
    "plt.plot(history_cnn_tn.history['val_loss'], color='blue', label='val_loss')\n",
    "plt.plot(history_cnn_tn.history['loss'], color='red', label='train_loss')\n",
    "plt.title('Loss')\n",
    "plt.xlabel('Epochs')\n",
    "plt.ylabel('Loss')\n",
    "#plt.ylim(0, None);\n",
    "plt.legend();"
   ]
  },
  {
   "cell_type": "code",
   "execution_count": null,
   "id": "vriA0x_UleTJ",
   "metadata": {
    "ExecuteTime": {
     "end_time": "2022-04-01T19:35:12.252219Z",
     "start_time": "2022-04-01T19:35:05.656246Z"
    },
    "id": "vriA0x_UleTJ",
    "outputId": "17e852da-40f7-48be-c3c4-aaa232f01909"
   },
   "outputs": [],
   "source": [
    "hypermodel_cnn = tuner_cnn.hypermodel.build(best_hps)\n",
    "\n",
    "# Retrain the model\n",
    "hypermodel_cnn.fit(\n",
    "                    x=X_train_cnn, \n",
    "                    y=y_train_cnn,  \n",
    "                    epochs=best_epoch,\n",
    "                    batch_size=BATCH_SIZE, \n",
    "                    verbose='auto',\n",
    "                    validation_data=(X_valid_cnn,y_valid_cnn)\n",
    "                  )"
   ]
  },
  {
   "cell_type": "code",
   "execution_count": null,
   "id": "97U1qky-mJOn",
   "metadata": {
    "ExecuteTime": {
     "end_time": "2022-04-01T19:35:20.657161Z",
     "start_time": "2022-04-01T19:35:16.415810Z"
    },
    "colab": {
     "base_uri": "https://localhost:8080/"
    },
    "id": "97U1qky-mJOn",
    "outputId": "b4dad961-57c9-4a47-df85-776349ee6d11"
   },
   "outputs": [],
   "source": [
    "test_loss_cnn_tn, test_f1_score_cnn_tn = hypermodel_cnn.evaluate(X_test_cnn, y_test_cnn, verbose = 'auto')\n",
    "\n",
    "print('Test Loss:', test_loss_cnn_tn)\n",
    "print('Test F1 Score:', test_f1_score_cnn_tn)"
   ]
  },
  {
   "cell_type": "code",
   "execution_count": null,
   "id": "legj8lmsSTZQ",
   "metadata": {
    "ExecuteTime": {
     "end_time": "2022-04-01T19:35:26.448488Z",
     "start_time": "2022-04-01T19:35:26.057179Z"
    },
    "colab": {
     "base_uri": "https://localhost:8080/"
    },
    "id": "legj8lmsSTZQ",
    "outputId": "1763469e-2b59-46b7-be69-8d1826d008f2"
   },
   "outputs": [],
   "source": [
    "y_predicted_hp_cnn = (hypermodel_cnn.predict(X_test_cnn) > 0.5).astype('int8')\n",
    "\n",
    "print(\"\\nClasification report:\\n\", classification_report(y_test_cnn, y_predicted_hp_cnn))\n",
    "print(\"Confusion matrix:\\n\", confusion_matrix(y_test_cnn, y_predicted_hp_cnn))"
   ]
  },
  {
   "cell_type": "code",
   "execution_count": null,
   "id": "95c0385f",
   "metadata": {
    "ExecuteTime": {
     "end_time": "2022-04-01T19:50:11.755497Z",
     "start_time": "2022-04-01T19:50:11.628482Z"
    },
    "id": "95c0385f",
    "outputId": "14d3fda3-6a99-4a9b-fb10-0ba790f24ffe"
   },
   "outputs": [],
   "source": [
    "cnn_confusion_matrix = pd.crosstab(np.reshape(y_test_cnn, len(y_test_cnn)), np.reshape(y_predicted_hp_cnn, len(y_predicted_hp_cnn)), rownames=['Valor Atual'], colnames=['Valor Predito'])\n",
    "\n",
    "sn.heatmap(cnn_confusion_matrix, annot=True, fmt=\"d\", cmap='viridis', linewidths=.5)\n",
    "plt.show()"
   ]
  },
  {
   "cell_type": "markdown",
   "id": "ee0b4840",
   "metadata": {
    "id": "ee0b4840"
   },
   "source": [
    "## C3: LSTM"
   ]
  },
  {
   "cell_type": "code",
   "execution_count": null,
   "id": "n86YxHNWqHzT",
   "metadata": {
    "ExecuteTime": {
     "end_time": "2022-03-31T12:55:56.766995Z",
     "start_time": "2022-03-31T12:55:56.762996Z"
    },
    "id": "n86YxHNWqHzT"
   },
   "outputs": [],
   "source": [
    "# Normalização [-1,1] para entrada na LSTM com função de ativação 'tanh'\n",
    "# X_min = X.min()\n",
    "# X_max = X.max()\n",
    "# range = X_max - X_min\n",
    "\n",
    "# X_norm = ((X - X_min)/range - 0.5) * 2\n",
    "\n",
    "# print('Range após normalização:', [X_norm.min(), X_norm.max()])"
   ]
  },
  {
   "cell_type": "code",
   "execution_count": null,
   "id": "EXTK_u9fy0xR",
   "metadata": {
    "ExecuteTime": {
     "end_time": "2022-03-31T12:55:57.989738Z",
     "start_time": "2022-03-31T12:55:57.981738Z"
    },
    "id": "EXTK_u9fy0xR"
   },
   "outputs": [],
   "source": [
    "#y_lstm = pd.get_dummies(df_reviews['sentiment']).values # one-hot-encoding"
   ]
  },
  {
   "cell_type": "code",
   "execution_count": null,
   "id": "-Gu59qTwm4gj",
   "metadata": {
    "ExecuteTime": {
     "end_time": "2022-03-31T12:55:59.653466Z",
     "start_time": "2022-03-31T12:55:59.149481Z"
    },
    "colab": {
     "base_uri": "https://localhost:8080/"
    },
    "executionInfo": {
     "elapsed": 788,
     "status": "ok",
     "timestamp": 1648518388574,
     "user": {
      "displayName": "David Soares do Monte",
      "userId": "04557725439243141046"
     },
     "user_tz": 180
    },
    "id": "-Gu59qTwm4gj",
    "outputId": "82a79288-5075-40a6-e04a-adc6239b3f00"
   },
   "outputs": [],
   "source": [
    "seed = 1275\n",
    "# Divisao da base de dados em treinamento, validacao e teste\n",
    "X_train_lstm, X_test_lstm, y_train_lstm, y_test_lstm = train_test_split(X, y, test_size=0.1, stratify=y, random_state=seed)\n",
    "X_train_lstm, X_valid_lstm, y_train_lstm, y_valid_lstm = train_test_split(X_train_lstm, y_train_lstm, test_size = 0.2, stratify=y_train_lstm, random_state=seed)\n",
    "\n",
    "print('Shape do Conjunto de Treino: ', X_train_lstm.shape)\n",
    "print('Shape das labels de Treino: ', y_train_lstm.shape)\n",
    "print('Shape do Conjunto de Validação: ', X_valid_lstm.shape)\n",
    "print('Shape das labels de Validação: ', y_valid_lstm.shape)\n",
    "print('Shape do Conjunto de Teste: ', X_test_lstm.shape)\n",
    "print('Shape das labels de Teste: ', y_test_lstm.shape)"
   ]
  },
  {
   "cell_type": "code",
   "execution_count": null,
   "id": "0b2567fe",
   "metadata": {
    "ExecuteTime": {
     "end_time": "2022-03-31T12:56:00.792769Z",
     "start_time": "2022-03-31T12:56:00.507738Z"
    },
    "colab": {
     "base_uri": "https://localhost:8080/"
    },
    "executionInfo": {
     "elapsed": 925,
     "status": "ok",
     "timestamp": 1648518397116,
     "user": {
      "displayName": "David Soares do Monte",
      "userId": "04557725439243141046"
     },
     "user_tz": 180
    },
    "id": "0b2567fe",
    "outputId": "825adf97-63ab-4cb3-a8ed-d84df54b16cd"
   },
   "outputs": [],
   "source": [
    "#vocab_size = len(model_amazon.wv.vocab)\n",
    "#embedding_dim = 10\n",
    "\n",
    "INPUT_SHAPE = (max_len,VECTOR_SIZE,)\n",
    "\n",
    "model_lstm = Sequential([ \n",
    "                         keras.layers.LSTM(32, input_shape=INPUT_SHAPE, activation='tanh'),\n",
    "                         keras.layers.Dropout(0.3),   # Regularizador\n",
    "                         keras.layers.Dense(20, activation='relu'),\n",
    "                         keras.layers.Dropout(0.3),   # Regularizador\n",
    "                         keras.layers.Dense(10, activation='relu'),\n",
    "                         keras.layers.Dropout(0.3),   # Regularizador\n",
    "                         keras.layers.Dense(1, activation='sigmoid')\n",
    "                        ])\n",
    "model_lstm.summary()"
   ]
  },
  {
   "cell_type": "code",
   "execution_count": null,
   "id": "nM63lJ_YON1E",
   "metadata": {
    "ExecuteTime": {
     "end_time": "2022-03-31T12:56:04.502810Z",
     "start_time": "2022-03-31T12:56:04.483812Z"
    },
    "id": "nM63lJ_YON1E"
   },
   "outputs": [],
   "source": [
    "from tensorflow_addons.metrics.f_scores import F1Score\n",
    "\n",
    "model_lstm.compile(loss=\"binary_crossentropy\", optimizer=\"adam\", metrics= F1Score(num_classes=2, average=\"micro\", threshold=0.6))"
   ]
  },
  {
   "cell_type": "code",
   "execution_count": null,
   "id": "r7ouDeExOT0w",
   "metadata": {
    "ExecuteTime": {
     "end_time": "2022-03-31T12:56:06.715375Z",
     "start_time": "2022-03-31T12:56:06.706375Z"
    },
    "id": "r7ouDeExOT0w"
   },
   "outputs": [],
   "source": [
    "batch_size = 25    # Tamanho do batch de treinamento\n",
    "n_epochs = 100"
   ]
  },
  {
   "cell_type": "code",
   "execution_count": null,
   "id": "Evz70p7DOZVb",
   "metadata": {
    "ExecuteTime": {
     "end_time": "2022-03-31T12:57:02.522624Z",
     "start_time": "2022-03-31T12:56:08.244552Z"
    },
    "colab": {
     "base_uri": "https://localhost:8080/"
    },
    "executionInfo": {
     "elapsed": 172856,
     "status": "ok",
     "timestamp": 1648518597415,
     "user": {
      "displayName": "David Soares do Monte",
      "userId": "04557725439243141046"
     },
     "user_tz": 180
    },
    "id": "Evz70p7DOZVb",
    "outputId": "b8dee452-a257-46ac-bbd7-df70e44fedfd"
   },
   "outputs": [],
   "source": [
    "callback_lstm = tf.keras.callbacks.EarlyStopping(monitor='val_loss', patience=10) \n",
    "# This callback will stop the training when there is no improvement inthe loss for five consecutive epochs.\n",
    "\n",
    "history_lstm = model_lstm.fit(\n",
    "                          x=X_train_lstm, \n",
    "                          y=y_train_lstm, \n",
    "                          epochs=n_epochs, \n",
    "                          batch_size=batch_size, \n",
    "                          verbose='auto', \n",
    "                          validation_data=(X_valid_lstm,y_valid_lstm),\n",
    "                          callbacks=[callback_lstm],\n",
    "                        )\n",
    "print('\\nQuantidade de épocas executadas: ', len(history_lstm.history['val_f1_score']))"
   ]
  },
  {
   "cell_type": "code",
   "execution_count": null,
   "id": "WWVaMVxBIDOq",
   "metadata": {
    "ExecuteTime": {
     "end_time": "2022-03-31T12:57:02.746654Z",
     "start_time": "2022-03-31T12:57:02.524622Z"
    },
    "colab": {
     "base_uri": "https://localhost:8080/",
     "height": 350
    },
    "executionInfo": {
     "elapsed": 23310,
     "status": "ok",
     "timestamp": 1648518630120,
     "user": {
      "displayName": "David Soares do Monte",
      "userId": "04557725439243141046"
     },
     "user_tz": 180
    },
    "id": "WWVaMVxBIDOq",
    "outputId": "b0c10d65-d03f-46d4-986b-7b231d90e882"
   },
   "outputs": [],
   "source": [
    "plt.figure(figsize=(15, 5))\n",
    "plt.subplot(1, 2, 1)\n",
    "plt.plot(history_lstm.history['val_f1_score'], color='blue', label='val_f1_score')\n",
    "plt.plot(history_lstm.history['f1_score'], color='red', label='train_f1_score')\n",
    "plt.title('f1_score')\n",
    "plt.xlabel('Epochs')\n",
    "plt.ylabel('f1_score')\n",
    "#plt.ylim(None, 1)\n",
    "plt.legend()\n",
    "plt.subplot(1, 2, 2)\n",
    "plt.plot(history_lstm.history['val_loss'], color='blue', label='val_loss')\n",
    "plt.plot(history_lstm.history['loss'], color='red', label='train_loss')\n",
    "plt.title('Loss')\n",
    "plt.xlabel('Epochs')\n",
    "plt.ylabel('Loss')\n",
    "#plt.ylim(0, None);\n",
    "plt.legend();"
   ]
  },
  {
   "cell_type": "code",
   "execution_count": null,
   "id": "LFxiLbC6p4WM",
   "metadata": {
    "ExecuteTime": {
     "end_time": "2022-03-31T12:57:02.905632Z",
     "start_time": "2022-03-31T12:57:02.748628Z"
    },
    "colab": {
     "base_uri": "https://localhost:8080/"
    },
    "executionInfo": {
     "elapsed": 639,
     "status": "ok",
     "timestamp": 1648518753782,
     "user": {
      "displayName": "David Soares do Monte",
      "userId": "04557725439243141046"
     },
     "user_tz": 180
    },
    "id": "LFxiLbC6p4WM",
    "outputId": "beeef8cd-3e72-455f-e017-63c8bcfc1b20"
   },
   "outputs": [],
   "source": [
    "test_loss_lstm, test_f1_score_lstm = model_lstm.evaluate(X_test_lstm, y_test_lstm, verbose = 'auto')\n",
    "\n",
    "print('Test Loss:', test_loss_lstm)\n",
    "print('Test F1 Score:', test_f1_score_lstm)"
   ]
  },
  {
   "cell_type": "code",
   "execution_count": null,
   "id": "WZGB58X2noXy",
   "metadata": {
    "ExecuteTime": {
     "end_time": "2022-03-31T12:57:03.349672Z",
     "start_time": "2022-03-31T12:57:02.906631Z"
    },
    "colab": {
     "base_uri": "https://localhost:8080/"
    },
    "executionInfo": {
     "elapsed": 675,
     "status": "ok",
     "timestamp": 1648518756712,
     "user": {
      "displayName": "David Soares do Monte",
      "userId": "04557725439243141046"
     },
     "user_tz": 180
    },
    "id": "WZGB58X2noXy",
    "outputId": "b2d0e967-56c0-424f-b1e4-fa4fef3a9875"
   },
   "outputs": [],
   "source": [
    "y_predicted_lstm = (model_lstm.predict(X_test_lstm) > 0.5).astype('int8')\n",
    "print(np.reshape(y_predicted_lstm, len(y_predicted_lstm)))"
   ]
  },
  {
   "cell_type": "code",
   "execution_count": null,
   "id": "FQFjVt9slTyM",
   "metadata": {
    "ExecuteTime": {
     "end_time": "2022-03-31T12:57:03.365673Z",
     "start_time": "2022-03-31T12:57:03.350673Z"
    },
    "colab": {
     "base_uri": "https://localhost:8080/"
    },
    "executionInfo": {
     "elapsed": 263,
     "status": "ok",
     "timestamp": 1648518759137,
     "user": {
      "displayName": "David Soares do Monte",
      "userId": "04557725439243141046"
     },
     "user_tz": 180
    },
    "id": "FQFjVt9slTyM",
    "outputId": "a9464832-d6b5-4f94-985f-c95ef518cc3e"
   },
   "outputs": [],
   "source": [
    "print(\"\\nClasification report:\\n\", classification_report(y_test_lstm, y_predicted_lstm))\n",
    "print(\"Confusion matrix:\\n\", confusion_matrix(y_test_lstm, y_predicted_lstm))"
   ]
  },
  {
   "cell_type": "code",
   "execution_count": null,
   "id": "a0PzCZfWn2kU",
   "metadata": {
    "ExecuteTime": {
     "end_time": "2022-03-31T12:57:03.492672Z",
     "start_time": "2022-03-31T12:57:03.367673Z"
    },
    "colab": {
     "base_uri": "https://localhost:8080/",
     "height": 279
    },
    "executionInfo": {
     "elapsed": 660,
     "status": "ok",
     "timestamp": 1648518774500,
     "user": {
      "displayName": "David Soares do Monte",
      "userId": "04557725439243141046"
     },
     "user_tz": 180
    },
    "id": "a0PzCZfWn2kU",
    "outputId": "68d009db-b14e-4ad2-e52c-dbeb6c9812cd"
   },
   "outputs": [],
   "source": [
    "lstm_confusion_matrix = pd.crosstab(np.reshape(y_test_lstm, len(y_test_lstm)), np.reshape(y_predicted_lstm, len(y_predicted_lstm)), rownames=['Valor Atual'], colnames=['Valor Predito'])\n",
    "\n",
    "sn.heatmap(lstm_confusion_matrix, annot=True, fmt=\"d\", cmap='inferno', linewidths=.5)\n",
    "plt.show()"
   ]
  },
  {
   "cell_type": "markdown",
   "id": "8462dc3d",
   "metadata": {
    "id": "8462dc3d"
   },
   "source": [
    "### Ajuste dos Hiperparâmetros com keras tuner - LSTM"
   ]
  },
  {
   "cell_type": "code",
   "execution_count": null,
   "id": "ccbe462b",
   "metadata": {
    "ExecuteTime": {
     "end_time": "2022-03-31T12:57:35.219816Z",
     "start_time": "2022-03-31T12:57:35.204818Z"
    },
    "id": "ccbe462b"
   },
   "outputs": [],
   "source": [
    "from tensorflow_addons.metrics.f_scores import F1Score\n",
    "METRICS_F1 = F1Score(num_classes=2, average=\"micro\", threshold=0.6)\n",
    "\n",
    "def model_lstm_builder(hp):\n",
    "  # Hiperparameters\n",
    "  #KERNEL_SIZE=3\n",
    "  DROPOUT_PROB=0.30\n",
    "  INPUT_SHAPE = (max_len, VECTOR_SIZE,)\n",
    "\n",
    "  HP_LSTM_UNITS = hp.Int('units_1', min_value=16, max_value=256, step=16)\n",
    "  HP_HIDDEN_LAYER_1_UNITS = hp.Int('units_2', min_value=10, max_value=100, step=10)\n",
    "  HP_HIDDEN_LAYER_2_UNITS = hp.Int('units_3', min_value=10, max_value=50, step=10)\n",
    "\n",
    "  INPUT_SHAPE = (max_len,VECTOR_SIZE,)\n",
    "\n",
    "  model_lstm_tn = Sequential([ \n",
    "                         keras.layers.LSTM(32, input_shape=INPUT_SHAPE, activation='tanh'),\n",
    "                         keras.layers.Dropout(DROPOUT_PROB),   # Regularizador\n",
    "                         keras.layers.Dense(20, activation='relu'),\n",
    "                         keras.layers.Dropout(DROPOUT_PROB),   # Regularizador\n",
    "                         keras.layers.Dense(10, activation='relu'),\n",
    "                         keras.layers.Dropout(DROPOUT_PROB),   # Regularizador\n",
    "                         keras.layers.Dense(1, activation='sigmoid')\n",
    "                        ])\n",
    "\n",
    "  HP_LEARNING_RATE = hp.Choice('learning_rate', values=[1e-2, 1e-3, 1e-4, 1e-5, 1e-6])\n",
    "\n",
    "  model_lstm_tn.compile(\n",
    "      loss=\"binary_crossentropy\", \n",
    "      optimizer=keras.optimizers.Adam(learning_rate=HP_LEARNING_RATE), \n",
    "      metrics=METRICS_F1\n",
    "  )\n",
    "\n",
    "  return model_lstm_tn"
   ]
  },
  {
   "cell_type": "code",
   "execution_count": null,
   "id": "30f05a3d",
   "metadata": {
    "ExecuteTime": {
     "end_time": "2022-03-31T13:04:42.790669Z",
     "start_time": "2022-03-31T13:04:42.514699Z"
    },
    "id": "30f05a3d"
   },
   "outputs": [],
   "source": [
    "MAX_EPOCHS = 150\n",
    "\n",
    "tuner_lstm = kt.Hyperband(\n",
    "                          model_lstm_builder,\n",
    "                          objective= kt.Objective(\"val_loss\", direction=\"min\"),\n",
    "                          max_epochs=MAX_EPOCHS,\n",
    "                          factor=3,\n",
    "                          directory='lstm_stem_tuner_dir_1',\n",
    "                          project_name='lstm_stem_tuner_2'\n",
    "                        )\n",
    "#tuner_cnn.search_space_summary()"
   ]
  },
  {
   "cell_type": "code",
   "execution_count": null,
   "id": "38d44200",
   "metadata": {
    "ExecuteTime": {
     "end_time": "2022-03-31T14:05:54.936471Z",
     "start_time": "2022-03-31T13:04:48.342852Z"
    },
    "id": "38d44200",
    "outputId": "908af4d0-97e2-4590-af85-81d4fd7ca07a"
   },
   "outputs": [],
   "source": [
    "stop_early = tf.keras.callbacks.EarlyStopping(monitor='val_f1_score', patience=10)\n",
    "\n",
    "BATCH_SIZE = 25    # Tamanho do batch de treinamento\n",
    "N_EPOCHS = 100\n",
    "\n",
    "tuner_lstm.search(\n",
    "                  x=X_train_lstm, \n",
    "                  y=y_train_lstm, \n",
    "                  epochs=N_EPOCHS, \n",
    "                  batch_size=BATCH_SIZE, \n",
    "                  #verbose='auto', \n",
    "                  validation_data=(X_valid_lstm,y_valid_lstm),\n",
    "                  callbacks=[stop_early],\n",
    "                )"
   ]
  },
  {
   "cell_type": "code",
   "execution_count": null,
   "id": "7afc3d37",
   "metadata": {
    "ExecuteTime": {
     "end_time": "2022-03-31T14:06:38.581058Z",
     "start_time": "2022-03-31T14:06:38.574061Z"
    },
    "id": "7afc3d37",
    "outputId": "193f25da-836f-4560-ae06-41580b92404f"
   },
   "outputs": [],
   "source": [
    "# Get the optimal hyperparameters\n",
    "best_hps_lstm=tuner_lstm.get_best_hyperparameters(num_trials=1)[0]\n",
    "\n",
    "for h_param in ['units_1', 'units_2', 'units_3'] + ['learning_rate']:\n",
    "  print(h_param, best_hps_lstm.get(h_param))"
   ]
  },
  {
   "cell_type": "code",
   "execution_count": null,
   "id": "9717f3a7",
   "metadata": {
    "ExecuteTime": {
     "end_time": "2022-04-01T19:40:00.819213Z",
     "start_time": "2022-04-01T19:37:22.242286Z"
    },
    "id": "9717f3a7",
    "outputId": "25297bb7-4e4b-4699-af8e-e105f31fe045"
   },
   "outputs": [],
   "source": [
    "# Encontre o número ótimo de épocas para treinar o modelo com os hiperparâmetros obtidos na busca\n",
    "\n",
    "# Build the model with the optimal hyperparameters and train it on the data for 50 epochs\n",
    "model_lstm_tn = tuner_lstm.hypermodel.build(best_hps_lstm)\n",
    "\n",
    "history_lstm_tn = model_lstm_tn.fit(\n",
    "                                    x=X_train_lstm, \n",
    "                                    y=y_train_lstm, \n",
    "                                    epochs=N_EPOCHS, \n",
    "                                    batch_size=BATCH_SIZE, \n",
    "                                    verbose='auto',\n",
    "                                    validation_data=(X_valid_lstm,y_valid_lstm)\n",
    "                                  )\n",
    "\n",
    "val_loss_per_epoch = history_lstm_tn.history['val_loss']\n",
    "best_epoch = val_loss_per_epoch.index(min(val_loss_per_epoch)) + 1\n",
    "print('Best epoch: %d' % (best_epoch,))"
   ]
  },
  {
   "cell_type": "code",
   "execution_count": null,
   "id": "2e86e34b",
   "metadata": {
    "ExecuteTime": {
     "end_time": "2022-04-01T19:40:31.852203Z",
     "start_time": "2022-04-01T19:40:06.273406Z"
    },
    "id": "2e86e34b",
    "outputId": "31781c7f-2458-41e2-9145-5c6e3b03875b"
   },
   "outputs": [],
   "source": [
    "hypermodel_lstm = tuner_lstm.hypermodel.build(best_hps_lstm)\n",
    "\n",
    "# Retrain the model\n",
    "hypermodel_lstm.fit(\n",
    "                    x=X_train_lstm, \n",
    "                    y=y_train_lstm,  \n",
    "                    epochs=best_epoch,\n",
    "                    batch_size=BATCH_SIZE, \n",
    "                    verbose='auto',\n",
    "                    validation_data=(X_valid_lstm,y_valid_lstm)\n",
    "                  )"
   ]
  },
  {
   "cell_type": "code",
   "execution_count": null,
   "id": "9cbce60b",
   "metadata": {
    "ExecuteTime": {
     "end_time": "2022-04-01T19:40:38.053176Z",
     "start_time": "2022-04-01T19:40:37.664848Z"
    },
    "id": "9cbce60b",
    "outputId": "280b10ba-5e46-4b7a-e648-31839c4c26ae"
   },
   "outputs": [],
   "source": [
    "test_loss_lstm_tn, test_f1_score_lstm_tn = hypermodel_lstm.evaluate(X_test_lstm, y_test_lstm, verbose = 'auto')\n",
    "\n",
    "print('Test Loss:', test_loss_lstm_tn)\n",
    "print('Test F1 Score:', test_f1_score_lstm_tn)"
   ]
  },
  {
   "cell_type": "code",
   "execution_count": null,
   "id": "630dcd21",
   "metadata": {
    "ExecuteTime": {
     "end_time": "2022-04-01T19:40:48.556883Z",
     "start_time": "2022-04-01T19:40:47.840883Z"
    },
    "id": "630dcd21",
    "outputId": "82a27c1b-b77c-4a5c-95fb-5301647cd25a"
   },
   "outputs": [],
   "source": [
    "y_predicted_hp_lstm = (hypermodel_lstm.predict(X_test_lstm) > 0.5).astype('int8')\n",
    "\n",
    "print(\"\\nClasification report:\\n\", classification_report(y_test_lstm, y_predicted_hp_lstm))\n",
    "print(\"Confusion matrix:\\n\", confusion_matrix(y_test_lstm, y_predicted_hp_lstm))"
   ]
  },
  {
   "cell_type": "code",
   "execution_count": null,
   "id": "8eccec87",
   "metadata": {
    "ExecuteTime": {
     "end_time": "2022-04-01T19:48:56.832073Z",
     "start_time": "2022-04-01T19:48:56.705070Z"
    },
    "id": "8eccec87",
    "outputId": "9698d548-c44f-4062-f585-05f23e186182"
   },
   "outputs": [],
   "source": [
    "lstm_confusion_matrix = pd.crosstab(np.reshape(y_test_lstm, len(y_test_lstm)), np.reshape(y_predicted_hp_lstm, len(y_predicted_hp_lstm)), rownames=['Valor Atual'], colnames=['Valor Predito'])\n",
    "\n",
    "sn.heatmap(lstm_confusion_matrix, annot=True, fmt=\"d\", cmap='viridis', linewidths=.5)\n",
    "plt.show()"
   ]
  }
 ],
 "metadata": {
  "accelerator": "GPU",
  "colab": {
   "collapsed_sections": [
    "581c4739",
    "pR1wHN7hA0DL"
   ],
   "name": "TCC_NLP_final_project_with_stemming.ipynb",
   "provenance": [
    {
     "file_id": "18W1yaEqrkH-rUUUpoWYvHtIM5GKiIJhm",
     "timestamp": 1656717964061
    }
   ]
  },
  "kernelspec": {
   "display_name": "Python 3 (ipykernel)",
   "language": "python",
   "name": "python3"
  },
  "language_info": {
   "codemirror_mode": {
    "name": "ipython",
    "version": 3
   },
   "file_extension": ".py",
   "mimetype": "text/x-python",
   "name": "python",
   "nbconvert_exporter": "python",
   "pygments_lexer": "ipython3",
   "version": "3.10.4"
  },
  "varInspector": {
   "cols": {
    "lenName": 16,
    "lenType": 16,
    "lenVar": 40
   },
   "kernels_config": {
    "python": {
     "delete_cmd_postfix": "",
     "delete_cmd_prefix": "del ",
     "library": "var_list.py",
     "varRefreshCmd": "print(var_dic_list())"
    },
    "r": {
     "delete_cmd_postfix": ") ",
     "delete_cmd_prefix": "rm(",
     "library": "var_list.r",
     "varRefreshCmd": "cat(var_dic_list()) "
    }
   },
   "types_to_exclude": [
    "module",
    "function",
    "builtin_function_or_method",
    "instance",
    "_Feature"
   ],
   "window_display": false
  }
 },
 "nbformat": 4,
 "nbformat_minor": 5
}
